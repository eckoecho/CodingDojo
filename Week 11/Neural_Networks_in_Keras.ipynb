{
  "nbformat": 4,
  "nbformat_minor": 0,
  "metadata": {
    "colab": {
      "provenance": [],
      "toc_visible": true,
      "mount_file_id": "1_E45ClBgR6Gx3JNp-zVH1sNE-tw3MmRH",
      "authorship_tag": "ABX9TyPEEyZSnlSlLFE2MLkijrI9",
      "include_colab_link": true
    },
    "kernelspec": {
      "name": "python3",
      "display_name": "Python 3"
    },
    "language_info": {
      "name": "python"
    }
  },
  "cells": [
    {
      "cell_type": "markdown",
      "metadata": {
        "id": "view-in-github",
        "colab_type": "text"
      },
      "source": [
        "<a href=\"https://colab.research.google.com/github/eckoecho/CodingDojo/blob/week-11/Week%2011/Neural_Networks_in_Keras.ipynb\" target=\"_parent\"><img src=\"https://colab.research.google.com/assets/colab-badge.svg\" alt=\"Open In Colab\"/></a>"
      ]
    },
    {
      "cell_type": "code",
      "execution_count": 10,
      "metadata": {
        "id": "976jKMor2J82"
      },
      "outputs": [],
      "source": [
        "import numpy as np\n",
        "import pandas as pd\n",
        "import matplotlib.pyplot as plt\n",
        "from sklearn.preprocessing import StandardScaler\n",
        "from sklearn.model_selection import train_test_split\n",
        "from tensorflow.keras.models import Sequential\n",
        "from tensorflow.keras.layers import Dense"
      ]
    },
    {
      "cell_type": "code",
      "source": [
        "fpath = \"/content/drive/MyDrive/CodingDojo/03-AdvancedML/Week11/Data/nba.csv\"\n",
        "df = pd.read_csv(fpath, index_col=\"Name\")\n",
        "df.head()"
      ],
      "metadata": {
        "colab": {
          "base_uri": "https://localhost:8080/",
          "height": 351
        },
        "id": "YkJZtmk72mPp",
        "outputId": "950d689b-4a07-4a14-f0c0-2a328a58019f"
      },
      "execution_count": 11,
      "outputs": [
        {
          "output_type": "execute_result",
          "data": {
            "text/plain": [
              "                 GP   MIN  PTS  FGM  FGA  ...  AST  STL  BLK  TOV  TARGET_5Yrs\n",
              "Name                                      ...                                 \n",
              "Brandon Ingram   36  27.4  7.4  2.6  7.6  ...  1.9  0.4  0.4  1.3          0.0\n",
              "Andrew Harrison  35  26.9  7.2  2.0  6.7  ...  3.7  1.1  0.5  1.6          0.0\n",
              "JaKarr Sampson   74  15.3  5.2  2.0  4.7  ...  1.0  0.5  0.3  1.0          0.0\n",
              "Malik Sealy      58  11.6  5.7  2.3  5.5  ...  0.8  0.6  0.1  1.0          1.0\n",
              "Matt Geiger      48  11.5  4.5  1.6  3.0  ...  0.3  0.3  0.4  0.8          1.0\n",
              "\n",
              "[5 rows x 20 columns]"
            ],
            "text/html": [
              "\n",
              "  <div id=\"df-ac7df0c3-cbc1-445d-93ca-4116ce645872\">\n",
              "    <div class=\"colab-df-container\">\n",
              "      <div>\n",
              "<style scoped>\n",
              "    .dataframe tbody tr th:only-of-type {\n",
              "        vertical-align: middle;\n",
              "    }\n",
              "\n",
              "    .dataframe tbody tr th {\n",
              "        vertical-align: top;\n",
              "    }\n",
              "\n",
              "    .dataframe thead th {\n",
              "        text-align: right;\n",
              "    }\n",
              "</style>\n",
              "<table border=\"1\" class=\"dataframe\">\n",
              "  <thead>\n",
              "    <tr style=\"text-align: right;\">\n",
              "      <th></th>\n",
              "      <th>GP</th>\n",
              "      <th>MIN</th>\n",
              "      <th>PTS</th>\n",
              "      <th>FGM</th>\n",
              "      <th>FGA</th>\n",
              "      <th>FG%</th>\n",
              "      <th>3P Made</th>\n",
              "      <th>3PA</th>\n",
              "      <th>3P%</th>\n",
              "      <th>FTM</th>\n",
              "      <th>FTA</th>\n",
              "      <th>FT%</th>\n",
              "      <th>OREB</th>\n",
              "      <th>DREB</th>\n",
              "      <th>REB</th>\n",
              "      <th>AST</th>\n",
              "      <th>STL</th>\n",
              "      <th>BLK</th>\n",
              "      <th>TOV</th>\n",
              "      <th>TARGET_5Yrs</th>\n",
              "    </tr>\n",
              "    <tr>\n",
              "      <th>Name</th>\n",
              "      <th></th>\n",
              "      <th></th>\n",
              "      <th></th>\n",
              "      <th></th>\n",
              "      <th></th>\n",
              "      <th></th>\n",
              "      <th></th>\n",
              "      <th></th>\n",
              "      <th></th>\n",
              "      <th></th>\n",
              "      <th></th>\n",
              "      <th></th>\n",
              "      <th></th>\n",
              "      <th></th>\n",
              "      <th></th>\n",
              "      <th></th>\n",
              "      <th></th>\n",
              "      <th></th>\n",
              "      <th></th>\n",
              "      <th></th>\n",
              "    </tr>\n",
              "  </thead>\n",
              "  <tbody>\n",
              "    <tr>\n",
              "      <th>Brandon Ingram</th>\n",
              "      <td>36</td>\n",
              "      <td>27.4</td>\n",
              "      <td>7.4</td>\n",
              "      <td>2.6</td>\n",
              "      <td>7.6</td>\n",
              "      <td>34.7</td>\n",
              "      <td>0.5</td>\n",
              "      <td>2.1</td>\n",
              "      <td>25.0</td>\n",
              "      <td>1.6</td>\n",
              "      <td>2.3</td>\n",
              "      <td>69.9</td>\n",
              "      <td>0.7</td>\n",
              "      <td>3.4</td>\n",
              "      <td>4.1</td>\n",
              "      <td>1.9</td>\n",
              "      <td>0.4</td>\n",
              "      <td>0.4</td>\n",
              "      <td>1.3</td>\n",
              "      <td>0.0</td>\n",
              "    </tr>\n",
              "    <tr>\n",
              "      <th>Andrew Harrison</th>\n",
              "      <td>35</td>\n",
              "      <td>26.9</td>\n",
              "      <td>7.2</td>\n",
              "      <td>2.0</td>\n",
              "      <td>6.7</td>\n",
              "      <td>29.6</td>\n",
              "      <td>0.7</td>\n",
              "      <td>2.8</td>\n",
              "      <td>23.5</td>\n",
              "      <td>2.6</td>\n",
              "      <td>3.4</td>\n",
              "      <td>76.5</td>\n",
              "      <td>0.5</td>\n",
              "      <td>2.0</td>\n",
              "      <td>2.4</td>\n",
              "      <td>3.7</td>\n",
              "      <td>1.1</td>\n",
              "      <td>0.5</td>\n",
              "      <td>1.6</td>\n",
              "      <td>0.0</td>\n",
              "    </tr>\n",
              "    <tr>\n",
              "      <th>JaKarr Sampson</th>\n",
              "      <td>74</td>\n",
              "      <td>15.3</td>\n",
              "      <td>5.2</td>\n",
              "      <td>2.0</td>\n",
              "      <td>4.7</td>\n",
              "      <td>42.2</td>\n",
              "      <td>0.4</td>\n",
              "      <td>1.7</td>\n",
              "      <td>24.4</td>\n",
              "      <td>0.9</td>\n",
              "      <td>1.3</td>\n",
              "      <td>67.0</td>\n",
              "      <td>0.5</td>\n",
              "      <td>1.7</td>\n",
              "      <td>2.2</td>\n",
              "      <td>1.0</td>\n",
              "      <td>0.5</td>\n",
              "      <td>0.3</td>\n",
              "      <td>1.0</td>\n",
              "      <td>0.0</td>\n",
              "    </tr>\n",
              "    <tr>\n",
              "      <th>Malik Sealy</th>\n",
              "      <td>58</td>\n",
              "      <td>11.6</td>\n",
              "      <td>5.7</td>\n",
              "      <td>2.3</td>\n",
              "      <td>5.5</td>\n",
              "      <td>42.6</td>\n",
              "      <td>0.1</td>\n",
              "      <td>0.5</td>\n",
              "      <td>22.6</td>\n",
              "      <td>0.9</td>\n",
              "      <td>1.3</td>\n",
              "      <td>68.9</td>\n",
              "      <td>1.0</td>\n",
              "      <td>0.9</td>\n",
              "      <td>1.9</td>\n",
              "      <td>0.8</td>\n",
              "      <td>0.6</td>\n",
              "      <td>0.1</td>\n",
              "      <td>1.0</td>\n",
              "      <td>1.0</td>\n",
              "    </tr>\n",
              "    <tr>\n",
              "      <th>Matt Geiger</th>\n",
              "      <td>48</td>\n",
              "      <td>11.5</td>\n",
              "      <td>4.5</td>\n",
              "      <td>1.6</td>\n",
              "      <td>3.0</td>\n",
              "      <td>52.4</td>\n",
              "      <td>0.0</td>\n",
              "      <td>0.1</td>\n",
              "      <td>0.0</td>\n",
              "      <td>1.3</td>\n",
              "      <td>1.9</td>\n",
              "      <td>67.4</td>\n",
              "      <td>1.0</td>\n",
              "      <td>1.5</td>\n",
              "      <td>2.5</td>\n",
              "      <td>0.3</td>\n",
              "      <td>0.3</td>\n",
              "      <td>0.4</td>\n",
              "      <td>0.8</td>\n",
              "      <td>1.0</td>\n",
              "    </tr>\n",
              "  </tbody>\n",
              "</table>\n",
              "</div>\n",
              "      <button class=\"colab-df-convert\" onclick=\"convertToInteractive('df-ac7df0c3-cbc1-445d-93ca-4116ce645872')\"\n",
              "              title=\"Convert this dataframe to an interactive table.\"\n",
              "              style=\"display:none;\">\n",
              "        \n",
              "  <svg xmlns=\"http://www.w3.org/2000/svg\" height=\"24px\"viewBox=\"0 0 24 24\"\n",
              "       width=\"24px\">\n",
              "    <path d=\"M0 0h24v24H0V0z\" fill=\"none\"/>\n",
              "    <path d=\"M18.56 5.44l.94 2.06.94-2.06 2.06-.94-2.06-.94-.94-2.06-.94 2.06-2.06.94zm-11 1L8.5 8.5l.94-2.06 2.06-.94-2.06-.94L8.5 2.5l-.94 2.06-2.06.94zm10 10l.94 2.06.94-2.06 2.06-.94-2.06-.94-.94-2.06-.94 2.06-2.06.94z\"/><path d=\"M17.41 7.96l-1.37-1.37c-.4-.4-.92-.59-1.43-.59-.52 0-1.04.2-1.43.59L10.3 9.45l-7.72 7.72c-.78.78-.78 2.05 0 2.83L4 21.41c.39.39.9.59 1.41.59.51 0 1.02-.2 1.41-.59l7.78-7.78 2.81-2.81c.8-.78.8-2.07 0-2.86zM5.41 20L4 18.59l7.72-7.72 1.47 1.35L5.41 20z\"/>\n",
              "  </svg>\n",
              "      </button>\n",
              "      \n",
              "  <style>\n",
              "    .colab-df-container {\n",
              "      display:flex;\n",
              "      flex-wrap:wrap;\n",
              "      gap: 12px;\n",
              "    }\n",
              "\n",
              "    .colab-df-convert {\n",
              "      background-color: #E8F0FE;\n",
              "      border: none;\n",
              "      border-radius: 50%;\n",
              "      cursor: pointer;\n",
              "      display: none;\n",
              "      fill: #1967D2;\n",
              "      height: 32px;\n",
              "      padding: 0 0 0 0;\n",
              "      width: 32px;\n",
              "    }\n",
              "\n",
              "    .colab-df-convert:hover {\n",
              "      background-color: #E2EBFA;\n",
              "      box-shadow: 0px 1px 2px rgba(60, 64, 67, 0.3), 0px 1px 3px 1px rgba(60, 64, 67, 0.15);\n",
              "      fill: #174EA6;\n",
              "    }\n",
              "\n",
              "    [theme=dark] .colab-df-convert {\n",
              "      background-color: #3B4455;\n",
              "      fill: #D2E3FC;\n",
              "    }\n",
              "\n",
              "    [theme=dark] .colab-df-convert:hover {\n",
              "      background-color: #434B5C;\n",
              "      box-shadow: 0px 1px 3px 1px rgba(0, 0, 0, 0.15);\n",
              "      filter: drop-shadow(0px 1px 2px rgba(0, 0, 0, 0.3));\n",
              "      fill: #FFFFFF;\n",
              "    }\n",
              "  </style>\n",
              "\n",
              "      <script>\n",
              "        const buttonEl =\n",
              "          document.querySelector('#df-ac7df0c3-cbc1-445d-93ca-4116ce645872 button.colab-df-convert');\n",
              "        buttonEl.style.display =\n",
              "          google.colab.kernel.accessAllowed ? 'block' : 'none';\n",
              "\n",
              "        async function convertToInteractive(key) {\n",
              "          const element = document.querySelector('#df-ac7df0c3-cbc1-445d-93ca-4116ce645872');\n",
              "          const dataTable =\n",
              "            await google.colab.kernel.invokeFunction('convertToInteractive',\n",
              "                                                     [key], {});\n",
              "          if (!dataTable) return;\n",
              "\n",
              "          const docLinkHtml = 'Like what you see? Visit the ' +\n",
              "            '<a target=\"_blank\" href=https://colab.research.google.com/notebooks/data_table.ipynb>data table notebook</a>'\n",
              "            + ' to learn more about interactive tables.';\n",
              "          element.innerHTML = '';\n",
              "          dataTable['output_type'] = 'display_data';\n",
              "          await google.colab.output.renderOutput(dataTable, element);\n",
              "          const docLink = document.createElement('div');\n",
              "          docLink.innerHTML = docLinkHtml;\n",
              "          element.appendChild(docLink);\n",
              "        }\n",
              "      </script>\n",
              "    </div>\n",
              "  </div>\n",
              "  "
            ]
          },
          "metadata": {},
          "execution_count": 11
        }
      ]
    },
    {
      "cell_type": "markdown",
      "source": [
        "# Clean and Split"
      ],
      "metadata": {
        "id": "3JdDa9Dn28rE"
      }
    },
    {
      "cell_type": "code",
      "source": [
        "# Drop missings\n",
        "df.dropna(inplace = True)\n",
        "# Save X data\n",
        "X = df.drop(columns = 'TARGET_5Yrs')\n",
        "# Encode our target\n",
        "y = df['TARGET_5Yrs']"
      ],
      "metadata": {
        "id": "wD2zdGMS3Ne_"
      },
      "execution_count": 12,
      "outputs": []
    },
    {
      "cell_type": "code",
      "source": [
        "X_train, X_test, y_train, y_test = train_test_split(X,y, random_state=3)"
      ],
      "metadata": {
        "id": "3gV9socD2_Lo"
      },
      "execution_count": 13,
      "outputs": []
    },
    {
      "cell_type": "markdown",
      "source": [
        "# Scale Data"
      ],
      "metadata": {
        "id": "-fHsPZJo4U48"
      }
    },
    {
      "cell_type": "code",
      "source": [
        "scaler = StandardScaler()\n",
        "X_train = scaler.fit_transform(X_train)\n",
        "X_test = scaler.transform(X_test)"
      ],
      "metadata": {
        "id": "FAjdik_j32YJ"
      },
      "execution_count": 14,
      "outputs": []
    },
    {
      "cell_type": "markdown",
      "source": [
        "# Define our network structure"
      ],
      "metadata": {
        "id": "yHG_NoWb4X9i"
      }
    },
    {
      "cell_type": "code",
      "source": [
        "# Step 1: Define our network structure\n",
        "# Save the number of features we have as our input shape\n",
        "input_shape = X_train.shape[1]\n",
        "input_shape"
      ],
      "metadata": {
        "colab": {
          "base_uri": "https://localhost:8080/"
        },
        "id": "ROk5JVzk4ZoW",
        "outputId": "1603886b-0451-491e-dfd7-f04198eb7c49"
      },
      "execution_count": 16,
      "outputs": [
        {
          "output_type": "execute_result",
          "data": {
            "text/plain": [
              "19"
            ]
          },
          "metadata": {},
          "execution_count": 16
        }
      ]
    },
    {
      "cell_type": "code",
      "source": [
        "# Sequential model\n",
        "model = Sequential()"
      ],
      "metadata": {
        "id": "cYQm26p04wWP"
      },
      "execution_count": 20,
      "outputs": []
    },
    {
      "cell_type": "code",
      "source": [
        "# First hidden layer\n",
        "model.add(Dense(19, # How many neurons you have in your first hidden layer\n",
        "                input_dim = input_shape,  # What is the shape of your input features\n",
        "                activation = \"relu\"))\n",
        "# Second hidden layer\n",
        "model.add(Dense(10, # How many neurons you have in your second hidden layer\n",
        "                activation = 'relu')) # What activation function are you using?"
      ],
      "metadata": {
        "id": "fPLPmlR9SAdM"
      },
      "execution_count": 23,
      "outputs": []
    },
    {
      "cell_type": "code",
      "source": [
        "# Output layer\n",
        "model.add(Dense(1,\n",
        "                activation=\"sigmoid\"))"
      ],
      "metadata": {
        "id": "94cgsMu-Tb6H"
      },
      "execution_count": 24,
      "outputs": []
    },
    {
      "cell_type": "markdown",
      "source": [
        "# Compile our model"
      ],
      "metadata": {
        "id": "4pR9RsnoTmtR"
      }
    },
    {
      "cell_type": "code",
      "source": [
        "# Step 2: Compile\n",
        "model.compile(loss=\"bce\", optimizer=\"adam\")"
      ],
      "metadata": {
        "id": "7-SCPdXSTqm7"
      },
      "execution_count": 25,
      "outputs": []
    },
    {
      "cell_type": "markdown",
      "source": [
        "# Fit our model"
      ],
      "metadata": {
        "id": "LuOR3YWxUamm"
      }
    },
    {
      "cell_type": "code",
      "source": [
        "# Step 3: Fit our model\n",
        "history = model.fit(X_train, y_train,\n",
        "                    validation_data =(X_test, y_test),\n",
        "                    epochs=10)"
      ],
      "metadata": {
        "colab": {
          "base_uri": "https://localhost:8080/"
        },
        "id": "wGdU8rBfUYCQ",
        "outputId": "28b34ad0-838f-4c24-e3a7-64680e5a8896"
      },
      "execution_count": 27,
      "outputs": [
        {
          "output_type": "stream",
          "name": "stdout",
          "text": [
            "Epoch 1/10\n",
            "32/32 [==============================] - 2s 10ms/step - loss: 0.6270 - val_loss: 0.5899\n",
            "Epoch 2/10\n",
            "32/32 [==============================] - 0s 5ms/step - loss: 0.6038 - val_loss: 0.5852\n",
            "Epoch 3/10\n",
            "32/32 [==============================] - 0s 4ms/step - loss: 0.5968 - val_loss: 0.5803\n",
            "Epoch 4/10\n",
            "32/32 [==============================] - 0s 3ms/step - loss: 0.5871 - val_loss: 0.5802\n",
            "Epoch 5/10\n",
            "32/32 [==============================] - 0s 4ms/step - loss: 0.5810 - val_loss: 0.5751\n",
            "Epoch 6/10\n",
            "32/32 [==============================] - 0s 4ms/step - loss: 0.5756 - val_loss: 0.5774\n",
            "Epoch 7/10\n",
            "32/32 [==============================] - 0s 4ms/step - loss: 0.5715 - val_loss: 0.5735\n",
            "Epoch 8/10\n",
            "32/32 [==============================] - 0s 4ms/step - loss: 0.5663 - val_loss: 0.5714\n",
            "Epoch 9/10\n",
            "32/32 [==============================] - 0s 4ms/step - loss: 0.5619 - val_loss: 0.5690\n",
            "Epoch 10/10\n",
            "32/32 [==============================] - 0s 4ms/step - loss: 0.5588 - val_loss: 0.5694\n"
          ]
        }
      ]
    },
    {
      "cell_type": "code",
      "source": [
        "# Visualize the loss\n",
        "plt.plot(history.history[\"loss\"], label=\"Train Loss\")\n",
        "plt.plot(history.history[\"val_loss\"], label=\"Test Loss\")\n",
        "plt.legend();"
      ],
      "metadata": {
        "colab": {
          "base_uri": "https://localhost:8080/",
          "height": 433
        },
        "id": "OsxYc0BAZqse",
        "outputId": "3010b516-eab1-4e3f-9050-0e872f2a6500"
      },
      "execution_count": 28,
      "outputs": [
        {
          "output_type": "display_data",
          "data": {
            "text/plain": [
              "<Figure size 640x480 with 1 Axes>"
            ],
            "image/png": "[encoded data removed]"
          },
          "metadata": {}
        }
      ]
    }
  ]
}