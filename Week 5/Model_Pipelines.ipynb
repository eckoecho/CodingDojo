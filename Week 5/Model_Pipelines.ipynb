{
  "nbformat": 4,
  "nbformat_minor": 0,
  "metadata": {
    "colab": {
      "provenance": [],
      "toc_visible": true,
      "mount_file_id": "10kSWfvMm0oTibkZ7kYcmuvypmHqjr3u1",
      "authorship_tag": "ABX9TyMDtmjyNfrRKYwjGWsfk4AA",
      "include_colab_link": true
    },
    "kernelspec": {
      "name": "python3",
      "display_name": "Python 3"
    },
    "language_info": {
      "name": "python"
    }
  },
  "cells": [
    {
      "cell_type": "markdown",
      "metadata": {
        "id": "view-in-github",
        "colab_type": "text"
      },
      "source": [
        "<a href=\"https://colab.research.google.com/github/eckoecho/CodingDojo/blob/Model/Model_Pipelines.ipynb\" target=\"_parent\"><img src=\"https://colab.research.google.com/assets/colab-badge.svg\" alt=\"Open In Colab\"/></a>"
      ]
    },
    {
      "cell_type": "code",
      "execution_count": 27,
      "metadata": {
        "id": "D4jfwy1WJScv"
      },
      "outputs": [],
      "source": [
        "#Importing necessary libraries\n",
        "import pandas as pd\n",
        "from sklearn.impute import SimpleImputer\n",
        "from sklearn.preprocessing import OneHotEncoder, OrdinalEncoder, StandardScaler\n",
        "from sklearn.model_selection import train_test_split\n",
        "from sklearn import set_config\n",
        "from sklearn.metrics import mean_absolute_error, mean_squared_error, r2_score\n",
        "from sklearn.pipeline import make_pipeline\n",
        "from sklearn.linear_model import LinearRegression\n",
        "from sklearn.compose import ColumnTransformer, make_column_selector\n",
        "set_config(transform_output=\"pandas\")"
      ]
    },
    {
      "cell_type": "code",
      "source": [
        "#Load data\n",
        "fpath=\"/content/drive/MyDrive/CodingDojo/02-MachineLearning/Week06/Data/medical_data.csv\"\n",
        "df = pd.read_csv(fpath)\n",
        "df.head()"
      ],
      "metadata": {
        "colab": {
          "base_uri": "https://localhost:8080/",
          "height": 300
        },
        "id": "LRtdiPMNLPBw",
        "outputId": "2b2d7fbb-fe67-489a-f844-57685bd4d369"
      },
      "execution_count": 28,
      "outputs": [
        {
          "output_type": "execute_result",
          "data": {
            "text/plain": [
              "  State       Lat       Lng      Area  Children  Age    Income   Marital  \\\n",
              "0    AL  34.34960 -86.72508  Suburban       1.0   53  86575.93  Divorced   \n",
              "1    FL  30.84513 -85.22907     Urban       3.0   51  46805.99   Married   \n",
              "2    SD  43.54321 -96.63772  Suburban       3.0   53  14370.14   Widowed   \n",
              "3    MN  43.89744 -93.51479  Suburban       0.0   78  39741.49   Married   \n",
              "4    VA  37.59894 -76.88958     Rural       1.0   22   1209.56   Widowed   \n",
              "\n",
              "   Gender  ReAdmis  ...  Hyperlipidemia  BackPain  Anxiety  Allergic_rhinitis  \\\n",
              "0    Male        0  ...             0.0       1.0      1.0                1.0   \n",
              "1  Female        0  ...             0.0       0.0      0.0                0.0   \n",
              "2  Female        0  ...             0.0       0.0      0.0                0.0   \n",
              "3    Male        0  ...             0.0       0.0      0.0                0.0   \n",
              "4  Female        0  ...             1.0       0.0      0.0                1.0   \n",
              "\n",
              "   Reflux_esophagitis Asthma     Services  Initial_days  TotalCharge  \\\n",
              "0                   0      1   Blood Work     10.585770  3726.702860   \n",
              "1                   1      0  Intravenous     15.129562  4193.190458   \n",
              "2                   0      0   Blood Work      4.772177  2434.234222   \n",
              "3                   1      1   Blood Work      1.714879  2127.830423   \n",
              "4                   0      0      CT Scan      1.254807  2113.073274   \n",
              "\n",
              "   Additional_charges  \n",
              "0        17939.403420  \n",
              "1        17612.998120  \n",
              "2        17505.192460  \n",
              "3        12993.437350  \n",
              "4         3716.525786  \n",
              "\n",
              "[5 rows x 32 columns]"
            ],
            "text/html": [
              "\n",
              "  <div id=\"df-7c3a9cb5-11df-497c-82bc-56798ae1d5e0\">\n",
              "    <div class=\"colab-df-container\">\n",
              "      <div>\n",
              "<style scoped>\n",
              "    .dataframe tbody tr th:only-of-type {\n",
              "        vertical-align: middle;\n",
              "    }\n",
              "\n",
              "    .dataframe tbody tr th {\n",
              "        vertical-align: top;\n",
              "    }\n",
              "\n",
              "    .dataframe thead th {\n",
              "        text-align: right;\n",
              "    }\n",
              "</style>\n",
              "<table border=\"1\" class=\"dataframe\">\n",
              "  <thead>\n",
              "    <tr style=\"text-align: right;\">\n",
              "      <th></th>\n",
              "      <th>State</th>\n",
              "      <th>Lat</th>\n",
              "      <th>Lng</th>\n",
              "      <th>Area</th>\n",
              "      <th>Children</th>\n",
              "      <th>Age</th>\n",
              "      <th>Income</th>\n",
              "      <th>Marital</th>\n",
              "      <th>Gender</th>\n",
              "      <th>ReAdmis</th>\n",
              "      <th>...</th>\n",
              "      <th>Hyperlipidemia</th>\n",
              "      <th>BackPain</th>\n",
              "      <th>Anxiety</th>\n",
              "      <th>Allergic_rhinitis</th>\n",
              "      <th>Reflux_esophagitis</th>\n",
              "      <th>Asthma</th>\n",
              "      <th>Services</th>\n",
              "      <th>Initial_days</th>\n",
              "      <th>TotalCharge</th>\n",
              "      <th>Additional_charges</th>\n",
              "    </tr>\n",
              "  </thead>\n",
              "  <tbody>\n",
              "    <tr>\n",
              "      <th>0</th>\n",
              "      <td>AL</td>\n",
              "      <td>34.34960</td>\n",
              "      <td>-86.72508</td>\n",
              "      <td>Suburban</td>\n",
              "      <td>1.0</td>\n",
              "      <td>53</td>\n",
              "      <td>86575.93</td>\n",
              "      <td>Divorced</td>\n",
              "      <td>Male</td>\n",
              "      <td>0</td>\n",
              "      <td>...</td>\n",
              "      <td>0.0</td>\n",
              "      <td>1.0</td>\n",
              "      <td>1.0</td>\n",
              "      <td>1.0</td>\n",
              "      <td>0</td>\n",
              "      <td>1</td>\n",
              "      <td>Blood Work</td>\n",
              "      <td>10.585770</td>\n",
              "      <td>3726.702860</td>\n",
              "      <td>17939.403420</td>\n",
              "    </tr>\n",
              "    <tr>\n",
              "      <th>1</th>\n",
              "      <td>FL</td>\n",
              "      <td>30.84513</td>\n",
              "      <td>-85.22907</td>\n",
              "      <td>Urban</td>\n",
              "      <td>3.0</td>\n",
              "      <td>51</td>\n",
              "      <td>46805.99</td>\n",
              "      <td>Married</td>\n",
              "      <td>Female</td>\n",
              "      <td>0</td>\n",
              "      <td>...</td>\n",
              "      <td>0.0</td>\n",
              "      <td>0.0</td>\n",
              "      <td>0.0</td>\n",
              "      <td>0.0</td>\n",
              "      <td>1</td>\n",
              "      <td>0</td>\n",
              "      <td>Intravenous</td>\n",
              "      <td>15.129562</td>\n",
              "      <td>4193.190458</td>\n",
              "      <td>17612.998120</td>\n",
              "    </tr>\n",
              "    <tr>\n",
              "      <th>2</th>\n",
              "      <td>SD</td>\n",
              "      <td>43.54321</td>\n",
              "      <td>-96.63772</td>\n",
              "      <td>Suburban</td>\n",
              "      <td>3.0</td>\n",
              "      <td>53</td>\n",
              "      <td>14370.14</td>\n",
              "      <td>Widowed</td>\n",
              "      <td>Female</td>\n",
              "      <td>0</td>\n",
              "      <td>...</td>\n",
              "      <td>0.0</td>\n",
              "      <td>0.0</td>\n",
              "      <td>0.0</td>\n",
              "      <td>0.0</td>\n",
              "      <td>0</td>\n",
              "      <td>0</td>\n",
              "      <td>Blood Work</td>\n",
              "      <td>4.772177</td>\n",
              "      <td>2434.234222</td>\n",
              "      <td>17505.192460</td>\n",
              "    </tr>\n",
              "    <tr>\n",
              "      <th>3</th>\n",
              "      <td>MN</td>\n",
              "      <td>43.89744</td>\n",
              "      <td>-93.51479</td>\n",
              "      <td>Suburban</td>\n",
              "      <td>0.0</td>\n",
              "      <td>78</td>\n",
              "      <td>39741.49</td>\n",
              "      <td>Married</td>\n",
              "      <td>Male</td>\n",
              "      <td>0</td>\n",
              "      <td>...</td>\n",
              "      <td>0.0</td>\n",
              "      <td>0.0</td>\n",
              "      <td>0.0</td>\n",
              "      <td>0.0</td>\n",
              "      <td>1</td>\n",
              "      <td>1</td>\n",
              "      <td>Blood Work</td>\n",
              "      <td>1.714879</td>\n",
              "      <td>2127.830423</td>\n",
              "      <td>12993.437350</td>\n",
              "    </tr>\n",
              "    <tr>\n",
              "      <th>4</th>\n",
              "      <td>VA</td>\n",
              "      <td>37.59894</td>\n",
              "      <td>-76.88958</td>\n",
              "      <td>Rural</td>\n",
              "      <td>1.0</td>\n",
              "      <td>22</td>\n",
              "      <td>1209.56</td>\n",
              "      <td>Widowed</td>\n",
              "      <td>Female</td>\n",
              "      <td>0</td>\n",
              "      <td>...</td>\n",
              "      <td>1.0</td>\n",
              "      <td>0.0</td>\n",
              "      <td>0.0</td>\n",
              "      <td>1.0</td>\n",
              "      <td>0</td>\n",
              "      <td>0</td>\n",
              "      <td>CT Scan</td>\n",
              "      <td>1.254807</td>\n",
              "      <td>2113.073274</td>\n",
              "      <td>3716.525786</td>\n",
              "    </tr>\n",
              "  </tbody>\n",
              "</table>\n",
              "<p>5 rows × 32 columns</p>\n",
              "</div>\n",
              "      <button class=\"colab-df-convert\" onclick=\"convertToInteractive('df-7c3a9cb5-11df-497c-82bc-56798ae1d5e0')\"\n",
              "              title=\"Convert this dataframe to an interactive table.\"\n",
              "              style=\"display:none;\">\n",
              "        \n",
              "  <svg xmlns=\"http://www.w3.org/2000/svg\" height=\"24px\"viewBox=\"0 0 24 24\"\n",
              "       width=\"24px\">\n",
              "    <path d=\"M0 0h24v24H0V0z\" fill=\"none\"/>\n",
              "    <path d=\"M18.56 5.44l.94 2.06.94-2.06 2.06-.94-2.06-.94-.94-2.06-.94 2.06-2.06.94zm-11 1L8.5 8.5l.94-2.06 2.06-.94-2.06-.94L8.5 2.5l-.94 2.06-2.06.94zm10 10l.94 2.06.94-2.06 2.06-.94-2.06-.94-.94-2.06-.94 2.06-2.06.94z\"/><path d=\"M17.41 7.96l-1.37-1.37c-.4-.4-.92-.59-1.43-.59-.52 0-1.04.2-1.43.59L10.3 9.45l-7.72 7.72c-.78.78-.78 2.05 0 2.83L4 21.41c.39.39.9.59 1.41.59.51 0 1.02-.2 1.41-.59l7.78-7.78 2.81-2.81c.8-.78.8-2.07 0-2.86zM5.41 20L4 18.59l7.72-7.72 1.47 1.35L5.41 20z\"/>\n",
              "  </svg>\n",
              "      </button>\n",
              "      \n",
              "  <style>\n",
              "    .colab-df-container {\n",
              "      display:flex;\n",
              "      flex-wrap:wrap;\n",
              "      gap: 12px;\n",
              "    }\n",
              "\n",
              "    .colab-df-convert {\n",
              "      background-color: #E8F0FE;\n",
              "      border: none;\n",
              "      border-radius: 50%;\n",
              "      cursor: pointer;\n",
              "      display: none;\n",
              "      fill: #1967D2;\n",
              "      height: 32px;\n",
              "      padding: 0 0 0 0;\n",
              "      width: 32px;\n",
              "    }\n",
              "\n",
              "    .colab-df-convert:hover {\n",
              "      background-color: #E2EBFA;\n",
              "      box-shadow: 0px 1px 2px rgba(60, 64, 67, 0.3), 0px 1px 3px 1px rgba(60, 64, 67, 0.15);\n",
              "      fill: #174EA6;\n",
              "    }\n",
              "\n",
              "    [theme=dark] .colab-df-convert {\n",
              "      background-color: #3B4455;\n",
              "      fill: #D2E3FC;\n",
              "    }\n",
              "\n",
              "    [theme=dark] .colab-df-convert:hover {\n",
              "      background-color: #434B5C;\n",
              "      box-shadow: 0px 1px 3px 1px rgba(0, 0, 0, 0.15);\n",
              "      filter: drop-shadow(0px 1px 2px rgba(0, 0, 0, 0.3));\n",
              "      fill: #FFFFFF;\n",
              "    }\n",
              "  </style>\n",
              "\n",
              "      <script>\n",
              "        const buttonEl =\n",
              "          document.querySelector('#df-7c3a9cb5-11df-497c-82bc-56798ae1d5e0 button.colab-df-convert');\n",
              "        buttonEl.style.display =\n",
              "          google.colab.kernel.accessAllowed ? 'block' : 'none';\n",
              "\n",
              "        async function convertToInteractive(key) {\n",
              "          const element = document.querySelector('#df-7c3a9cb5-11df-497c-82bc-56798ae1d5e0');\n",
              "          const dataTable =\n",
              "            await google.colab.kernel.invokeFunction('convertToInteractive',\n",
              "                                                     [key], {});\n",
              "          if (!dataTable) return;\n",
              "\n",
              "          const docLinkHtml = 'Like what you see? Visit the ' +\n",
              "            '<a target=\"_blank\" href=https://colab.research.google.com/notebooks/data_table.ipynb>data table notebook</a>'\n",
              "            + ' to learn more about interactive tables.';\n",
              "          element.innerHTML = '';\n",
              "          dataTable['output_type'] = 'display_data';\n",
              "          await google.colab.output.renderOutput(dataTable, element);\n",
              "          const docLink = document.createElement('div');\n",
              "          docLink.innerHTML = docLinkHtml;\n",
              "          element.appendChild(docLink);\n",
              "        }\n",
              "      </script>\n",
              "    </div>\n",
              "  </div>\n",
              "  "
            ]
          },
          "metadata": {},
          "execution_count": 28
        }
      ]
    },
    {
      "cell_type": "markdown",
      "source": [
        "# Explore Data"
      ],
      "metadata": {
        "id": "8hs2trOjLoon"
      }
    },
    {
      "cell_type": "code",
      "source": [
        "#Checking for duplicated data\n",
        "df.duplicated().sum()"
      ],
      "metadata": {
        "colab": {
          "base_uri": "https://localhost:8080/"
        },
        "id": "7dMyDH4ELp0a",
        "outputId": "117cfa56-4ccf-48ef-9849-81a28e270463"
      },
      "execution_count": 29,
      "outputs": [
        {
          "output_type": "execute_result",
          "data": {
            "text/plain": [
              "0"
            ]
          },
          "metadata": {},
          "execution_count": 29
        }
      ]
    },
    {
      "cell_type": "code",
      "source": [
        "df.info()"
      ],
      "metadata": {
        "colab": {
          "base_uri": "https://localhost:8080/"
        },
        "id": "GZL-47KML2X5",
        "outputId": "e844d7fd-ece7-4169-94e9-1677639325f0"
      },
      "execution_count": 30,
      "outputs": [
        {
          "output_type": "stream",
          "name": "stdout",
          "text": [
            "<class 'pandas.core.frame.DataFrame'>\n",
            "RangeIndex: 1000 entries, 0 to 999\n",
            "Data columns (total 32 columns):\n",
            " #   Column              Non-Null Count  Dtype  \n",
            "---  ------              --------------  -----  \n",
            " 0   State               995 non-null    object \n",
            " 1   Lat                 1000 non-null   float64\n",
            " 2   Lng                 1000 non-null   float64\n",
            " 3   Area                995 non-null    object \n",
            " 4   Children            993 non-null    float64\n",
            " 5   Age                 1000 non-null   int64  \n",
            " 6   Income              1000 non-null   float64\n",
            " 7   Marital             995 non-null    object \n",
            " 8   Gender              995 non-null    object \n",
            " 9   ReAdmis             1000 non-null   int64  \n",
            " 10  VitD_levels         1000 non-null   float64\n",
            " 11  Doc_visits          1000 non-null   int64  \n",
            " 12  Full_meals_eaten    1000 non-null   int64  \n",
            " 13  vitD_supp           1000 non-null   int64  \n",
            " 14  Soft_drink          1000 non-null   int64  \n",
            " 15  Initial_admin       995 non-null    object \n",
            " 16  HighBlood           1000 non-null   int64  \n",
            " 17  Stroke              1000 non-null   int64  \n",
            " 18  Complication_risk   995 non-null    object \n",
            " 19  Overweight          1000 non-null   int64  \n",
            " 20  Arthritis           994 non-null    float64\n",
            " 21  Diabetes            994 non-null    float64\n",
            " 22  Hyperlipidemia      998 non-null    float64\n",
            " 23  BackPain            992 non-null    float64\n",
            " 24  Anxiety             998 non-null    float64\n",
            " 25  Allergic_rhinitis   994 non-null    float64\n",
            " 26  Reflux_esophagitis  1000 non-null   int64  \n",
            " 27  Asthma              1000 non-null   int64  \n",
            " 28  Services            995 non-null    object \n",
            " 29  Initial_days        1000 non-null   float64\n",
            " 30  TotalCharge         1000 non-null   float64\n",
            " 31  Additional_charges  1000 non-null   float64\n",
            "dtypes: float64(14), int64(11), object(7)\n",
            "memory usage: 250.1+ KB\n"
          ]
        }
      ]
    },
    {
      "cell_type": "markdown",
      "source": [
        "To preprocess our data, we will:\n",
        "1. Imputing missing values\n",
        "\n",
        "2. Scale numeric data\n",
        "\n",
        "3. One-hot encode categorical data."
      ],
      "metadata": {
        "id": "GhO0bKnvL-ZL"
      }
    },
    {
      "cell_type": "markdown",
      "source": [
        "# Perform a Validation Split"
      ],
      "metadata": {
        "id": "_tQGgeNcMBpq"
      }
    },
    {
      "cell_type": "code",
      "source": [
        "y= df[\"Additional_charges\"]\n",
        "X= df.drop(columns=\"Additional_charges\")\n",
        "X_train, X_test, y_train, y_test = train_test_split(X, y, random_state=42)\n",
        "X_train.head()"
      ],
      "metadata": {
        "colab": {
          "base_uri": "https://localhost:8080/",
          "height": 334
        },
        "id": "49yj6ey9L_WM",
        "outputId": "cd038bdc-8571-4af0-d9a1-1659eeeb2f3d"
      },
      "execution_count": 31,
      "outputs": [
        {
          "output_type": "execute_result",
          "data": {
            "text/plain": [
              "    State       Lat       Lng      Area  Children  Age    Income  \\\n",
              "82     TN  36.16307 -86.66510     Urban       2.0   60   8459.99   \n",
              "991    AL  34.96594 -87.12179     Urban       5.0   78  22669.31   \n",
              "789    TN  36.24648 -83.51232     Urban       1.0   60  25536.25   \n",
              "894    SD  45.42189 -97.91165     Rural       7.0   82  94863.57   \n",
              "398    MI  42.33661 -83.28292  Suburban       0.0   37  30898.36   \n",
              "\n",
              "           Marital     Gender  ReAdmis  ...  Diabetes  Hyperlipidemia  \\\n",
              "82   Never Married     Female        0  ...       0.0             1.0   \n",
              "991        Married       Male        0  ...       0.0             1.0   \n",
              "789        Married  Nonbinary        0  ...       0.0             0.0   \n",
              "894  Never Married       Male        0  ...       1.0             0.0   \n",
              "398        Widowed     Female        0  ...       0.0             1.0   \n",
              "\n",
              "     BackPain  Anxiety  Allergic_rhinitis Reflux_esophagitis  Asthma  \\\n",
              "82        1.0      0.0                0.0                  0       0   \n",
              "991       1.0      0.0                0.0                  1       0   \n",
              "789       1.0      0.0                0.0                  1       0   \n",
              "894       1.0      0.0                0.0                  0       0   \n",
              "398       0.0      0.0                0.0                  0       0   \n",
              "\n",
              "        Services Initial_days  TotalCharge  \n",
              "82   Intravenous     6.714754  3097.337588  \n",
              "991   Blood Work     5.694359  3073.408768  \n",
              "789  Intravenous     7.336514  3199.418504  \n",
              "894   Blood Work    13.172367  3693.118743  \n",
              "398   Blood Work     7.257809  2616.316061  \n",
              "\n",
              "[5 rows x 31 columns]"
            ],
            "text/html": [
              "\n",
              "  <div id=\"df-42e76c15-3316-4582-b06b-00592bcd08af\">\n",
              "    <div class=\"colab-df-container\">\n",
              "      <div>\n",
              "<style scoped>\n",
              "    .dataframe tbody tr th:only-of-type {\n",
              "        vertical-align: middle;\n",
              "    }\n",
              "\n",
              "    .dataframe tbody tr th {\n",
              "        vertical-align: top;\n",
              "    }\n",
              "\n",
              "    .dataframe thead th {\n",
              "        text-align: right;\n",
              "    }\n",
              "</style>\n",
              "<table border=\"1\" class=\"dataframe\">\n",
              "  <thead>\n",
              "    <tr style=\"text-align: right;\">\n",
              "      <th></th>\n",
              "      <th>State</th>\n",
              "      <th>Lat</th>\n",
              "      <th>Lng</th>\n",
              "      <th>Area</th>\n",
              "      <th>Children</th>\n",
              "      <th>Age</th>\n",
              "      <th>Income</th>\n",
              "      <th>Marital</th>\n",
              "      <th>Gender</th>\n",
              "      <th>ReAdmis</th>\n",
              "      <th>...</th>\n",
              "      <th>Diabetes</th>\n",
              "      <th>Hyperlipidemia</th>\n",
              "      <th>BackPain</th>\n",
              "      <th>Anxiety</th>\n",
              "      <th>Allergic_rhinitis</th>\n",
              "      <th>Reflux_esophagitis</th>\n",
              "      <th>Asthma</th>\n",
              "      <th>Services</th>\n",
              "      <th>Initial_days</th>\n",
              "      <th>TotalCharge</th>\n",
              "    </tr>\n",
              "  </thead>\n",
              "  <tbody>\n",
              "    <tr>\n",
              "      <th>82</th>\n",
              "      <td>TN</td>\n",
              "      <td>36.16307</td>\n",
              "      <td>-86.66510</td>\n",
              "      <td>Urban</td>\n",
              "      <td>2.0</td>\n",
              "      <td>60</td>\n",
              "      <td>8459.99</td>\n",
              "      <td>Never Married</td>\n",
              "      <td>Female</td>\n",
              "      <td>0</td>\n",
              "      <td>...</td>\n",
              "      <td>0.0</td>\n",
              "      <td>1.0</td>\n",
              "      <td>1.0</td>\n",
              "      <td>0.0</td>\n",
              "      <td>0.0</td>\n",
              "      <td>0</td>\n",
              "      <td>0</td>\n",
              "      <td>Intravenous</td>\n",
              "      <td>6.714754</td>\n",
              "      <td>3097.337588</td>\n",
              "    </tr>\n",
              "    <tr>\n",
              "      <th>991</th>\n",
              "      <td>AL</td>\n",
              "      <td>34.96594</td>\n",
              "      <td>-87.12179</td>\n",
              "      <td>Urban</td>\n",
              "      <td>5.0</td>\n",
              "      <td>78</td>\n",
              "      <td>22669.31</td>\n",
              "      <td>Married</td>\n",
              "      <td>Male</td>\n",
              "      <td>0</td>\n",
              "      <td>...</td>\n",
              "      <td>0.0</td>\n",
              "      <td>1.0</td>\n",
              "      <td>1.0</td>\n",
              "      <td>0.0</td>\n",
              "      <td>0.0</td>\n",
              "      <td>1</td>\n",
              "      <td>0</td>\n",
              "      <td>Blood Work</td>\n",
              "      <td>5.694359</td>\n",
              "      <td>3073.408768</td>\n",
              "    </tr>\n",
              "    <tr>\n",
              "      <th>789</th>\n",
              "      <td>TN</td>\n",
              "      <td>36.24648</td>\n",
              "      <td>-83.51232</td>\n",
              "      <td>Urban</td>\n",
              "      <td>1.0</td>\n",
              "      <td>60</td>\n",
              "      <td>25536.25</td>\n",
              "      <td>Married</td>\n",
              "      <td>Nonbinary</td>\n",
              "      <td>0</td>\n",
              "      <td>...</td>\n",
              "      <td>0.0</td>\n",
              "      <td>0.0</td>\n",
              "      <td>1.0</td>\n",
              "      <td>0.0</td>\n",
              "      <td>0.0</td>\n",
              "      <td>1</td>\n",
              "      <td>0</td>\n",
              "      <td>Intravenous</td>\n",
              "      <td>7.336514</td>\n",
              "      <td>3199.418504</td>\n",
              "    </tr>\n",
              "    <tr>\n",
              "      <th>894</th>\n",
              "      <td>SD</td>\n",
              "      <td>45.42189</td>\n",
              "      <td>-97.91165</td>\n",
              "      <td>Rural</td>\n",
              "      <td>7.0</td>\n",
              "      <td>82</td>\n",
              "      <td>94863.57</td>\n",
              "      <td>Never Married</td>\n",
              "      <td>Male</td>\n",
              "      <td>0</td>\n",
              "      <td>...</td>\n",
              "      <td>1.0</td>\n",
              "      <td>0.0</td>\n",
              "      <td>1.0</td>\n",
              "      <td>0.0</td>\n",
              "      <td>0.0</td>\n",
              "      <td>0</td>\n",
              "      <td>0</td>\n",
              "      <td>Blood Work</td>\n",
              "      <td>13.172367</td>\n",
              "      <td>3693.118743</td>\n",
              "    </tr>\n",
              "    <tr>\n",
              "      <th>398</th>\n",
              "      <td>MI</td>\n",
              "      <td>42.33661</td>\n",
              "      <td>-83.28292</td>\n",
              "      <td>Suburban</td>\n",
              "      <td>0.0</td>\n",
              "      <td>37</td>\n",
              "      <td>30898.36</td>\n",
              "      <td>Widowed</td>\n",
              "      <td>Female</td>\n",
              "      <td>0</td>\n",
              "      <td>...</td>\n",
              "      <td>0.0</td>\n",
              "      <td>1.0</td>\n",
              "      <td>0.0</td>\n",
              "      <td>0.0</td>\n",
              "      <td>0.0</td>\n",
              "      <td>0</td>\n",
              "      <td>0</td>\n",
              "      <td>Blood Work</td>\n",
              "      <td>7.257809</td>\n",
              "      <td>2616.316061</td>\n",
              "    </tr>\n",
              "  </tbody>\n",
              "</table>\n",
              "<p>5 rows × 31 columns</p>\n",
              "</div>\n",
              "      <button class=\"colab-df-convert\" onclick=\"convertToInteractive('df-42e76c15-3316-4582-b06b-00592bcd08af')\"\n",
              "              title=\"Convert this dataframe to an interactive table.\"\n",
              "              style=\"display:none;\">\n",
              "        \n",
              "  <svg xmlns=\"http://www.w3.org/2000/svg\" height=\"24px\"viewBox=\"0 0 24 24\"\n",
              "       width=\"24px\">\n",
              "    <path d=\"M0 0h24v24H0V0z\" fill=\"none\"/>\n",
              "    <path d=\"M18.56 5.44l.94 2.06.94-2.06 2.06-.94-2.06-.94-.94-2.06-.94 2.06-2.06.94zm-11 1L8.5 8.5l.94-2.06 2.06-.94-2.06-.94L8.5 2.5l-.94 2.06-2.06.94zm10 10l.94 2.06.94-2.06 2.06-.94-2.06-.94-.94-2.06-.94 2.06-2.06.94z\"/><path d=\"M17.41 7.96l-1.37-1.37c-.4-.4-.92-.59-1.43-.59-.52 0-1.04.2-1.43.59L10.3 9.45l-7.72 7.72c-.78.78-.78 2.05 0 2.83L4 21.41c.39.39.9.59 1.41.59.51 0 1.02-.2 1.41-.59l7.78-7.78 2.81-2.81c.8-.78.8-2.07 0-2.86zM5.41 20L4 18.59l7.72-7.72 1.47 1.35L5.41 20z\"/>\n",
              "  </svg>\n",
              "      </button>\n",
              "      \n",
              "  <style>\n",
              "    .colab-df-container {\n",
              "      display:flex;\n",
              "      flex-wrap:wrap;\n",
              "      gap: 12px;\n",
              "    }\n",
              "\n",
              "    .colab-df-convert {\n",
              "      background-color: #E8F0FE;\n",
              "      border: none;\n",
              "      border-radius: 50%;\n",
              "      cursor: pointer;\n",
              "      display: none;\n",
              "      fill: #1967D2;\n",
              "      height: 32px;\n",
              "      padding: 0 0 0 0;\n",
              "      width: 32px;\n",
              "    }\n",
              "\n",
              "    .colab-df-convert:hover {\n",
              "      background-color: #E2EBFA;\n",
              "      box-shadow: 0px 1px 2px rgba(60, 64, 67, 0.3), 0px 1px 3px 1px rgba(60, 64, 67, 0.15);\n",
              "      fill: #174EA6;\n",
              "    }\n",
              "\n",
              "    [theme=dark] .colab-df-convert {\n",
              "      background-color: #3B4455;\n",
              "      fill: #D2E3FC;\n",
              "    }\n",
              "\n",
              "    [theme=dark] .colab-df-convert:hover {\n",
              "      background-color: #434B5C;\n",
              "      box-shadow: 0px 1px 3px 1px rgba(0, 0, 0, 0.15);\n",
              "      filter: drop-shadow(0px 1px 2px rgba(0, 0, 0, 0.3));\n",
              "      fill: #FFFFFF;\n",
              "    }\n",
              "  </style>\n",
              "\n",
              "      <script>\n",
              "        const buttonEl =\n",
              "          document.querySelector('#df-42e76c15-3316-4582-b06b-00592bcd08af button.colab-df-convert');\n",
              "        buttonEl.style.display =\n",
              "          google.colab.kernel.accessAllowed ? 'block' : 'none';\n",
              "\n",
              "        async function convertToInteractive(key) {\n",
              "          const element = document.querySelector('#df-42e76c15-3316-4582-b06b-00592bcd08af');\n",
              "          const dataTable =\n",
              "            await google.colab.kernel.invokeFunction('convertToInteractive',\n",
              "                                                     [key], {});\n",
              "          if (!dataTable) return;\n",
              "\n",
              "          const docLinkHtml = 'Like what you see? Visit the ' +\n",
              "            '<a target=\"_blank\" href=https://colab.research.google.com/notebooks/data_table.ipynb>data table notebook</a>'\n",
              "            + ' to learn more about interactive tables.';\n",
              "          element.innerHTML = '';\n",
              "          dataTable['output_type'] = 'display_data';\n",
              "          await google.colab.output.renderOutput(dataTable, element);\n",
              "          const docLink = document.createElement('div');\n",
              "          docLink.innerHTML = docLinkHtml;\n",
              "          element.appendChild(docLink);\n",
              "        }\n",
              "      </script>\n",
              "    </div>\n",
              "  </div>\n",
              "  "
            ]
          },
          "metadata": {},
          "execution_count": 31
        }
      ]
    },
    {
      "cell_type": "markdown",
      "source": [
        "# Create a ColumnTransformer for Preprocessing\n",
        "\n",
        "Note that we are preparing our preprocessing object, but we are not preprocessing the data, yet!\n"
      ],
      "metadata": {
        "id": "lvYhsQl1M6WC"
      }
    },
    {
      "cell_type": "markdown",
      "source": [
        "##Categorical"
      ],
      "metadata": {
        "id": "vNuqzZfOBCWZ"
      }
    },
    {
      "cell_type": "code",
      "source": [
        "#instead of using .select_dtype, you an use make_column_selector\n",
        "cat_selector = make_column_selector(dtype_include=\"object\")\n",
        "cat_selector(X_train)"
      ],
      "metadata": {
        "colab": {
          "base_uri": "https://localhost:8080/"
        },
        "id": "KLE2YB5CM8GH",
        "outputId": "16446369-dbc2-46d7-f033-7c2b5996a334"
      },
      "execution_count": 32,
      "outputs": [
        {
          "output_type": "execute_result",
          "data": {
            "text/plain": [
              "['State',\n",
              " 'Area',\n",
              " 'Marital',\n",
              " 'Gender',\n",
              " 'Initial_admin',\n",
              " 'Complication_risk',\n",
              " 'Services']"
            ]
          },
          "metadata": {},
          "execution_count": 32
        }
      ]
    },
    {
      "cell_type": "code",
      "source": [
        "# Create the preprocessing pipeline for categorical data\n",
        "cat_selector = make_column_selector(dtype_include=\"object\")\n",
        "freq_imputer = SimpleImputer(strategy=\"most_frequent\")\n",
        "ohe = OneHotEncoder(sparse_output=False, handle_unknown=\"ignore\")\n",
        "cat_pipe = make_pipeline(freq_imputer, ohe)\n",
        "# Make a tuple for Cl\n",
        "cat_tuple = (\"categorical\", cat_pipe, cat_selector)\n",
        "cat_tuple"
      ],
      "metadata": {
        "colab": {
          "base_uri": "https://localhost:8080/"
        },
        "id": "z1rawWrTP-JH",
        "outputId": "7cd86f4c-5d01-4a3e-c9a8-0b73cb9604a3"
      },
      "execution_count": 33,
      "outputs": [
        {
          "output_type": "execute_result",
          "data": {
            "text/plain": [
              "('categorical',\n",
              " Pipeline(steps=[('simpleimputer', SimpleImputer(strategy='most_frequent')),\n",
              "                 ('onehotencoder',\n",
              "                  OneHotEncoder(handle_unknown='ignore', sparse_output=False))]),\n",
              " <sklearn.compose._column_transformer.make_column_selector at 0x7fb53da39cc0>)"
            ]
          },
          "metadata": {},
          "execution_count": 33
        }
      ]
    },
    {
      "cell_type": "markdown",
      "source": [
        "## Numerical"
      ],
      "metadata": {
        "id": "7Nyd2n2yBJMf"
      }
    },
    {
      "cell_type": "code",
      "source": [
        "# Create the preprocessing pipeline for numeric data\n",
        "num_selector = make_column_selector(dtype_include=\"number\")\n",
        "num_imputer = SimpleImputer(strategy=\"mean\")\n",
        "scaler = StandardScaler()\n",
        "num_pipe = make_pipeline(num_imputer, scaler)\n",
        "num_tuple = (\"numeric\", num_pipe, num_selector)\n",
        "num_tuple"
      ],
      "metadata": {
        "colab": {
          "base_uri": "https://localhost:8080/"
        },
        "id": "M8VUbQ85BLS_",
        "outputId": "3f10f372-638f-4186-b904-6f7658ff2892"
      },
      "execution_count": 34,
      "outputs": [
        {
          "output_type": "execute_result",
          "data": {
            "text/plain": [
              "('numeric',\n",
              " Pipeline(steps=[('simpleimputer', SimpleImputer()),\n",
              "                 ('standardscaler', StandardScaler())]),\n",
              " <sklearn.compose._column_transformer.make_column_selector at 0x7fb53da39a80>)"
            ]
          },
          "metadata": {},
          "execution_count": 34
        }
      ]
    },
    {
      "cell_type": "markdown",
      "source": [
        "## Create the preprocessing ColumnTransformer\n"
      ],
      "metadata": {
        "id": "JZh0Dm9BCaOm"
      }
    },
    {
      "cell_type": "code",
      "source": [
        "# Create the preprocessing ColumnTransformer\n",
        "preprocessor = ColumnTransformer([cat_tuple, num_tuple], verbose_feature_names_out=False)\n",
        "preprocessor"
      ],
      "metadata": {
        "colab": {
          "base_uri": "https://localhost:8080/",
          "height": 152
        },
        "id": "Ciou8pX2Ccqa",
        "outputId": "7b22e958-6fa1-43d1-bfba-9965239dbd75"
      },
      "execution_count": 35,
      "outputs": [
        {
          "output_type": "execute_result",
          "data": {
            "text/plain": [
              "ColumnTransformer(transformers=[('categorical',\n",
              "                                 Pipeline(steps=[('simpleimputer',\n",
              "                                                  SimpleImputer(strategy='most_frequent')),\n",
              "                                                 ('onehotencoder',\n",
              "                                                  OneHotEncoder(handle_unknown='ignore',\n",
              "                                                                sparse_output=False))]),\n",
              "                                 <sklearn.compose._column_transformer.make_column_selector object at 0x7fb53da39cc0>),\n",
              "                                ('numeric',\n",
              "                                 Pipeline(steps=[('simpleimputer',\n",
              "                                                  SimpleImputer()),\n",
              "                                                 ('standardscaler',\n",
              "                                                  StandardScaler())]),\n",
              "                                 <sklearn.compose._column_transformer.make_column_selector object at 0x7fb53da39a80>)],\n",
              "                  verbose_feature_names_out=False)"
            ],
            "text/html": [
              "<style>#sk-container-id-2 {color: black;background-color: white;}#sk-container-id-2 pre{padding: 0;}#sk-container-id-2 div.sk-toggleable {background-color: white;}#sk-container-id-2 label.sk-toggleable__label {cursor: pointer;display: block;width: 100%;margin-bottom: 0;padding: 0.3em;box-sizing: border-box;text-align: center;}#sk-container-id-2 label.sk-toggleable__label-arrow:before {content: \"▸\";float: left;margin-right: 0.25em;color: #696969;}#sk-container-id-2 label.sk-toggleable__label-arrow:hover:before {color: black;}#sk-container-id-2 div.sk-estimator:hover label.sk-toggleable__label-arrow:before {color: black;}#sk-container-id-2 div.sk-toggleable__content {max-height: 0;max-width: 0;overflow: hidden;text-align: left;background-color: #f0f8ff;}#sk-container-id-2 div.sk-toggleable__content pre {margin: 0.2em;color: black;border-radius: 0.25em;background-color: #f0f8ff;}#sk-container-id-2 input.sk-toggleable__control:checked~div.sk-toggleable__content {max-height: 200px;max-width: 100%;overflow: auto;}#sk-container-id-2 input.sk-toggleable__control:checked~label.sk-toggleable__label-arrow:before {content: \"▾\";}#sk-container-id-2 div.sk-estimator input.sk-toggleable__control:checked~label.sk-toggleable__label {background-color: #d4ebff;}#sk-container-id-2 div.sk-label input.sk-toggleable__control:checked~label.sk-toggleable__label {background-color: #d4ebff;}#sk-container-id-2 input.sk-hidden--visually {border: 0;clip: rect(1px 1px 1px 1px);clip: rect(1px, 1px, 1px, 1px);height: 1px;margin: -1px;overflow: hidden;padding: 0;position: absolute;width: 1px;}#sk-container-id-2 div.sk-estimator {font-family: monospace;background-color: #f0f8ff;border: 1px dotted black;border-radius: 0.25em;box-sizing: border-box;margin-bottom: 0.5em;}#sk-container-id-2 div.sk-estimator:hover {background-color: #d4ebff;}#sk-container-id-2 div.sk-parallel-item::after {content: \"\";width: 100%;border-bottom: 1px solid gray;flex-grow: 1;}#sk-container-id-2 div.sk-label:hover label.sk-toggleable__label {background-color: #d4ebff;}#sk-container-id-2 div.sk-serial::before {content: \"\";position: absolute;border-left: 1px solid gray;box-sizing: border-box;top: 0;bottom: 0;left: 50%;z-index: 0;}#sk-container-id-2 div.sk-serial {display: flex;flex-direction: column;align-items: center;background-color: white;padding-right: 0.2em;padding-left: 0.2em;position: relative;}#sk-container-id-2 div.sk-item {position: relative;z-index: 1;}#sk-container-id-2 div.sk-parallel {display: flex;align-items: stretch;justify-content: center;background-color: white;position: relative;}#sk-container-id-2 div.sk-item::before, #sk-container-id-2 div.sk-parallel-item::before {content: \"\";position: absolute;border-left: 1px solid gray;box-sizing: border-box;top: 0;bottom: 0;left: 50%;z-index: -1;}#sk-container-id-2 div.sk-parallel-item {display: flex;flex-direction: column;z-index: 1;position: relative;background-color: white;}#sk-container-id-2 div.sk-parallel-item:first-child::after {align-self: flex-end;width: 50%;}#sk-container-id-2 div.sk-parallel-item:last-child::after {align-self: flex-start;width: 50%;}#sk-container-id-2 div.sk-parallel-item:only-child::after {width: 0;}#sk-container-id-2 div.sk-dashed-wrapped {border: 1px dashed gray;margin: 0 0.4em 0.5em 0.4em;box-sizing: border-box;padding-bottom: 0.4em;background-color: white;}#sk-container-id-2 div.sk-label label {font-family: monospace;font-weight: bold;display: inline-block;line-height: 1.2em;}#sk-container-id-2 div.sk-label-container {text-align: center;}#sk-container-id-2 div.sk-container {/* jupyter's `normalize.less` sets `[hidden] { display: none; }` but bootstrap.min.css set `[hidden] { display: none !important; }` so we also need the `!important` here to be able to override the default hidden behavior on the sphinx rendered scikit-learn.org. See: https://github.com/scikit-learn/scikit-learn/issues/21755 */display: inline-block !important;position: relative;}#sk-container-id-2 div.sk-text-repr-fallback {display: none;}</style><div id=\"sk-container-id-2\" class=\"sk-top-container\"><div class=\"sk-text-repr-fallback\"><pre>ColumnTransformer(transformers=[(&#x27;categorical&#x27;,\n",
              "                                 Pipeline(steps=[(&#x27;simpleimputer&#x27;,\n",
              "                                                  SimpleImputer(strategy=&#x27;most_frequent&#x27;)),\n",
              "                                                 (&#x27;onehotencoder&#x27;,\n",
              "                                                  OneHotEncoder(handle_unknown=&#x27;ignore&#x27;,\n",
              "                                                                sparse_output=False))]),\n",
              "                                 &lt;sklearn.compose._column_transformer.make_column_selector object at 0x7fb53da39cc0&gt;),\n",
              "                                (&#x27;numeric&#x27;,\n",
              "                                 Pipeline(steps=[(&#x27;simpleimputer&#x27;,\n",
              "                                                  SimpleImputer()),\n",
              "                                                 (&#x27;standardscaler&#x27;,\n",
              "                                                  StandardScaler())]),\n",
              "                                 &lt;sklearn.compose._column_transformer.make_column_selector object at 0x7fb53da39a80&gt;)],\n",
              "                  verbose_feature_names_out=False)</pre><b>In a Jupyter environment, please rerun this cell to show the HTML representation or trust the notebook. <br />On GitHub, the HTML representation is unable to render, please try loading this page with nbviewer.org.</b></div><div class=\"sk-container\" hidden><div class=\"sk-item sk-dashed-wrapped\"><div class=\"sk-label-container\"><div class=\"sk-label sk-toggleable\"><input class=\"sk-toggleable__control sk-hidden--visually\" id=\"sk-estimator-id-8\" type=\"checkbox\" ><label for=\"sk-estimator-id-8\" class=\"sk-toggleable__label sk-toggleable__label-arrow\">ColumnTransformer</label><div class=\"sk-toggleable__content\"><pre>ColumnTransformer(transformers=[(&#x27;categorical&#x27;,\n",
              "                                 Pipeline(steps=[(&#x27;simpleimputer&#x27;,\n",
              "                                                  SimpleImputer(strategy=&#x27;most_frequent&#x27;)),\n",
              "                                                 (&#x27;onehotencoder&#x27;,\n",
              "                                                  OneHotEncoder(handle_unknown=&#x27;ignore&#x27;,\n",
              "                                                                sparse_output=False))]),\n",
              "                                 &lt;sklearn.compose._column_transformer.make_column_selector object at 0x7fb53da39cc0&gt;),\n",
              "                                (&#x27;numeric&#x27;,\n",
              "                                 Pipeline(steps=[(&#x27;simpleimputer&#x27;,\n",
              "                                                  SimpleImputer()),\n",
              "                                                 (&#x27;standardscaler&#x27;,\n",
              "                                                  StandardScaler())]),\n",
              "                                 &lt;sklearn.compose._column_transformer.make_column_selector object at 0x7fb53da39a80&gt;)],\n",
              "                  verbose_feature_names_out=False)</pre></div></div></div><div class=\"sk-parallel\"><div class=\"sk-parallel-item\"><div class=\"sk-item\"><div class=\"sk-label-container\"><div class=\"sk-label sk-toggleable\"><input class=\"sk-toggleable__control sk-hidden--visually\" id=\"sk-estimator-id-9\" type=\"checkbox\" ><label for=\"sk-estimator-id-9\" class=\"sk-toggleable__label sk-toggleable__label-arrow\">categorical</label><div class=\"sk-toggleable__content\"><pre>&lt;sklearn.compose._column_transformer.make_column_selector object at 0x7fb53da39cc0&gt;</pre></div></div></div><div class=\"sk-serial\"><div class=\"sk-item\"><div class=\"sk-serial\"><div class=\"sk-item\"><div class=\"sk-estimator sk-toggleable\"><input class=\"sk-toggleable__control sk-hidden--visually\" id=\"sk-estimator-id-10\" type=\"checkbox\" ><label for=\"sk-estimator-id-10\" class=\"sk-toggleable__label sk-toggleable__label-arrow\">SimpleImputer</label><div class=\"sk-toggleable__content\"><pre>SimpleImputer(strategy=&#x27;most_frequent&#x27;)</pre></div></div></div><div class=\"sk-item\"><div class=\"sk-estimator sk-toggleable\"><input class=\"sk-toggleable__control sk-hidden--visually\" id=\"sk-estimator-id-11\" type=\"checkbox\" ><label for=\"sk-estimator-id-11\" class=\"sk-toggleable__label sk-toggleable__label-arrow\">OneHotEncoder</label><div class=\"sk-toggleable__content\"><pre>OneHotEncoder(handle_unknown=&#x27;ignore&#x27;, sparse_output=False)</pre></div></div></div></div></div></div></div></div><div class=\"sk-parallel-item\"><div class=\"sk-item\"><div class=\"sk-label-container\"><div class=\"sk-label sk-toggleable\"><input class=\"sk-toggleable__control sk-hidden--visually\" id=\"sk-estimator-id-12\" type=\"checkbox\" ><label for=\"sk-estimator-id-12\" class=\"sk-toggleable__label sk-toggleable__label-arrow\">numeric</label><div class=\"sk-toggleable__content\"><pre>&lt;sklearn.compose._column_transformer.make_column_selector object at 0x7fb53da39a80&gt;</pre></div></div></div><div class=\"sk-serial\"><div class=\"sk-item\"><div class=\"sk-serial\"><div class=\"sk-item\"><div class=\"sk-estimator sk-toggleable\"><input class=\"sk-toggleable__control sk-hidden--visually\" id=\"sk-estimator-id-13\" type=\"checkbox\" ><label for=\"sk-estimator-id-13\" class=\"sk-toggleable__label sk-toggleable__label-arrow\">SimpleImputer</label><div class=\"sk-toggleable__content\"><pre>SimpleImputer()</pre></div></div></div><div class=\"sk-item\"><div class=\"sk-estimator sk-toggleable\"><input class=\"sk-toggleable__control sk-hidden--visually\" id=\"sk-estimator-id-14\" type=\"checkbox\" ><label for=\"sk-estimator-id-14\" class=\"sk-toggleable__label sk-toggleable__label-arrow\">StandardScaler</label><div class=\"sk-toggleable__content\"><pre>StandardScaler()</pre></div></div></div></div></div></div></div></div></div></div></div></div>"
            ]
          },
          "metadata": {},
          "execution_count": 35
        }
      ]
    },
    {
      "cell_type": "markdown",
      "source": [
        "# Create a Model Pipeline"
      ],
      "metadata": {
        "id": "MWjfKkCUDj2P"
      }
    },
    {
      "cell_type": "code",
      "source": [
        "# Instantiate a linear regression model\n",
        "linreg = LinearRegression()\n",
        "# Combine the preprocessing ColumnTransformer and the linear regression model in a Pipeline\n",
        "linreg_pipe = make_pipeline(preprocessor, linreg)"
      ],
      "metadata": {
        "id": "Xm4Y5UH6C4Fe"
      },
      "execution_count": 36,
      "outputs": []
    },
    {
      "cell_type": "markdown",
      "source": [
        "# Fit and Predict the Model Pipeline on the Training Data"
      ],
      "metadata": {
        "id": "rfBOaJCZHHyd"
      }
    },
    {
      "cell_type": "code",
      "source": [
        "X_train.info()"
      ],
      "metadata": {
        "colab": {
          "base_uri": "https://localhost:8080/"
        },
        "id": "RDMgNve-HOOU",
        "outputId": "f2aedd00-2338-4743-f69f-8528546995f4"
      },
      "execution_count": 37,
      "outputs": [
        {
          "output_type": "stream",
          "name": "stdout",
          "text": [
            "<class 'pandas.core.frame.DataFrame'>\n",
            "Int64Index: 750 entries, 82 to 102\n",
            "Data columns (total 31 columns):\n",
            " #   Column              Non-Null Count  Dtype  \n",
            "---  ------              --------------  -----  \n",
            " 0   State               748 non-null    object \n",
            " 1   Lat                 750 non-null    float64\n",
            " 2   Lng                 750 non-null    float64\n",
            " 3   Area                747 non-null    object \n",
            " 4   Children            746 non-null    float64\n",
            " 5   Age                 750 non-null    int64  \n",
            " 6   Income              750 non-null    float64\n",
            " 7   Marital             747 non-null    object \n",
            " 8   Gender              746 non-null    object \n",
            " 9   ReAdmis             750 non-null    int64  \n",
            " 10  VitD_levels         750 non-null    float64\n",
            " 11  Doc_visits          750 non-null    int64  \n",
            " 12  Full_meals_eaten    750 non-null    int64  \n",
            " 13  vitD_supp           750 non-null    int64  \n",
            " 14  Soft_drink          750 non-null    int64  \n",
            " 15  Initial_admin       747 non-null    object \n",
            " 16  HighBlood           750 non-null    int64  \n",
            " 17  Stroke              750 non-null    int64  \n",
            " 18  Complication_risk   749 non-null    object \n",
            " 19  Overweight          750 non-null    int64  \n",
            " 20  Arthritis           746 non-null    float64\n",
            " 21  Diabetes            745 non-null    float64\n",
            " 22  Hyperlipidemia      748 non-null    float64\n",
            " 23  BackPain            745 non-null    float64\n",
            " 24  Anxiety             749 non-null    float64\n",
            " 25  Allergic_rhinitis   744 non-null    float64\n",
            " 26  Reflux_esophagitis  750 non-null    int64  \n",
            " 27  Asthma              750 non-null    int64  \n",
            " 28  Services            747 non-null    object \n",
            " 29  Initial_days        750 non-null    float64\n",
            " 30  TotalCharge         750 non-null    float64\n",
            "dtypes: float64(13), int64(11), object(7)\n",
            "memory usage: 187.5+ KB\n"
          ]
        }
      ]
    },
    {
      "cell_type": "code",
      "source": [
        "## Fit the model pipeline on the training data\n",
        "linreg_pipe.fit(X_train, y_train)\n",
        "# Make predictions using the training and testing data\n",
        "training_predictions = linreg_pipe.predict(X_train)\n",
        "test_pred = linreg_pipe.predict(X_test)\n",
        "training_predictions[:10]"
      ],
      "metadata": {
        "colab": {
          "base_uri": "https://localhost:8080/"
        },
        "id": "J6I_BhesHj1v",
        "outputId": "a2d6a3a5-6a95-4dc5-fbfa-48e9ac3f7fa9"
      },
      "execution_count": 38,
      "outputs": [
        {
          "output_type": "execute_result",
          "data": {
            "text/plain": [
              "array([11302., 14992., 20376., 24426.,  6003.,  4564.,  7265., 22307.,\n",
              "       16768., 14085.])"
            ]
          },
          "metadata": {},
          "execution_count": 38
        }
      ]
    }
  ]
}
