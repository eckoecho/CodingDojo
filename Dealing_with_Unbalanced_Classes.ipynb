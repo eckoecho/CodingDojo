{
  "nbformat": 4,
  "nbformat_minor": 0,
  "metadata": {
    "colab": {
      "provenance": [],
      "toc_visible": true,
      "mount_file_id": "1ZF4gZhtcXxMsUz9J8MApuuKP3mNADQ7e",
      "authorship_tag": "ABX9TyPo8u/xLz4GV7mmPwOLk3/Z",
      "include_colab_link": true
    },
    "kernelspec": {
      "name": "python3",
      "display_name": "Python 3"
    },
    "language_info": {
      "name": "python"
    }
  },
  "cells": [
    {
      "cell_type": "markdown",
      "metadata": {
        "id": "view-in-github",
        "colab_type": "text"
      },
      "source": [
        "<a href=\"https://colab.research.google.com/github/eckoecho/CodingDojo/blob/week-7/Dealing_with_Unbalanced_Classes.ipynb\" target=\"_parent\"><img src=\"https://colab.research.google.com/assets/colab-badge.svg\" alt=\"Open In Colab\"/></a>"
      ]
    },
    {
      "cell_type": "code",
      "execution_count": 21,
      "metadata": {
        "id": "D7GGPFJ79WqF"
      },
      "outputs": [],
      "source": [
        "#Importing necessary libraries\n",
        "import pandas as pd\n",
        "from sklearn.model_selection import train_test_split, GridSearchCV\n",
        "from sklearn.linear_model import LogisticRegression\n",
        "from sklearn.metrics import classification_report, ConfusionMatrixDisplay\n",
        "from sklearn.pipeline import make_pipeline\n",
        "from imblearn.pipeline import make_pipeline as make_sampler_pipeline\n",
        "from sklearn.preprocessing import StandardScaler\n",
        "from imblearn.over_sampling import SMOTE, RandomOverSampler\n",
        "from imblearn.under_sampling import RandomUnderSampler"
      ]
    },
    {
      "cell_type": "code",
      "source": [
        "#Load Data\n",
        "fpath = \"/content/drive/MyDrive/CodingDojo/02-MachineLearning/Week07/Data/credit_card_fraud_dataset.csv\"\n",
        "df = pd.read_csv(fpath)\n",
        "df.head()"
      ],
      "metadata": {
        "colab": {
          "base_uri": "https://localhost:8080/",
          "height": 300
        },
        "id": "YQbWvckx-qMR",
        "outputId": "3e49111b-4e9f-4b55-db3d-4b1cd86896e0"
      },
      "execution_count": 22,
      "outputs": [
        {
          "output_type": "execute_result",
          "data": {
            "text/plain": [
              "     Time        V1        V2        V3        V4        V5        V6  \\\n",
              "0  154903  2.051787 -0.187022 -1.103035  0.426225 -0.269518 -1.170855   \n",
              "1  118132 -1.097036 -0.233782 -0.096022 -0.372325  2.434854 -1.393347   \n",
              "2    5997 -1.451863 -0.924715  1.712229 -1.802891  0.176939 -1.201854   \n",
              "3  138313 -0.748073 -1.209636  0.887484 -1.655591 -0.065690  0.957387   \n",
              "4   58067 -0.264869  3.386140 -3.454997  4.367629  3.336060 -2.053918   \n",
              "\n",
              "         V7        V8        V9  ...       V21       V22       V23       V24  \\\n",
              "0  0.051066 -0.209313  0.806213  ... -0.303489 -0.819563  0.367881 -0.061352   \n",
              "1  0.305382 -0.077793 -0.231507  ...  0.207111  0.249741 -0.434478 -1.140822   \n",
              "2  0.146044  0.055134  2.690959  ...  0.007895  0.017067  0.183088  0.355935   \n",
              "3  0.277554  0.327990 -0.835489  ...  0.077620 -0.161395  0.725481 -1.080008   \n",
              "4  0.256890 -2.957235 -2.855797  ... -1.394504 -0.166029 -1.452081 -0.251815   \n",
              "\n",
              "        V25       V26       V27       V28  Amount  Class  \n",
              "0 -0.373009  0.206934 -0.079089 -0.064241    1.98      0  \n",
              "1  1.381077  0.108243 -0.156596 -0.087092   21.23      0  \n",
              "2  0.284810 -0.131321 -0.017971  0.103671  115.59      0  \n",
              "3 -0.305991 -0.477772 -0.028670 -0.003467  229.54      0  \n",
              "4  1.243461  0.452787  0.132218  0.424599    1.00      1  \n",
              "\n",
              "[5 rows x 31 columns]"
            ],
            "text/html": [
              "\n",
              "  <div id=\"df-e4d3f504-bd92-461d-b10b-aefd13e25139\">\n",
              "    <div class=\"colab-df-container\">\n",
              "      <div>\n",
              "<style scoped>\n",
              "    .dataframe tbody tr th:only-of-type {\n",
              "        vertical-align: middle;\n",
              "    }\n",
              "\n",
              "    .dataframe tbody tr th {\n",
              "        vertical-align: top;\n",
              "    }\n",
              "\n",
              "    .dataframe thead th {\n",
              "        text-align: right;\n",
              "    }\n",
              "</style>\n",
              "<table border=\"1\" class=\"dataframe\">\n",
              "  <thead>\n",
              "    <tr style=\"text-align: right;\">\n",
              "      <th></th>\n",
              "      <th>Time</th>\n",
              "      <th>V1</th>\n",
              "      <th>V2</th>\n",
              "      <th>V3</th>\n",
              "      <th>V4</th>\n",
              "      <th>V5</th>\n",
              "      <th>V6</th>\n",
              "      <th>V7</th>\n",
              "      <th>V8</th>\n",
              "      <th>V9</th>\n",
              "      <th>...</th>\n",
              "      <th>V21</th>\n",
              "      <th>V22</th>\n",
              "      <th>V23</th>\n",
              "      <th>V24</th>\n",
              "      <th>V25</th>\n",
              "      <th>V26</th>\n",
              "      <th>V27</th>\n",
              "      <th>V28</th>\n",
              "      <th>Amount</th>\n",
              "      <th>Class</th>\n",
              "    </tr>\n",
              "  </thead>\n",
              "  <tbody>\n",
              "    <tr>\n",
              "      <th>0</th>\n",
              "      <td>154903</td>\n",
              "      <td>2.051787</td>\n",
              "      <td>-0.187022</td>\n",
              "      <td>-1.103035</td>\n",
              "      <td>0.426225</td>\n",
              "      <td>-0.269518</td>\n",
              "      <td>-1.170855</td>\n",
              "      <td>0.051066</td>\n",
              "      <td>-0.209313</td>\n",
              "      <td>0.806213</td>\n",
              "      <td>...</td>\n",
              "      <td>-0.303489</td>\n",
              "      <td>-0.819563</td>\n",
              "      <td>0.367881</td>\n",
              "      <td>-0.061352</td>\n",
              "      <td>-0.373009</td>\n",
              "      <td>0.206934</td>\n",
              "      <td>-0.079089</td>\n",
              "      <td>-0.064241</td>\n",
              "      <td>1.98</td>\n",
              "      <td>0</td>\n",
              "    </tr>\n",
              "    <tr>\n",
              "      <th>1</th>\n",
              "      <td>118132</td>\n",
              "      <td>-1.097036</td>\n",
              "      <td>-0.233782</td>\n",
              "      <td>-0.096022</td>\n",
              "      <td>-0.372325</td>\n",
              "      <td>2.434854</td>\n",
              "      <td>-1.393347</td>\n",
              "      <td>0.305382</td>\n",
              "      <td>-0.077793</td>\n",
              "      <td>-0.231507</td>\n",
              "      <td>...</td>\n",
              "      <td>0.207111</td>\n",
              "      <td>0.249741</td>\n",
              "      <td>-0.434478</td>\n",
              "      <td>-1.140822</td>\n",
              "      <td>1.381077</td>\n",
              "      <td>0.108243</td>\n",
              "      <td>-0.156596</td>\n",
              "      <td>-0.087092</td>\n",
              "      <td>21.23</td>\n",
              "      <td>0</td>\n",
              "    </tr>\n",
              "    <tr>\n",
              "      <th>2</th>\n",
              "      <td>5997</td>\n",
              "      <td>-1.451863</td>\n",
              "      <td>-0.924715</td>\n",
              "      <td>1.712229</td>\n",
              "      <td>-1.802891</td>\n",
              "      <td>0.176939</td>\n",
              "      <td>-1.201854</td>\n",
              "      <td>0.146044</td>\n",
              "      <td>0.055134</td>\n",
              "      <td>2.690959</td>\n",
              "      <td>...</td>\n",
              "      <td>0.007895</td>\n",
              "      <td>0.017067</td>\n",
              "      <td>0.183088</td>\n",
              "      <td>0.355935</td>\n",
              "      <td>0.284810</td>\n",
              "      <td>-0.131321</td>\n",
              "      <td>-0.017971</td>\n",
              "      <td>0.103671</td>\n",
              "      <td>115.59</td>\n",
              "      <td>0</td>\n",
              "    </tr>\n",
              "    <tr>\n",
              "      <th>3</th>\n",
              "      <td>138313</td>\n",
              "      <td>-0.748073</td>\n",
              "      <td>-1.209636</td>\n",
              "      <td>0.887484</td>\n",
              "      <td>-1.655591</td>\n",
              "      <td>-0.065690</td>\n",
              "      <td>0.957387</td>\n",
              "      <td>0.277554</td>\n",
              "      <td>0.327990</td>\n",
              "      <td>-0.835489</td>\n",
              "      <td>...</td>\n",
              "      <td>0.077620</td>\n",
              "      <td>-0.161395</td>\n",
              "      <td>0.725481</td>\n",
              "      <td>-1.080008</td>\n",
              "      <td>-0.305991</td>\n",
              "      <td>-0.477772</td>\n",
              "      <td>-0.028670</td>\n",
              "      <td>-0.003467</td>\n",
              "      <td>229.54</td>\n",
              "      <td>0</td>\n",
              "    </tr>\n",
              "    <tr>\n",
              "      <th>4</th>\n",
              "      <td>58067</td>\n",
              "      <td>-0.264869</td>\n",
              "      <td>3.386140</td>\n",
              "      <td>-3.454997</td>\n",
              "      <td>4.367629</td>\n",
              "      <td>3.336060</td>\n",
              "      <td>-2.053918</td>\n",
              "      <td>0.256890</td>\n",
              "      <td>-2.957235</td>\n",
              "      <td>-2.855797</td>\n",
              "      <td>...</td>\n",
              "      <td>-1.394504</td>\n",
              "      <td>-0.166029</td>\n",
              "      <td>-1.452081</td>\n",
              "      <td>-0.251815</td>\n",
              "      <td>1.243461</td>\n",
              "      <td>0.452787</td>\n",
              "      <td>0.132218</td>\n",
              "      <td>0.424599</td>\n",
              "      <td>1.00</td>\n",
              "      <td>1</td>\n",
              "    </tr>\n",
              "  </tbody>\n",
              "</table>\n",
              "<p>5 rows × 31 columns</p>\n",
              "</div>\n",
              "      <button class=\"colab-df-convert\" onclick=\"convertToInteractive('df-e4d3f504-bd92-461d-b10b-aefd13e25139')\"\n",
              "              title=\"Convert this dataframe to an interactive table.\"\n",
              "              style=\"display:none;\">\n",
              "        \n",
              "  <svg xmlns=\"http://www.w3.org/2000/svg\" height=\"24px\"viewBox=\"0 0 24 24\"\n",
              "       width=\"24px\">\n",
              "    <path d=\"M0 0h24v24H0V0z\" fill=\"none\"/>\n",
              "    <path d=\"M18.56 5.44l.94 2.06.94-2.06 2.06-.94-2.06-.94-.94-2.06-.94 2.06-2.06.94zm-11 1L8.5 8.5l.94-2.06 2.06-.94-2.06-.94L8.5 2.5l-.94 2.06-2.06.94zm10 10l.94 2.06.94-2.06 2.06-.94-2.06-.94-.94-2.06-.94 2.06-2.06.94z\"/><path d=\"M17.41 7.96l-1.37-1.37c-.4-.4-.92-.59-1.43-.59-.52 0-1.04.2-1.43.59L10.3 9.45l-7.72 7.72c-.78.78-.78 2.05 0 2.83L4 21.41c.39.39.9.59 1.41.59.51 0 1.02-.2 1.41-.59l7.78-7.78 2.81-2.81c.8-.78.8-2.07 0-2.86zM5.41 20L4 18.59l7.72-7.72 1.47 1.35L5.41 20z\"/>\n",
              "  </svg>\n",
              "      </button>\n",
              "      \n",
              "  <style>\n",
              "    .colab-df-container {\n",
              "      display:flex;\n",
              "      flex-wrap:wrap;\n",
              "      gap: 12px;\n",
              "    }\n",
              "\n",
              "    .colab-df-convert {\n",
              "      background-color: #E8F0FE;\n",
              "      border: none;\n",
              "      border-radius: 50%;\n",
              "      cursor: pointer;\n",
              "      display: none;\n",
              "      fill: #1967D2;\n",
              "      height: 32px;\n",
              "      padding: 0 0 0 0;\n",
              "      width: 32px;\n",
              "    }\n",
              "\n",
              "    .colab-df-convert:hover {\n",
              "      background-color: #E2EBFA;\n",
              "      box-shadow: 0px 1px 2px rgba(60, 64, 67, 0.3), 0px 1px 3px 1px rgba(60, 64, 67, 0.15);\n",
              "      fill: #174EA6;\n",
              "    }\n",
              "\n",
              "    [theme=dark] .colab-df-convert {\n",
              "      background-color: #3B4455;\n",
              "      fill: #D2E3FC;\n",
              "    }\n",
              "\n",
              "    [theme=dark] .colab-df-convert:hover {\n",
              "      background-color: #434B5C;\n",
              "      box-shadow: 0px 1px 3px 1px rgba(0, 0, 0, 0.15);\n",
              "      filter: drop-shadow(0px 1px 2px rgba(0, 0, 0, 0.3));\n",
              "      fill: #FFFFFF;\n",
              "    }\n",
              "  </style>\n",
              "\n",
              "      <script>\n",
              "        const buttonEl =\n",
              "          document.querySelector('#df-e4d3f504-bd92-461d-b10b-aefd13e25139 button.colab-df-convert');\n",
              "        buttonEl.style.display =\n",
              "          google.colab.kernel.accessAllowed ? 'block' : 'none';\n",
              "\n",
              "        async function convertToInteractive(key) {\n",
              "          const element = document.querySelector('#df-e4d3f504-bd92-461d-b10b-aefd13e25139');\n",
              "          const dataTable =\n",
              "            await google.colab.kernel.invokeFunction('convertToInteractive',\n",
              "                                                     [key], {});\n",
              "          if (!dataTable) return;\n",
              "\n",
              "          const docLinkHtml = 'Like what you see? Visit the ' +\n",
              "            '<a target=\"_blank\" href=https://colab.research.google.com/notebooks/data_table.ipynb>data table notebook</a>'\n",
              "            + ' to learn more about interactive tables.';\n",
              "          element.innerHTML = '';\n",
              "          dataTable['output_type'] = 'display_data';\n",
              "          await google.colab.output.renderOutput(dataTable, element);\n",
              "          const docLink = document.createElement('div');\n",
              "          docLink.innerHTML = docLinkHtml;\n",
              "          element.appendChild(docLink);\n",
              "        }\n",
              "      </script>\n",
              "    </div>\n",
              "  </div>\n",
              "  "
            ]
          },
          "metadata": {},
          "execution_count": 22
        }
      ]
    },
    {
      "cell_type": "markdown",
      "source": [
        "#Identify Class Imbalance"
      ],
      "metadata": {
        "id": "dyhv0WEYAkD9"
      }
    },
    {
      "cell_type": "code",
      "source": [
        "from sklearn.metrics.pairwise import normalize\n",
        "#Check class balance of Target!\n",
        "df[\"Class\"].value_counts(normalize=True)"
      ],
      "metadata": {
        "colab": {
          "base_uri": "https://localhost:8080/"
        },
        "id": "5l9nW0uXAMii",
        "outputId": "305e83e0-1db2-4635-cc4c-6a94882ba412"
      },
      "execution_count": 23,
      "outputs": [
        {
          "output_type": "execute_result",
          "data": {
            "text/plain": [
              "0    0.99814\n",
              "1    0.00186\n",
              "Name: Class, dtype: float64"
            ]
          },
          "metadata": {},
          "execution_count": 23
        }
      ]
    },
    {
      "cell_type": "markdown",
      "source": [
        "# Train Test Split"
      ],
      "metadata": {
        "id": "aucMcqC3AmMs"
      }
    },
    {
      "cell_type": "code",
      "source": [
        "#Train test split\n",
        "X = df.drop(columns=\"Class\")\n",
        "y = df[\"Class\"]\n",
        "X_train, X_test, y_train, y_test = train_test_split(X, y, random_state=42)\n",
        "X_train.head()"
      ],
      "metadata": {
        "colab": {
          "base_uri": "https://localhost:8080/",
          "height": 300
        },
        "id": "9FHn1Q8KAng9",
        "outputId": "4e72e12d-33d4-4cd8-88e7-99561ca750c2"
      },
      "execution_count": 24,
      "outputs": [
        {
          "output_type": "execute_result",
          "data": {
            "text/plain": [
              "         Time        V1         V2        V3        V4        V5        V6  \\\n",
              "98980  163535 -3.402013  -1.959230  1.697897 -0.574571  1.578118 -0.738203   \n",
              "69824  169909 -2.922929   2.743307 -0.231333 -1.303000  0.154896 -1.154229   \n",
              "9928   128093  1.895663  -0.306936 -0.159864  1.428735 -0.664095 -0.278637   \n",
              "75599  119058 -9.937069 -11.130076  1.113445  2.814744  8.642702 -5.343725   \n",
              "95621  157820 -1.107827   0.818007  1.234411 -1.330788  1.058813 -0.716022   \n",
              "\n",
              "             V7        V8        V9  ...       V20       V21       V22  \\\n",
              "98980 -1.227197  0.411773  0.754016  ... -0.286165  0.189637  0.463070   \n",
              "69824  1.012886 -0.111809  1.653644  ...  1.216176 -0.575031 -0.830700   \n",
              "9928  -0.562491  0.021668  1.161200  ... -0.234903  0.214282  0.801253   \n",
              "75599 -3.153987  0.394385  0.604094  ... -0.515316 -0.787200 -1.132521   \n",
              "95621  1.184026 -0.194653 -0.324784  ... -0.176013  0.170286  0.593383   \n",
              "\n",
              "            V23       V24       V25       V26       V27       V28  Amount  \n",
              "98980 -1.262695  0.383015  0.348424 -0.329037 -0.187887 -0.507150    6.13  \n",
              "69824 -0.054742 -0.043275  0.386639  0.251902  1.204820  0.855432    4.45  \n",
              "9928   0.098965 -0.095154 -0.067988 -0.524432  0.061929 -0.028136   29.40  \n",
              "75599  6.475687  0.349284  2.232933 -0.895669  0.415665  0.234681   20.00  \n",
              "95621 -0.620247  1.205631  1.141304  0.598097 -0.192605  0.034651    3.07  \n",
              "\n",
              "[5 rows x 30 columns]"
            ],
            "text/html": [
              "\n",
              "  <div id=\"df-1a1c76af-0444-4336-9e7d-1c5f2e934bf6\">\n",
              "    <div class=\"colab-df-container\">\n",
              "      <div>\n",
              "<style scoped>\n",
              "    .dataframe tbody tr th:only-of-type {\n",
              "        vertical-align: middle;\n",
              "    }\n",
              "\n",
              "    .dataframe tbody tr th {\n",
              "        vertical-align: top;\n",
              "    }\n",
              "\n",
              "    .dataframe thead th {\n",
              "        text-align: right;\n",
              "    }\n",
              "</style>\n",
              "<table border=\"1\" class=\"dataframe\">\n",
              "  <thead>\n",
              "    <tr style=\"text-align: right;\">\n",
              "      <th></th>\n",
              "      <th>Time</th>\n",
              "      <th>V1</th>\n",
              "      <th>V2</th>\n",
              "      <th>V3</th>\n",
              "      <th>V4</th>\n",
              "      <th>V5</th>\n",
              "      <th>V6</th>\n",
              "      <th>V7</th>\n",
              "      <th>V8</th>\n",
              "      <th>V9</th>\n",
              "      <th>...</th>\n",
              "      <th>V20</th>\n",
              "      <th>V21</th>\n",
              "      <th>V22</th>\n",
              "      <th>V23</th>\n",
              "      <th>V24</th>\n",
              "      <th>V25</th>\n",
              "      <th>V26</th>\n",
              "      <th>V27</th>\n",
              "      <th>V28</th>\n",
              "      <th>Amount</th>\n",
              "    </tr>\n",
              "  </thead>\n",
              "  <tbody>\n",
              "    <tr>\n",
              "      <th>98980</th>\n",
              "      <td>163535</td>\n",
              "      <td>-3.402013</td>\n",
              "      <td>-1.959230</td>\n",
              "      <td>1.697897</td>\n",
              "      <td>-0.574571</td>\n",
              "      <td>1.578118</td>\n",
              "      <td>-0.738203</td>\n",
              "      <td>-1.227197</td>\n",
              "      <td>0.411773</td>\n",
              "      <td>0.754016</td>\n",
              "      <td>...</td>\n",
              "      <td>-0.286165</td>\n",
              "      <td>0.189637</td>\n",
              "      <td>0.463070</td>\n",
              "      <td>-1.262695</td>\n",
              "      <td>0.383015</td>\n",
              "      <td>0.348424</td>\n",
              "      <td>-0.329037</td>\n",
              "      <td>-0.187887</td>\n",
              "      <td>-0.507150</td>\n",
              "      <td>6.13</td>\n",
              "    </tr>\n",
              "    <tr>\n",
              "      <th>69824</th>\n",
              "      <td>169909</td>\n",
              "      <td>-2.922929</td>\n",
              "      <td>2.743307</td>\n",
              "      <td>-0.231333</td>\n",
              "      <td>-1.303000</td>\n",
              "      <td>0.154896</td>\n",
              "      <td>-1.154229</td>\n",
              "      <td>1.012886</td>\n",
              "      <td>-0.111809</td>\n",
              "      <td>1.653644</td>\n",
              "      <td>...</td>\n",
              "      <td>1.216176</td>\n",
              "      <td>-0.575031</td>\n",
              "      <td>-0.830700</td>\n",
              "      <td>-0.054742</td>\n",
              "      <td>-0.043275</td>\n",
              "      <td>0.386639</td>\n",
              "      <td>0.251902</td>\n",
              "      <td>1.204820</td>\n",
              "      <td>0.855432</td>\n",
              "      <td>4.45</td>\n",
              "    </tr>\n",
              "    <tr>\n",
              "      <th>9928</th>\n",
              "      <td>128093</td>\n",
              "      <td>1.895663</td>\n",
              "      <td>-0.306936</td>\n",
              "      <td>-0.159864</td>\n",
              "      <td>1.428735</td>\n",
              "      <td>-0.664095</td>\n",
              "      <td>-0.278637</td>\n",
              "      <td>-0.562491</td>\n",
              "      <td>0.021668</td>\n",
              "      <td>1.161200</td>\n",
              "      <td>...</td>\n",
              "      <td>-0.234903</td>\n",
              "      <td>0.214282</td>\n",
              "      <td>0.801253</td>\n",
              "      <td>0.098965</td>\n",
              "      <td>-0.095154</td>\n",
              "      <td>-0.067988</td>\n",
              "      <td>-0.524432</td>\n",
              "      <td>0.061929</td>\n",
              "      <td>-0.028136</td>\n",
              "      <td>29.40</td>\n",
              "    </tr>\n",
              "    <tr>\n",
              "      <th>75599</th>\n",
              "      <td>119058</td>\n",
              "      <td>-9.937069</td>\n",
              "      <td>-11.130076</td>\n",
              "      <td>1.113445</td>\n",
              "      <td>2.814744</td>\n",
              "      <td>8.642702</td>\n",
              "      <td>-5.343725</td>\n",
              "      <td>-3.153987</td>\n",
              "      <td>0.394385</td>\n",
              "      <td>0.604094</td>\n",
              "      <td>...</td>\n",
              "      <td>-0.515316</td>\n",
              "      <td>-0.787200</td>\n",
              "      <td>-1.132521</td>\n",
              "      <td>6.475687</td>\n",
              "      <td>0.349284</td>\n",
              "      <td>2.232933</td>\n",
              "      <td>-0.895669</td>\n",
              "      <td>0.415665</td>\n",
              "      <td>0.234681</td>\n",
              "      <td>20.00</td>\n",
              "    </tr>\n",
              "    <tr>\n",
              "      <th>95621</th>\n",
              "      <td>157820</td>\n",
              "      <td>-1.107827</td>\n",
              "      <td>0.818007</td>\n",
              "      <td>1.234411</td>\n",
              "      <td>-1.330788</td>\n",
              "      <td>1.058813</td>\n",
              "      <td>-0.716022</td>\n",
              "      <td>1.184026</td>\n",
              "      <td>-0.194653</td>\n",
              "      <td>-0.324784</td>\n",
              "      <td>...</td>\n",
              "      <td>-0.176013</td>\n",
              "      <td>0.170286</td>\n",
              "      <td>0.593383</td>\n",
              "      <td>-0.620247</td>\n",
              "      <td>1.205631</td>\n",
              "      <td>1.141304</td>\n",
              "      <td>0.598097</td>\n",
              "      <td>-0.192605</td>\n",
              "      <td>0.034651</td>\n",
              "      <td>3.07</td>\n",
              "    </tr>\n",
              "  </tbody>\n",
              "</table>\n",
              "<p>5 rows × 30 columns</p>\n",
              "</div>\n",
              "      <button class=\"colab-df-convert\" onclick=\"convertToInteractive('df-1a1c76af-0444-4336-9e7d-1c5f2e934bf6')\"\n",
              "              title=\"Convert this dataframe to an interactive table.\"\n",
              "              style=\"display:none;\">\n",
              "        \n",
              "  <svg xmlns=\"http://www.w3.org/2000/svg\" height=\"24px\"viewBox=\"0 0 24 24\"\n",
              "       width=\"24px\">\n",
              "    <path d=\"M0 0h24v24H0V0z\" fill=\"none\"/>\n",
              "    <path d=\"M18.56 5.44l.94 2.06.94-2.06 2.06-.94-2.06-.94-.94-2.06-.94 2.06-2.06.94zm-11 1L8.5 8.5l.94-2.06 2.06-.94-2.06-.94L8.5 2.5l-.94 2.06-2.06.94zm10 10l.94 2.06.94-2.06 2.06-.94-2.06-.94-.94-2.06-.94 2.06-2.06.94z\"/><path d=\"M17.41 7.96l-1.37-1.37c-.4-.4-.92-.59-1.43-.59-.52 0-1.04.2-1.43.59L10.3 9.45l-7.72 7.72c-.78.78-.78 2.05 0 2.83L4 21.41c.39.39.9.59 1.41.59.51 0 1.02-.2 1.41-.59l7.78-7.78 2.81-2.81c.8-.78.8-2.07 0-2.86zM5.41 20L4 18.59l7.72-7.72 1.47 1.35L5.41 20z\"/>\n",
              "  </svg>\n",
              "      </button>\n",
              "      \n",
              "  <style>\n",
              "    .colab-df-container {\n",
              "      display:flex;\n",
              "      flex-wrap:wrap;\n",
              "      gap: 12px;\n",
              "    }\n",
              "\n",
              "    .colab-df-convert {\n",
              "      background-color: #E8F0FE;\n",
              "      border: none;\n",
              "      border-radius: 50%;\n",
              "      cursor: pointer;\n",
              "      display: none;\n",
              "      fill: #1967D2;\n",
              "      height: 32px;\n",
              "      padding: 0 0 0 0;\n",
              "      width: 32px;\n",
              "    }\n",
              "\n",
              "    .colab-df-convert:hover {\n",
              "      background-color: #E2EBFA;\n",
              "      box-shadow: 0px 1px 2px rgba(60, 64, 67, 0.3), 0px 1px 3px 1px rgba(60, 64, 67, 0.15);\n",
              "      fill: #174EA6;\n",
              "    }\n",
              "\n",
              "    [theme=dark] .colab-df-convert {\n",
              "      background-color: #3B4455;\n",
              "      fill: #D2E3FC;\n",
              "    }\n",
              "\n",
              "    [theme=dark] .colab-df-convert:hover {\n",
              "      background-color: #434B5C;\n",
              "      box-shadow: 0px 1px 3px 1px rgba(0, 0, 0, 0.15);\n",
              "      filter: drop-shadow(0px 1px 2px rgba(0, 0, 0, 0.3));\n",
              "      fill: #FFFFFF;\n",
              "    }\n",
              "  </style>\n",
              "\n",
              "      <script>\n",
              "        const buttonEl =\n",
              "          document.querySelector('#df-1a1c76af-0444-4336-9e7d-1c5f2e934bf6 button.colab-df-convert');\n",
              "        buttonEl.style.display =\n",
              "          google.colab.kernel.accessAllowed ? 'block' : 'none';\n",
              "\n",
              "        async function convertToInteractive(key) {\n",
              "          const element = document.querySelector('#df-1a1c76af-0444-4336-9e7d-1c5f2e934bf6');\n",
              "          const dataTable =\n",
              "            await google.colab.kernel.invokeFunction('convertToInteractive',\n",
              "                                                     [key], {});\n",
              "          if (!dataTable) return;\n",
              "\n",
              "          const docLinkHtml = 'Like what you see? Visit the ' +\n",
              "            '<a target=\"_blank\" href=https://colab.research.google.com/notebooks/data_table.ipynb>data table notebook</a>'\n",
              "            + ' to learn more about interactive tables.';\n",
              "          element.innerHTML = '';\n",
              "          dataTable['output_type'] = 'display_data';\n",
              "          await google.colab.output.renderOutput(dataTable, element);\n",
              "          const docLink = document.createElement('div');\n",
              "          docLink.innerHTML = docLinkHtml;\n",
              "          element.appendChild(docLink);\n",
              "        }\n",
              "      </script>\n",
              "    </div>\n",
              "  </div>\n",
              "  "
            ]
          },
          "metadata": {},
          "execution_count": 24
        }
      ]
    },
    {
      "cell_type": "markdown",
      "source": [
        "# Baseline Model\n"
      ],
      "metadata": {
        "id": "9bOkmDUTB7ja"
      }
    },
    {
      "cell_type": "code",
      "source": [
        "#Create a baseline model pipeline\n",
        "log_reg = LogisticRegression(max_iter=1000)\n",
        "scaler = StandardScaler()\n",
        "log_reg_pipe = make_pipeline(scaler, log_reg)\n",
        "#Fit and evaluate the baseline model pipeline\n",
        "log_reg_pipe.fit(X_train, y_train)\n",
        "train_preds = log_reg_pipe.predict(X_train)\n",
        "test_preds = log_reg_pipe.predict(X_test)\n",
        "print(classification_report(y_test, test_preds))\n",
        "ConfusionMatrixDisplay.from_predictions(y_test, test_preds, normalize=\"true\", cmap=\"Greens\");"
      ],
      "metadata": {
        "colab": {
          "base_uri": "https://localhost:8080/",
          "height": 610
        },
        "id": "l92pwQRSB8cC",
        "outputId": "91588cec-392f-4ecd-b7db-eee49d3f4af3"
      },
      "execution_count": 25,
      "outputs": [
        {
          "output_type": "stream",
          "name": "stdout",
          "text": [
            "              precision    recall  f1-score   support\n",
            "\n",
            "           0       1.00      1.00      1.00     24955\n",
            "           1       0.91      0.69      0.78        45\n",
            "\n",
            "    accuracy                           1.00     25000\n",
            "   macro avg       0.96      0.84      0.89     25000\n",
            "weighted avg       1.00      1.00      1.00     25000\n",
            "\n"
          ]
        },
        {
          "output_type": "display_data",
          "data": {
            "text/plain": [
              "<Figure size 640x480 with 2 Axes>"
            ],
            "image/png": "[encoded data removed]"
          },
          "metadata": {}
        }
      ]
    },
    {
      "cell_type": "markdown",
      "source": [
        "# Class Weights"
      ],
      "metadata": {
        "id": "Vo_K0sUyJiu8"
      }
    },
    {
      "cell_type": "code",
      "source": [
        "#Instantiate the pipeline with the scaler and weighted model\n",
        "log_reg_weighted = LogisticRegression(max_iter=1000, class_weight=\"balanced\")\n",
        "scaler = StandardScaler()\n",
        "log_reg_weighted_pipe = make_pipeline(scaler, log_reg_weighted)\n",
        "#Fit and evaluate the model\n",
        "log_reg_weighted_pipe.fit(X_train, y_train)\n",
        "test_preds = log_reg_weighted_pipe.predict(X_test)\n",
        "print(classification_report(y_test, test_preds))\n",
        "ConfusionMatrixDisplay.from_predictions(y_test, test_preds, normalize=\"true\", cmap=\"Greens\");"
      ],
      "metadata": {
        "colab": {
          "base_uri": "https://localhost:8080/",
          "height": 610
        },
        "id": "Ov5_DmkFJjew",
        "outputId": "61c72b9b-85d7-4846-e8f1-71fa00bc39b3"
      },
      "execution_count": 26,
      "outputs": [
        {
          "output_type": "stream",
          "name": "stdout",
          "text": [
            "              precision    recall  f1-score   support\n",
            "\n",
            "           0       1.00      0.98      0.99     24955\n",
            "           1       0.07      0.96      0.13        45\n",
            "\n",
            "    accuracy                           0.98     25000\n",
            "   macro avg       0.53      0.97      0.56     25000\n",
            "weighted avg       1.00      0.98      0.99     25000\n",
            "\n"
          ]
        },
        {
          "output_type": "display_data",
          "data": {
            "text/plain": [
              "<Figure size 640x480 with 2 Axes>"
            ],
            "image/png": "[encoded data removed]"
          },
          "metadata": {}
        }
      ]
    },
    {
      "cell_type": "markdown",
      "source": [
        "# Random Undersampling\n"
      ],
      "metadata": {
        "id": "ABJDHqDTNI_0"
      }
    },
    {
      "cell_type": "code",
      "source": [
        "#create scaler and under sampler pipeline\n",
        "under_sampler = RandomUnderSampler()\n",
        "scaler = StandardScaler()\n",
        "under_sample_pipe = make_sampler_pipeline(scaler, under_sampler)\n",
        "#Compare the shape and value counts of the remaining data.\n",
        "X_train_under, y_train_under = under_sample_pipe.fit_resample(X_train, y_train)\n",
        "print(\"Original X_train class balance\")\n",
        "print(y_train.value_counts())\n",
        "print(\"\\nUndersampled X_train_under class balance\")\n",
        "y_train_under = pd.Series(y_train_under)\n",
        "print(y_train_under.value_counts())"
      ],
      "metadata": {
        "colab": {
          "base_uri": "https://localhost:8080/"
        },
        "id": "0zGat3vNNJ_2",
        "outputId": "f847fc0c-28aa-4336-b0f4-d4f1b2c2834c"
      },
      "execution_count": 27,
      "outputs": [
        {
          "output_type": "stream",
          "name": "stdout",
          "text": [
            "Original X_train class balance\n",
            "0    74859\n",
            "1      141\n",
            "Name: Class, dtype: int64\n",
            "\n",
            "Undersampled X_train_under class balance\n",
            "0    141\n",
            "1    141\n",
            "Name: Class, dtype: int64\n"
          ]
        }
      ]
    },
    {
      "cell_type": "markdown",
      "source": [
        "## Testing New Balanced Class"
      ],
      "metadata": {
        "id": "Z3lQl4oqMZ8p"
      }
    },
    {
      "cell_type": "code",
      "source": [
        "#create the pipeline\n",
        "log_reg_under = LogisticRegression(max_iter=1000)\n",
        "under_sample_log_reg_pipe = make_sampler_pipeline(scaler, under_sampler, log_reg_under)\n",
        "#Fit and evaluate the model\n",
        "under_sample_log_reg_pipe.fit(X_train, y_train)\n",
        "test_preds = under_sample_log_reg_pipe.predict(X_test)\n",
        "print(classification_report(y_test, test_preds))\n",
        "ConfusionMatrixDisplay.from_predictions(y_test, test_preds, normalize=\"true\", cmap=\"Greens\")"
      ],
      "metadata": {
        "colab": {
          "base_uri": "https://localhost:8080/",
          "height": 628
        },
        "id": "ghNK1ZWwMVUI",
        "outputId": "e5e89fd6-8462-4c36-a23d-7dc6f291f822"
      },
      "execution_count": 28,
      "outputs": [
        {
          "output_type": "stream",
          "name": "stdout",
          "text": [
            "              precision    recall  f1-score   support\n",
            "\n",
            "           0       1.00      0.93      0.96     24955\n",
            "           1       0.03      0.98      0.05        45\n",
            "\n",
            "    accuracy                           0.93     25000\n",
            "   macro avg       0.51      0.95      0.51     25000\n",
            "weighted avg       1.00      0.93      0.96     25000\n",
            "\n"
          ]
        },
        {
          "output_type": "execute_result",
          "data": {
            "text/plain": [
              "<sklearn.metrics._plot.confusion_matrix.ConfusionMatrixDisplay at 0x7fa063a666e0>"
            ]
          },
          "metadata": {},
          "execution_count": 28
        },
        {
          "output_type": "display_data",
          "data": {
            "text/plain": [
              "<Figure size 640x480 with 2 Axes>"
            ],
            "image/png": "[encoded data removed]"
          },
          "metadata": {}
        }
      ]
    },
    {
      "cell_type": "markdown",
      "source": [
        "# Random Oversampling"
      ],
      "metadata": {
        "id": "qfZRpC9-QFvl"
      }
    },
    {
      "cell_type": "code",
      "source": [
        "#Create an oversampling pipeline\n",
        "over_sampler = RandomOverSampler()\n",
        "over_sample_pipe = make_sampler_pipeline(scaler, over_sampler)\n",
        "#Scale and oversample the data.\n",
        "X_train_over, y_train_over = over_sample_pipe.fit_resample(X_train, y_train)\n",
        "#Explore the sresampled data\n",
        "print(\"Original X_train Class balance\")\n",
        "print(y_train.value_counts())\n",
        "print(\"\\nOverSampled X_train_over class balance\")\n",
        "y_train_over = pd.Series(y_train_over)\n",
        "print(y_train_over.value_counts())"
      ],
      "metadata": {
        "colab": {
          "base_uri": "https://localhost:8080/"
        },
        "id": "ieMZqhboQGd4",
        "outputId": "d67c75c3-7783-4bd2-f07c-d109261052c9"
      },
      "execution_count": 29,
      "outputs": [
        {
          "output_type": "stream",
          "name": "stdout",
          "text": [
            "Original X_train Class balance\n",
            "0    74859\n",
            "1      141\n",
            "Name: Class, dtype: int64\n",
            "\n",
            "OverSampled X_train_over class balance\n",
            "0    74859\n",
            "1    74859\n",
            "Name: Class, dtype: int64\n"
          ]
        }
      ]
    },
    {
      "cell_type": "code",
      "source": [
        "#Create an oversampling pipeline\n",
        "log_reg_over = LogisticRegression(max_iter=1000)\n",
        "over_sample_log_reg_pipe = make_sampler_pipeline(scaler, over_sampler, log_reg_over)\n",
        "#Fit and evaluate the model\n",
        "over_sample_log_reg_pipe.fit(X_train, y_train)\n",
        "test_preds = over_sample_log_reg_pipe.predict(X_test)\n",
        "print(classification_report(y_test, test_preds))\n",
        "ConfusionMatrixDisplay.from_predictions(y_test, test_preds, normalize=\"true\", cmap=\"Greens\");"
      ],
      "metadata": {
        "colab": {
          "base_uri": "https://localhost:8080/",
          "height": 610
        },
        "id": "zjqjYe4WX_IE",
        "outputId": "97429de9-36ea-4de5-f25e-6973855062eb"
      },
      "execution_count": 30,
      "outputs": [
        {
          "output_type": "stream",
          "name": "stdout",
          "text": [
            "              precision    recall  f1-score   support\n",
            "\n",
            "           0       1.00      0.98      0.99     24955\n",
            "           1       0.07      0.96      0.13        45\n",
            "\n",
            "    accuracy                           0.98     25000\n",
            "   macro avg       0.53      0.97      0.56     25000\n",
            "weighted avg       1.00      0.98      0.99     25000\n",
            "\n"
          ]
        },
        {
          "output_type": "display_data",
          "data": {
            "text/plain": [
              "<Figure size 640x480 with 2 Axes>"
            ],
            "image/png": "[encoded data removed]"
          },
          "metadata": {}
        }
      ]
    },
    {
      "cell_type": "markdown",
      "source": [
        "# SMOTE"
      ],
      "metadata": {
        "id": "bquAh4wOcLhJ"
      }
    },
    {
      "cell_type": "code",
      "source": [
        "#Create model pipeline with scaler, SMOTE, and model\n",
        "smote = SMOTE()\n",
        "log_reg_smote = LogisticRegression(max_iter=1000)\n",
        "log_reg_smote_pipe = make_sampler_pipeline(scaler, smote, log_reg_smote)\n",
        "#Fit and evaluate the model pipeline\n",
        "log_reg_smote_pipe.fit(X_train, y_train)\n",
        "test_preds = log_reg_smote_pipe.predict(X_test)\n",
        "print(classification_report(y_test, test_preds))\n",
        "ConfusionMatrixDisplay.from_predictions(y_test, test_preds, normalize=\"true\", cmap=\"Greens\");"
      ],
      "metadata": {
        "colab": {
          "base_uri": "https://localhost:8080/",
          "height": 610
        },
        "id": "QlxdKTEjcN-X",
        "outputId": "f01e3101-371a-464f-9a8a-7a36ac5efe73"
      },
      "execution_count": 31,
      "outputs": [
        {
          "output_type": "stream",
          "name": "stdout",
          "text": [
            "              precision    recall  f1-score   support\n",
            "\n",
            "           0       1.00      0.97      0.99     24955\n",
            "           1       0.06      0.96      0.11        45\n",
            "\n",
            "    accuracy                           0.97     25000\n",
            "   macro avg       0.53      0.96      0.55     25000\n",
            "weighted avg       1.00      0.97      0.98     25000\n",
            "\n"
          ]
        },
        {
          "output_type": "display_data",
          "data": {
            "text/plain": [
              "<Figure size 640x480 with 2 Axes>"
            ],
            "image/png": "[encoded data removed]"
          },
          "metadata": {}
        }
      ]
    }
  ]
}