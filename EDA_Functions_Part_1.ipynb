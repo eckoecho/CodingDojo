{
  "nbformat": 4,
  "nbformat_minor": 0,
  "metadata": {
    "colab": {
      "provenance": [],
      "mount_file_id": "1zyGpLnFR_5ue43xcbiHJTAOTd7ge3ORr",
      "authorship_tag": "ABX9TyOwQGXha/pLSjnM4hk1eKE2",
      "include_colab_link": true
    },
    "kernelspec": {
      "name": "python3",
      "display_name": "Python 3"
    },
    "language_info": {
      "name": "python"
    }
  },
  "cells": [
    {
      "cell_type": "markdown",
      "metadata": {
        "id": "view-in-github",
        "colab_type": "text"
      },
      "source": [
        "<a href=\"https://colab.research.google.com/github/eckoecho/CodingDojo/blob/Types-of-Features/EDA_Functions_Part_1.ipynb\" target=\"_parent\"><img src=\"https://colab.research.google.com/assets/colab-badge.svg\" alt=\"Open In Colab\"/></a>"
      ]
    },
    {
      "cell_type": "code",
      "execution_count": 23,
      "metadata": {
        "id": "XHrUbPFFKOMu"
      },
      "outputs": [],
      "source": [
        "#Importing necessary libraries\n",
        "import pandas as pd\n",
        "import seaborn as sns\n",
        "import matplotlib.pyplot as plt"
      ]
    },
    {
      "cell_type": "code",
      "source": [
        "# This is the Ames data after the week 5 cleaning steps (still has null values)\n",
        "fpath=\"/content/drive/MyDrive/CodingDojo/02-MachineLearning/Week05/Data/Prepped-ames-housing-dojo-for-ml.csv\"\n",
        "df = pd.read_csv(fpath)\n",
        "df.head()"
      ],
      "metadata": {
        "colab": {
          "base_uri": "https://localhost:8080/",
          "height": 421
        },
        "id": "LZO9LAcKKyiy",
        "outputId": "ef4d6a87-5751-4001-80f9-d3c9602341dd"
      },
      "execution_count": 24,
      "outputs": [
        {
          "output_type": "execute_result",
          "data": {
            "text/plain": [
              "         PID MS Zoning  Lot Frontage  Lot Area Street Alley Utilities  \\\n",
              "0  907227090        RL          60.0      7200   Pave   NaN    AllPub   \n",
              "1  527108010        RL         134.0     19378   Pave   NaN    AllPub   \n",
              "2  534275170        RL           NaN     12772   Pave   NaN    AllPub   \n",
              "3  528104050        RL         114.0     14803   Pave   NaN    AllPub   \n",
              "4  533206070        FV          32.0      3784   Pave  Pave    AllPub   \n",
              "\n",
              "  Neighborhood Bldg Type House Style  ...  Garage Qual  Garage Cond  \\\n",
              "0      CollgCr      1Fam      1Story  ...           TA           TA   \n",
              "1      Gilbert      1Fam      2Story  ...           TA           TA   \n",
              "2        NAmes      1Fam      1Story  ...           TA           TA   \n",
              "3      NridgHt      1Fam      1Story  ...           TA           TA   \n",
              "4      Somerst    TwnhsE      1Story  ...           TA           TA   \n",
              "\n",
              "   Paved Drive  Fence Date Sold SalePrice  Month  Year Total Half Baths  \\\n",
              "0            Y  MnPrv   03-2006  119900.0      3  2006              0.0   \n",
              "1            Y    NaN   03-2006  320000.0      3  2006              1.0   \n",
              "2            Y    NaN   04-2007  151500.0      4  2007              0.0   \n",
              "3            Y    NaN   06-2008  385000.0      6  2008              0.0   \n",
              "4            Y    NaN   02-2007  193800.0      2  2007              0.0   \n",
              "\n",
              "   Total Full Baths  \n",
              "0               1.0  \n",
              "1               3.0  \n",
              "2               1.0  \n",
              "3               3.0  \n",
              "4               3.0  \n",
              "\n",
              "[5 rows x 39 columns]"
            ],
            "text/html": [
              "\n",
              "  <div id=\"df-0114a409-582d-43ad-a67d-30d4091f93c8\">\n",
              "    <div class=\"colab-df-container\">\n",
              "      <div>\n",
              "<style scoped>\n",
              "    .dataframe tbody tr th:only-of-type {\n",
              "        vertical-align: middle;\n",
              "    }\n",
              "\n",
              "    .dataframe tbody tr th {\n",
              "        vertical-align: top;\n",
              "    }\n",
              "\n",
              "    .dataframe thead th {\n",
              "        text-align: right;\n",
              "    }\n",
              "</style>\n",
              "<table border=\"1\" class=\"dataframe\">\n",
              "  <thead>\n",
              "    <tr style=\"text-align: right;\">\n",
              "      <th></th>\n",
              "      <th>PID</th>\n",
              "      <th>MS Zoning</th>\n",
              "      <th>Lot Frontage</th>\n",
              "      <th>Lot Area</th>\n",
              "      <th>Street</th>\n",
              "      <th>Alley</th>\n",
              "      <th>Utilities</th>\n",
              "      <th>Neighborhood</th>\n",
              "      <th>Bldg Type</th>\n",
              "      <th>House Style</th>\n",
              "      <th>...</th>\n",
              "      <th>Garage Qual</th>\n",
              "      <th>Garage Cond</th>\n",
              "      <th>Paved Drive</th>\n",
              "      <th>Fence</th>\n",
              "      <th>Date Sold</th>\n",
              "      <th>SalePrice</th>\n",
              "      <th>Month</th>\n",
              "      <th>Year</th>\n",
              "      <th>Total Half Baths</th>\n",
              "      <th>Total Full Baths</th>\n",
              "    </tr>\n",
              "  </thead>\n",
              "  <tbody>\n",
              "    <tr>\n",
              "      <th>0</th>\n",
              "      <td>907227090</td>\n",
              "      <td>RL</td>\n",
              "      <td>60.0</td>\n",
              "      <td>7200</td>\n",
              "      <td>Pave</td>\n",
              "      <td>NaN</td>\n",
              "      <td>AllPub</td>\n",
              "      <td>CollgCr</td>\n",
              "      <td>1Fam</td>\n",
              "      <td>1Story</td>\n",
              "      <td>...</td>\n",
              "      <td>TA</td>\n",
              "      <td>TA</td>\n",
              "      <td>Y</td>\n",
              "      <td>MnPrv</td>\n",
              "      <td>03-2006</td>\n",
              "      <td>119900.0</td>\n",
              "      <td>3</td>\n",
              "      <td>2006</td>\n",
              "      <td>0.0</td>\n",
              "      <td>1.0</td>\n",
              "    </tr>\n",
              "    <tr>\n",
              "      <th>1</th>\n",
              "      <td>527108010</td>\n",
              "      <td>RL</td>\n",
              "      <td>134.0</td>\n",
              "      <td>19378</td>\n",
              "      <td>Pave</td>\n",
              "      <td>NaN</td>\n",
              "      <td>AllPub</td>\n",
              "      <td>Gilbert</td>\n",
              "      <td>1Fam</td>\n",
              "      <td>2Story</td>\n",
              "      <td>...</td>\n",
              "      <td>TA</td>\n",
              "      <td>TA</td>\n",
              "      <td>Y</td>\n",
              "      <td>NaN</td>\n",
              "      <td>03-2006</td>\n",
              "      <td>320000.0</td>\n",
              "      <td>3</td>\n",
              "      <td>2006</td>\n",
              "      <td>1.0</td>\n",
              "      <td>3.0</td>\n",
              "    </tr>\n",
              "    <tr>\n",
              "      <th>2</th>\n",
              "      <td>534275170</td>\n",
              "      <td>RL</td>\n",
              "      <td>NaN</td>\n",
              "      <td>12772</td>\n",
              "      <td>Pave</td>\n",
              "      <td>NaN</td>\n",
              "      <td>AllPub</td>\n",
              "      <td>NAmes</td>\n",
              "      <td>1Fam</td>\n",
              "      <td>1Story</td>\n",
              "      <td>...</td>\n",
              "      <td>TA</td>\n",
              "      <td>TA</td>\n",
              "      <td>Y</td>\n",
              "      <td>NaN</td>\n",
              "      <td>04-2007</td>\n",
              "      <td>151500.0</td>\n",
              "      <td>4</td>\n",
              "      <td>2007</td>\n",
              "      <td>0.0</td>\n",
              "      <td>1.0</td>\n",
              "    </tr>\n",
              "    <tr>\n",
              "      <th>3</th>\n",
              "      <td>528104050</td>\n",
              "      <td>RL</td>\n",
              "      <td>114.0</td>\n",
              "      <td>14803</td>\n",
              "      <td>Pave</td>\n",
              "      <td>NaN</td>\n",
              "      <td>AllPub</td>\n",
              "      <td>NridgHt</td>\n",
              "      <td>1Fam</td>\n",
              "      <td>1Story</td>\n",
              "      <td>...</td>\n",
              "      <td>TA</td>\n",
              "      <td>TA</td>\n",
              "      <td>Y</td>\n",
              "      <td>NaN</td>\n",
              "      <td>06-2008</td>\n",
              "      <td>385000.0</td>\n",
              "      <td>6</td>\n",
              "      <td>2008</td>\n",
              "      <td>0.0</td>\n",
              "      <td>3.0</td>\n",
              "    </tr>\n",
              "    <tr>\n",
              "      <th>4</th>\n",
              "      <td>533206070</td>\n",
              "      <td>FV</td>\n",
              "      <td>32.0</td>\n",
              "      <td>3784</td>\n",
              "      <td>Pave</td>\n",
              "      <td>Pave</td>\n",
              "      <td>AllPub</td>\n",
              "      <td>Somerst</td>\n",
              "      <td>TwnhsE</td>\n",
              "      <td>1Story</td>\n",
              "      <td>...</td>\n",
              "      <td>TA</td>\n",
              "      <td>TA</td>\n",
              "      <td>Y</td>\n",
              "      <td>NaN</td>\n",
              "      <td>02-2007</td>\n",
              "      <td>193800.0</td>\n",
              "      <td>2</td>\n",
              "      <td>2007</td>\n",
              "      <td>0.0</td>\n",
              "      <td>3.0</td>\n",
              "    </tr>\n",
              "  </tbody>\n",
              "</table>\n",
              "<p>5 rows × 39 columns</p>\n",
              "</div>\n",
              "      <button class=\"colab-df-convert\" onclick=\"convertToInteractive('df-0114a409-582d-43ad-a67d-30d4091f93c8')\"\n",
              "              title=\"Convert this dataframe to an interactive table.\"\n",
              "              style=\"display:none;\">\n",
              "        \n",
              "  <svg xmlns=\"http://www.w3.org/2000/svg\" height=\"24px\"viewBox=\"0 0 24 24\"\n",
              "       width=\"24px\">\n",
              "    <path d=\"M0 0h24v24H0V0z\" fill=\"none\"/>\n",
              "    <path d=\"M18.56 5.44l.94 2.06.94-2.06 2.06-.94-2.06-.94-.94-2.06-.94 2.06-2.06.94zm-11 1L8.5 8.5l.94-2.06 2.06-.94-2.06-.94L8.5 2.5l-.94 2.06-2.06.94zm10 10l.94 2.06.94-2.06 2.06-.94-2.06-.94-.94-2.06-.94 2.06-2.06.94z\"/><path d=\"M17.41 7.96l-1.37-1.37c-.4-.4-.92-.59-1.43-.59-.52 0-1.04.2-1.43.59L10.3 9.45l-7.72 7.72c-.78.78-.78 2.05 0 2.83L4 21.41c.39.39.9.59 1.41.59.51 0 1.02-.2 1.41-.59l7.78-7.78 2.81-2.81c.8-.78.8-2.07 0-2.86zM5.41 20L4 18.59l7.72-7.72 1.47 1.35L5.41 20z\"/>\n",
              "  </svg>\n",
              "      </button>\n",
              "      \n",
              "  <style>\n",
              "    .colab-df-container {\n",
              "      display:flex;\n",
              "      flex-wrap:wrap;\n",
              "      gap: 12px;\n",
              "    }\n",
              "\n",
              "    .colab-df-convert {\n",
              "      background-color: #E8F0FE;\n",
              "      border: none;\n",
              "      border-radius: 50%;\n",
              "      cursor: pointer;\n",
              "      display: none;\n",
              "      fill: #1967D2;\n",
              "      height: 32px;\n",
              "      padding: 0 0 0 0;\n",
              "      width: 32px;\n",
              "    }\n",
              "\n",
              "    .colab-df-convert:hover {\n",
              "      background-color: #E2EBFA;\n",
              "      box-shadow: 0px 1px 2px rgba(60, 64, 67, 0.3), 0px 1px 3px 1px rgba(60, 64, 67, 0.15);\n",
              "      fill: #174EA6;\n",
              "    }\n",
              "\n",
              "    [theme=dark] .colab-df-convert {\n",
              "      background-color: #3B4455;\n",
              "      fill: #D2E3FC;\n",
              "    }\n",
              "\n",
              "    [theme=dark] .colab-df-convert:hover {\n",
              "      background-color: #434B5C;\n",
              "      box-shadow: 0px 1px 3px 1px rgba(0, 0, 0, 0.15);\n",
              "      filter: drop-shadow(0px 1px 2px rgba(0, 0, 0, 0.3));\n",
              "      fill: #FFFFFF;\n",
              "    }\n",
              "  </style>\n",
              "\n",
              "      <script>\n",
              "        const buttonEl =\n",
              "          document.querySelector('#df-0114a409-582d-43ad-a67d-30d4091f93c8 button.colab-df-convert');\n",
              "        buttonEl.style.display =\n",
              "          google.colab.kernel.accessAllowed ? 'block' : 'none';\n",
              "\n",
              "        async function convertToInteractive(key) {\n",
              "          const element = document.querySelector('#df-0114a409-582d-43ad-a67d-30d4091f93c8');\n",
              "          const dataTable =\n",
              "            await google.colab.kernel.invokeFunction('convertToInteractive',\n",
              "                                                     [key], {});\n",
              "          if (!dataTable) return;\n",
              "\n",
              "          const docLinkHtml = 'Like what you see? Visit the ' +\n",
              "            '<a target=\"_blank\" href=https://colab.research.google.com/notebooks/data_table.ipynb>data table notebook</a>'\n",
              "            + ' to learn more about interactive tables.';\n",
              "          element.innerHTML = '';\n",
              "          dataTable['output_type'] = 'display_data';\n",
              "          await google.colab.output.renderOutput(dataTable, element);\n",
              "          const docLink = document.createElement('div');\n",
              "          docLink.innerHTML = docLinkHtml;\n",
              "          element.appendChild(docLink);\n",
              "        }\n",
              "      </script>\n",
              "    </div>\n",
              "  </div>\n",
              "  "
            ]
          },
          "metadata": {},
          "execution_count": 24
        }
      ]
    },
    {
      "cell_type": "code",
      "source": [
        "#Setting PID as the index\n",
        "df = df.set_index(\"PID\")\n",
        "df.info()"
      ],
      "metadata": {
        "colab": {
          "base_uri": "https://localhost:8080/"
        },
        "id": "w3wwtW9ILkfC",
        "outputId": "53d88eba-ea68-4b63-f420-1e80367a40a8"
      },
      "execution_count": 25,
      "outputs": [
        {
          "output_type": "stream",
          "name": "stdout",
          "text": [
            "<class 'pandas.core.frame.DataFrame'>\n",
            "Int64Index: 2930 entries, 907227090 to 902201120\n",
            "Data columns (total 38 columns):\n",
            " #   Column            Non-Null Count  Dtype  \n",
            "---  ------            --------------  -----  \n",
            " 0   MS Zoning         2930 non-null   object \n",
            " 1   Lot Frontage      2440 non-null   float64\n",
            " 2   Lot Area          2930 non-null   int64  \n",
            " 3   Street            2930 non-null   object \n",
            " 4   Alley             198 non-null    object \n",
            " 5   Utilities         2930 non-null   object \n",
            " 6   Neighborhood      2930 non-null   object \n",
            " 7   Bldg Type         2930 non-null   object \n",
            " 8   House Style       2930 non-null   object \n",
            " 9   Overall Qual      2930 non-null   int64  \n",
            " 10  Overall Cond      2930 non-null   int64  \n",
            " 11  Year Built        2930 non-null   int64  \n",
            " 12  Year Remodeled    2930 non-null   int64  \n",
            " 13  Exter Qual        2930 non-null   object \n",
            " 14  Exter Cond        2930 non-null   object \n",
            " 15  Bsmt Unf Sqft     2929 non-null   float64\n",
            " 16  Total Bsmnt Sqft  2929 non-null   float64\n",
            " 17  Central Air       2930 non-null   object \n",
            " 18  Living Area Sqft  2930 non-null   float64\n",
            " 19  Bsmt Half Bath    2928 non-null   float64\n",
            " 20  Half Bath         2927 non-null   float64\n",
            " 21  Bedroom           2930 non-null   int64  \n",
            " 22  Kitchen           2930 non-null   int64  \n",
            " 23  Total Rooms       2930 non-null   int64  \n",
            " 24  Garage Type       2773 non-null   object \n",
            " 25  Garage Yr Blt     2770 non-null   float64\n",
            " 26  Garage Cars       2929 non-null   float64\n",
            " 27  Garage Area       2929 non-null   float64\n",
            " 28  Garage Qual       2771 non-null   object \n",
            " 29  Garage Cond       2771 non-null   object \n",
            " 30  Paved Drive       2930 non-null   object \n",
            " 31  Fence             572 non-null    object \n",
            " 32  Date Sold         2930 non-null   object \n",
            " 33  SalePrice         2930 non-null   float64\n",
            " 34  Month             2930 non-null   int64  \n",
            " 35  Year              2930 non-null   int64  \n",
            " 36  Total Half Baths  2925 non-null   float64\n",
            " 37  Total Full Baths  2928 non-null   float64\n",
            "dtypes: float64(12), int64(10), object(16)\n",
            "memory usage: 892.7+ KB\n"
          ]
        }
      ]
    },
    {
      "cell_type": "markdown",
      "source": [
        "## Make a Temporary Copy of the Dataframe for EDA"
      ],
      "metadata": {
        "id": "6cPKnvyKMQdO"
      }
    },
    {
      "cell_type": "code",
      "source": [
        "# Copy of dataframe just for visualization and EDA\n",
        "temp_df = df.copy()"
      ],
      "metadata": {
        "id": "aQWjmmF3MG6E"
      },
      "execution_count": 26,
      "outputs": []
    },
    {
      "cell_type": "markdown",
      "source": [
        "## Fill in missing values with a placeholder"
      ],
      "metadata": {
        "id": "_m56uJwtMTWY"
      }
    },
    {
      "cell_type": "code",
      "source": [
        "# Let's start with Alley\n",
        "x = \"Alley\"\n",
        "placeholder = \"Missing\"\n",
        "# In our temporatory df, we will fill in the missing values in the Alley column with the placeholder, MISSING\n",
        "temp_df[x] = temp_df[x].fillna(placeholder)"
      ],
      "metadata": {
        "id": "67VlmrivMSqZ"
      },
      "execution_count": 27,
      "outputs": []
    },
    {
      "cell_type": "markdown",
      "source": [
        "## Making a Countplot"
      ],
      "metadata": {
        "id": "yokRfvaANzda"
      }
    },
    {
      "cell_type": "code",
      "source": [
        "# Plotting a count plot \n",
        "sns.countplot(temp_df, x=x);"
      ],
      "metadata": {
        "colab": {
          "base_uri": "https://localhost:8080/",
          "height": 449
        },
        "id": "lb7Zo45HN0w5",
        "outputId": "2883d096-4e1b-4c72-a48d-90776a4ce846"
      },
      "execution_count": 28,
      "outputs": [
        {
          "output_type": "display_data",
          "data": {
            "text/plain": [
              "<Figure size 640x480 with 1 Axes>"
            ],
            "image/png": "[encoded data removed]"
          },
          "metadata": {}
        }
      ]
    },
    {
      "cell_type": "markdown",
      "source": [
        "## Customize the Plot"
      ],
      "metadata": {
        "id": "vTDqeNTzPnk0"
      }
    },
    {
      "cell_type": "code",
      "source": [
        "# Create figure with desired figsize\n",
        "fig, ax = plt.subplots(figsize=(6,4))\n",
        "# Plotting a count plot \n",
        "sns.countplot(temp_df, x=x, ax=ax)\n",
        "# Rotate Tick Labels for long names\n",
        "ax.set_xticklabels(ax.get_xticklabels(), rotation=45, ha=\"right\")\n",
        "# Add a title with the feature name included\n",
        "ax.set_title(f\"Column: {x}\", fontweight=\"bold\")\n",
        "fig.tight_layout();"
      ],
      "metadata": {
        "colab": {
          "base_uri": "https://localhost:8080/",
          "height": 407
        },
        "id": "lgfSNQhgPr7o",
        "outputId": "76fc71e9-f75e-4c0f-d4af-0909739a89c6"
      },
      "execution_count": 29,
      "outputs": [
        {
          "output_type": "display_data",
          "data": {
            "text/plain": [
              "<Figure size 600x400 with 1 Axes>"
            ],
            "image/png": "[encoded data removed]"
          },
          "metadata": {}
        }
      ]
    },
    {
      "cell_type": "code",
      "source": [
        "def explore_categorical(df, x, fillna=True, placeholder = \"Missing\"):\n",
        "    #Make a copy of the dataframe and fillna \n",
        "    temp_df = df.copy()\n",
        "    # Fill in missing values with placeholder\n",
        "    temp_df[x] = temp_df[x].fillna(placeholder)\n",
        "    # Create figure with desired figsize\n",
        "    fig, ax = plt.subplots(figsize=(6,4))\n",
        "    # Plotting a count plot \n",
        "    sns.countplot(temp_df, x=x, ax=ax)\n",
        "    # Rotate Tick Labels for long names\n",
        "    ax.set_xticklabels(ax.get_xticklabels(), rotation=45, ha=\"right\")\n",
        "    ax.set_title(f\"Column: {x}\");\n",
        "    fig.tight_layout()"
      ],
      "metadata": {
        "id": "3fvo-Tz4OwS3"
      },
      "execution_count": 36,
      "outputs": []
    },
    {
      "cell_type": "code",
      "source": [
        "# Test our function on Alley\n",
        "explore_categorical(df, \"Alley\");"
      ],
      "metadata": {
        "colab": {
          "base_uri": "https://localhost:8080/",
          "height": 407
        },
        "id": "m1VQD9qsmtGh",
        "outputId": "f6414e58-8ec8-4a88-805d-719b3451e57d"
      },
      "execution_count": 37,
      "outputs": [
        {
          "output_type": "display_data",
          "data": {
            "text/plain": [
              "<Figure size 600x400 with 1 Axes>"
            ],
            "image/png": "[encoded data removed]"
          },
          "metadata": {}
        }
      ]
    },
    {
      "cell_type": "code",
      "source": [
        "#Trying a different placeholder than default of \"Missing\"\n",
        "explore_categorical(df, \"Alley\", placeholder=\"NA\")"
      ],
      "metadata": {
        "colab": {
          "base_uri": "https://localhost:8080/",
          "height": 407
        },
        "id": "ZYVF-rCSowAD",
        "outputId": "0a3c4fb1-da73-4986-fbc1-a68b3d477f50"
      },
      "execution_count": 38,
      "outputs": [
        {
          "output_type": "display_data",
          "data": {
            "text/plain": [
              "<Figure size 600x400 with 1 Axes>"
            ],
            "image/png": "[encoded data removed]"
          },
          "metadata": {}
        }
      ]
    },
    {
      "cell_type": "markdown",
      "source": [
        "## Include Keyword Argument for fillna\n",
        "\n"
      ],
      "metadata": {
        "id": "TeqIcmLlrJBJ"
      }
    },
    {
      "cell_type": "code",
      "source": [
        "def explore_categorical(df, x, fillna=True, placeholder=\"Missing\"):\n",
        "    # Make a copy of the dataframe and fillna \n",
        "    temp_df = df.copy()\n",
        "    # fill NA with placeholder\n",
        "    if fillna == True:\n",
        "        temp_df[x] = temp_df[x].fillna(placeholder)\n",
        "        # Create figure with desired figsize\n",
        "        fig, ax = plt.subplots(figsize=(6,4))\n",
        "        # Plotting a count plot \n",
        "        sns.countplot(temp_df, x, ax=ax)\n",
        "        # Rotate Tick Labels for long names\n",
        "        ax.set_xticklabels(ax.get_xticklabels(), rotation=45, ha=\"right\")\n",
        "        # Add a title with the feature name included\n",
        "        ax.set_title(f\"Column: {x}\");\n",
        "        fig.tight_layout()"
      ],
      "metadata": {
        "id": "fQBdLOByrKV8"
      },
      "execution_count": 40,
      "outputs": []
    },
    {
      "cell_type": "code",
      "source": [
        "#Using custom function to \n",
        "explore_categorical(df, \"Alley\", fillna=False)"
      ],
      "metadata": {
        "id": "J0Ug3_nju9ip"
      },
      "execution_count": 41,
      "outputs": []
    }
  ]
}