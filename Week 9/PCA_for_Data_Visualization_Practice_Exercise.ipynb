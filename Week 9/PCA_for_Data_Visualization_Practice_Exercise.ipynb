{
  "nbformat": 4,
  "nbformat_minor": 0,
  "metadata": {
    "colab": {
      "name": "PCA for Data Visualization Practice Exercise.ipynb",
      "provenance": [],
      "include_colab_link": true
    },
    "kernelspec": {
      "name": "python3",
      "display_name": "Python 3"
    },
    "language_info": {
      "name": "python"
    }
  },
  "cells": [
    {
      "cell_type": "markdown",
      "metadata": {
        "id": "view-in-github",
        "colab_type": "text"
      },
      "source": [
        "<a href=\"https://colab.research.google.com/github/eckoecho/CodingDojo/blob/week-9/Week%209/PCA_for_Data_Visualization_Practice_Exercise.ipynb\" target=\"_parent\"><img src=\"https://colab.research.google.com/assets/colab-badge.svg\" alt=\"Open In Colab\"/></a>"
      ]
    },
    {
      "cell_type": "markdown",
      "source": [
        "# Visualizing Clusters with Principal Component Analysis\n",
        "\n",
        "In this exercise you will cluster credit card customer data using 8 features and visualize those clusters in a two-dimensional scatter plot.\n",
        "\n",
        "In order to accomplish this, you will:\n",
        "1. Import libraries\n",
        "2. Load data [found here](https://s3.amazonaws.com/General_V88/boomyeah2015/codingdojo/curriculum/content/chapter/cust_seg.csv)\n",
        "3. Drop unneeded columns\n",
        "4. Explore the data and clean as needed\n",
        "5. Scale the Data\n",
        "6. Tune a KMeans model and cluster the scaled data using all of the features.\n",
        "7. Transform the scaled data using PCA\n",
        "8. Create a scatter plot of the first 2 principal components of the PCA data, colored by the labels from the KMeans model.\n",
        "9. Bonus: Create a 3D scatter plot using Plotly Express scatter_3d() function using the first 3 principal components of the PCA data as the x, y, and z axes and the labels from the KMeans model as the color.\n",
        "\n",
        "[Documentation for scatter_3d from Plotly Express](https://plotly.com/python-api-reference/generated/plotly.express.scatter_3d)"
      ],
      "metadata": {
        "id": "-DWMLnvPWeXF"
      }
    },
    {
      "cell_type": "markdown",
      "source": [
        "# 1. Import Necessary Libraries"
      ],
      "metadata": {
        "id": "pamSkKqbYhKt"
      }
    },
    {
      "cell_type": "code",
      "execution_count": 62,
      "metadata": {
        "id": "waNCJ14DSE2o"
      },
      "outputs": [],
      "source": [
        "import pandas as pd\n",
        "import matplotlib.pyplot as plt\n",
        "import plotly.express as px\n",
        "import numpy as np\n",
        "\n",
        "from sklearn.decomposition import PCA\n",
        "from sklearn.cluster import KMeans\n",
        "from sklearn.preprocessing import StandardScaler\n",
        "from sklearn.impute import SimpleImputer\n",
        "from sklearn.metrics import silhouette_score"
      ]
    },
    {
      "cell_type": "markdown",
      "source": [
        "# 2. Load Data"
      ],
      "metadata": {
        "id": "2xZp3ckHYlYU"
      }
    },
    {
      "cell_type": "code",
      "source": [
        "df = pd.read_csv('https://docs.google.com/spreadsheets/d/e/2PACX-1vQfsaRE3Pq4HcnCgIb5hgszzYNcKQBoypmZm2zW9Q9hU9-tWdtP8qxBBsiUWMFKzG66unPOdi-lfKdM/pub?gid=794640114&single=true&output=csv')\n",
        "\n",
        "df.head()"
      ],
      "metadata": {
        "id": "jtZC7pgOS6Qk",
        "outputId": "d44acaa3-8bcf-4123-d5d3-dc81a870ea4f",
        "colab": {
          "base_uri": "https://localhost:8080/",
          "height": 206
        }
      },
      "execution_count": 63,
      "outputs": [
        {
          "output_type": "execute_result",
          "data": {
            "text/plain": [
              "   Unnamed: 0  Customer Id  Age  Edu  Years Employed  Income  Card Debt  \\\n",
              "0           0            1   41    2               6      19      0.124   \n",
              "1           1            2   47    1              26     100      4.582   \n",
              "2           2            3   33    2              10      57      6.111   \n",
              "3           3            4   29    2               4      19      0.681   \n",
              "4           4            5   47    1              31     253      9.308   \n",
              "\n",
              "   Other Debt  Defaulted  DebtIncomeRatio  \n",
              "0       1.073        0.0              6.3  \n",
              "1       8.218        0.0             12.8  \n",
              "2       5.802        1.0             20.9  \n",
              "3       0.516        0.0              6.3  \n",
              "4       8.908        0.0              7.2  "
            ],
            "text/html": [
              "\n",
              "  <div id=\"df-e5a274f1-6984-4a95-8e2e-30d2d93173aa\">\n",
              "    <div class=\"colab-df-container\">\n",
              "      <div>\n",
              "<style scoped>\n",
              "    .dataframe tbody tr th:only-of-type {\n",
              "        vertical-align: middle;\n",
              "    }\n",
              "\n",
              "    .dataframe tbody tr th {\n",
              "        vertical-align: top;\n",
              "    }\n",
              "\n",
              "    .dataframe thead th {\n",
              "        text-align: right;\n",
              "    }\n",
              "</style>\n",
              "<table border=\"1\" class=\"dataframe\">\n",
              "  <thead>\n",
              "    <tr style=\"text-align: right;\">\n",
              "      <th></th>\n",
              "      <th>Unnamed: 0</th>\n",
              "      <th>Customer Id</th>\n",
              "      <th>Age</th>\n",
              "      <th>Edu</th>\n",
              "      <th>Years Employed</th>\n",
              "      <th>Income</th>\n",
              "      <th>Card Debt</th>\n",
              "      <th>Other Debt</th>\n",
              "      <th>Defaulted</th>\n",
              "      <th>DebtIncomeRatio</th>\n",
              "    </tr>\n",
              "  </thead>\n",
              "  <tbody>\n",
              "    <tr>\n",
              "      <th>0</th>\n",
              "      <td>0</td>\n",
              "      <td>1</td>\n",
              "      <td>41</td>\n",
              "      <td>2</td>\n",
              "      <td>6</td>\n",
              "      <td>19</td>\n",
              "      <td>0.124</td>\n",
              "      <td>1.073</td>\n",
              "      <td>0.0</td>\n",
              "      <td>6.3</td>\n",
              "    </tr>\n",
              "    <tr>\n",
              "      <th>1</th>\n",
              "      <td>1</td>\n",
              "      <td>2</td>\n",
              "      <td>47</td>\n",
              "      <td>1</td>\n",
              "      <td>26</td>\n",
              "      <td>100</td>\n",
              "      <td>4.582</td>\n",
              "      <td>8.218</td>\n",
              "      <td>0.0</td>\n",
              "      <td>12.8</td>\n",
              "    </tr>\n",
              "    <tr>\n",
              "      <th>2</th>\n",
              "      <td>2</td>\n",
              "      <td>3</td>\n",
              "      <td>33</td>\n",
              "      <td>2</td>\n",
              "      <td>10</td>\n",
              "      <td>57</td>\n",
              "      <td>6.111</td>\n",
              "      <td>5.802</td>\n",
              "      <td>1.0</td>\n",
              "      <td>20.9</td>\n",
              "    </tr>\n",
              "    <tr>\n",
              "      <th>3</th>\n",
              "      <td>3</td>\n",
              "      <td>4</td>\n",
              "      <td>29</td>\n",
              "      <td>2</td>\n",
              "      <td>4</td>\n",
              "      <td>19</td>\n",
              "      <td>0.681</td>\n",
              "      <td>0.516</td>\n",
              "      <td>0.0</td>\n",
              "      <td>6.3</td>\n",
              "    </tr>\n",
              "    <tr>\n",
              "      <th>4</th>\n",
              "      <td>4</td>\n",
              "      <td>5</td>\n",
              "      <td>47</td>\n",
              "      <td>1</td>\n",
              "      <td>31</td>\n",
              "      <td>253</td>\n",
              "      <td>9.308</td>\n",
              "      <td>8.908</td>\n",
              "      <td>0.0</td>\n",
              "      <td>7.2</td>\n",
              "    </tr>\n",
              "  </tbody>\n",
              "</table>\n",
              "</div>\n",
              "      <button class=\"colab-df-convert\" onclick=\"convertToInteractive('df-e5a274f1-6984-4a95-8e2e-30d2d93173aa')\"\n",
              "              title=\"Convert this dataframe to an interactive table.\"\n",
              "              style=\"display:none;\">\n",
              "        \n",
              "  <svg xmlns=\"http://www.w3.org/2000/svg\" height=\"24px\"viewBox=\"0 0 24 24\"\n",
              "       width=\"24px\">\n",
              "    <path d=\"M0 0h24v24H0V0z\" fill=\"none\"/>\n",
              "    <path d=\"M18.56 5.44l.94 2.06.94-2.06 2.06-.94-2.06-.94-.94-2.06-.94 2.06-2.06.94zm-11 1L8.5 8.5l.94-2.06 2.06-.94-2.06-.94L8.5 2.5l-.94 2.06-2.06.94zm10 10l.94 2.06.94-2.06 2.06-.94-2.06-.94-.94-2.06-.94 2.06-2.06.94z\"/><path d=\"M17.41 7.96l-1.37-1.37c-.4-.4-.92-.59-1.43-.59-.52 0-1.04.2-1.43.59L10.3 9.45l-7.72 7.72c-.78.78-.78 2.05 0 2.83L4 21.41c.39.39.9.59 1.41.59.51 0 1.02-.2 1.41-.59l7.78-7.78 2.81-2.81c.8-.78.8-2.07 0-2.86zM5.41 20L4 18.59l7.72-7.72 1.47 1.35L5.41 20z\"/>\n",
              "  </svg>\n",
              "      </button>\n",
              "      \n",
              "  <style>\n",
              "    .colab-df-container {\n",
              "      display:flex;\n",
              "      flex-wrap:wrap;\n",
              "      gap: 12px;\n",
              "    }\n",
              "\n",
              "    .colab-df-convert {\n",
              "      background-color: #E8F0FE;\n",
              "      border: none;\n",
              "      border-radius: 50%;\n",
              "      cursor: pointer;\n",
              "      display: none;\n",
              "      fill: #1967D2;\n",
              "      height: 32px;\n",
              "      padding: 0 0 0 0;\n",
              "      width: 32px;\n",
              "    }\n",
              "\n",
              "    .colab-df-convert:hover {\n",
              "      background-color: #E2EBFA;\n",
              "      box-shadow: 0px 1px 2px rgba(60, 64, 67, 0.3), 0px 1px 3px 1px rgba(60, 64, 67, 0.15);\n",
              "      fill: #174EA6;\n",
              "    }\n",
              "\n",
              "    [theme=dark] .colab-df-convert {\n",
              "      background-color: #3B4455;\n",
              "      fill: #D2E3FC;\n",
              "    }\n",
              "\n",
              "    [theme=dark] .colab-df-convert:hover {\n",
              "      background-color: #434B5C;\n",
              "      box-shadow: 0px 1px 3px 1px rgba(0, 0, 0, 0.15);\n",
              "      filter: drop-shadow(0px 1px 2px rgba(0, 0, 0, 0.3));\n",
              "      fill: #FFFFFF;\n",
              "    }\n",
              "  </style>\n",
              "\n",
              "      <script>\n",
              "        const buttonEl =\n",
              "          document.querySelector('#df-e5a274f1-6984-4a95-8e2e-30d2d93173aa button.colab-df-convert');\n",
              "        buttonEl.style.display =\n",
              "          google.colab.kernel.accessAllowed ? 'block' : 'none';\n",
              "\n",
              "        async function convertToInteractive(key) {\n",
              "          const element = document.querySelector('#df-e5a274f1-6984-4a95-8e2e-30d2d93173aa');\n",
              "          const dataTable =\n",
              "            await google.colab.kernel.invokeFunction('convertToInteractive',\n",
              "                                                     [key], {});\n",
              "          if (!dataTable) return;\n",
              "\n",
              "          const docLinkHtml = 'Like what you see? Visit the ' +\n",
              "            '<a target=\"_blank\" href=https://colab.research.google.com/notebooks/data_table.ipynb>data table notebook</a>'\n",
              "            + ' to learn more about interactive tables.';\n",
              "          element.innerHTML = '';\n",
              "          dataTable['output_type'] = 'display_data';\n",
              "          await google.colab.output.renderOutput(dataTable, element);\n",
              "          const docLink = document.createElement('div');\n",
              "          docLink.innerHTML = docLinkHtml;\n",
              "          element.appendChild(docLink);\n",
              "        }\n",
              "      </script>\n",
              "    </div>\n",
              "  </div>\n",
              "  "
            ]
          },
          "metadata": {},
          "execution_count": 63
        }
      ]
    },
    {
      "cell_type": "markdown",
      "source": [
        "# 3. Drop Unnecessary Columns"
      ],
      "metadata": {
        "id": "lNTp3Qn1WcA1"
      }
    },
    {
      "cell_type": "code",
      "source": [
        "df.drop(columns=[\"Unnamed: 0\",\"Customer Id\"], inplace=True)\n",
        "df.head()"
      ],
      "metadata": {
        "id": "wC1FH_ecS9Cl",
        "outputId": "725f7a52-2d55-45af-b120-e838532d52e1",
        "colab": {
          "base_uri": "https://localhost:8080/",
          "height": 206
        }
      },
      "execution_count": 64,
      "outputs": [
        {
          "output_type": "execute_result",
          "data": {
            "text/plain": [
              "   Age  Edu  Years Employed  Income  Card Debt  Other Debt  Defaulted  \\\n",
              "0   41    2               6      19      0.124       1.073        0.0   \n",
              "1   47    1              26     100      4.582       8.218        0.0   \n",
              "2   33    2              10      57      6.111       5.802        1.0   \n",
              "3   29    2               4      19      0.681       0.516        0.0   \n",
              "4   47    1              31     253      9.308       8.908        0.0   \n",
              "\n",
              "   DebtIncomeRatio  \n",
              "0              6.3  \n",
              "1             12.8  \n",
              "2             20.9  \n",
              "3              6.3  \n",
              "4              7.2  "
            ],
            "text/html": [
              "\n",
              "  <div id=\"df-972a719b-d2d3-43b8-aa50-8741052b6e88\">\n",
              "    <div class=\"colab-df-container\">\n",
              "      <div>\n",
              "<style scoped>\n",
              "    .dataframe tbody tr th:only-of-type {\n",
              "        vertical-align: middle;\n",
              "    }\n",
              "\n",
              "    .dataframe tbody tr th {\n",
              "        vertical-align: top;\n",
              "    }\n",
              "\n",
              "    .dataframe thead th {\n",
              "        text-align: right;\n",
              "    }\n",
              "</style>\n",
              "<table border=\"1\" class=\"dataframe\">\n",
              "  <thead>\n",
              "    <tr style=\"text-align: right;\">\n",
              "      <th></th>\n",
              "      <th>Age</th>\n",
              "      <th>Edu</th>\n",
              "      <th>Years Employed</th>\n",
              "      <th>Income</th>\n",
              "      <th>Card Debt</th>\n",
              "      <th>Other Debt</th>\n",
              "      <th>Defaulted</th>\n",
              "      <th>DebtIncomeRatio</th>\n",
              "    </tr>\n",
              "  </thead>\n",
              "  <tbody>\n",
              "    <tr>\n",
              "      <th>0</th>\n",
              "      <td>41</td>\n",
              "      <td>2</td>\n",
              "      <td>6</td>\n",
              "      <td>19</td>\n",
              "      <td>0.124</td>\n",
              "      <td>1.073</td>\n",
              "      <td>0.0</td>\n",
              "      <td>6.3</td>\n",
              "    </tr>\n",
              "    <tr>\n",
              "      <th>1</th>\n",
              "      <td>47</td>\n",
              "      <td>1</td>\n",
              "      <td>26</td>\n",
              "      <td>100</td>\n",
              "      <td>4.582</td>\n",
              "      <td>8.218</td>\n",
              "      <td>0.0</td>\n",
              "      <td>12.8</td>\n",
              "    </tr>\n",
              "    <tr>\n",
              "      <th>2</th>\n",
              "      <td>33</td>\n",
              "      <td>2</td>\n",
              "      <td>10</td>\n",
              "      <td>57</td>\n",
              "      <td>6.111</td>\n",
              "      <td>5.802</td>\n",
              "      <td>1.0</td>\n",
              "      <td>20.9</td>\n",
              "    </tr>\n",
              "    <tr>\n",
              "      <th>3</th>\n",
              "      <td>29</td>\n",
              "      <td>2</td>\n",
              "      <td>4</td>\n",
              "      <td>19</td>\n",
              "      <td>0.681</td>\n",
              "      <td>0.516</td>\n",
              "      <td>0.0</td>\n",
              "      <td>6.3</td>\n",
              "    </tr>\n",
              "    <tr>\n",
              "      <th>4</th>\n",
              "      <td>47</td>\n",
              "      <td>1</td>\n",
              "      <td>31</td>\n",
              "      <td>253</td>\n",
              "      <td>9.308</td>\n",
              "      <td>8.908</td>\n",
              "      <td>0.0</td>\n",
              "      <td>7.2</td>\n",
              "    </tr>\n",
              "  </tbody>\n",
              "</table>\n",
              "</div>\n",
              "      <button class=\"colab-df-convert\" onclick=\"convertToInteractive('df-972a719b-d2d3-43b8-aa50-8741052b6e88')\"\n",
              "              title=\"Convert this dataframe to an interactive table.\"\n",
              "              style=\"display:none;\">\n",
              "        \n",
              "  <svg xmlns=\"http://www.w3.org/2000/svg\" height=\"24px\"viewBox=\"0 0 24 24\"\n",
              "       width=\"24px\">\n",
              "    <path d=\"M0 0h24v24H0V0z\" fill=\"none\"/>\n",
              "    <path d=\"M18.56 5.44l.94 2.06.94-2.06 2.06-.94-2.06-.94-.94-2.06-.94 2.06-2.06.94zm-11 1L8.5 8.5l.94-2.06 2.06-.94-2.06-.94L8.5 2.5l-.94 2.06-2.06.94zm10 10l.94 2.06.94-2.06 2.06-.94-2.06-.94-.94-2.06-.94 2.06-2.06.94z\"/><path d=\"M17.41 7.96l-1.37-1.37c-.4-.4-.92-.59-1.43-.59-.52 0-1.04.2-1.43.59L10.3 9.45l-7.72 7.72c-.78.78-.78 2.05 0 2.83L4 21.41c.39.39.9.59 1.41.59.51 0 1.02-.2 1.41-.59l7.78-7.78 2.81-2.81c.8-.78.8-2.07 0-2.86zM5.41 20L4 18.59l7.72-7.72 1.47 1.35L5.41 20z\"/>\n",
              "  </svg>\n",
              "      </button>\n",
              "      \n",
              "  <style>\n",
              "    .colab-df-container {\n",
              "      display:flex;\n",
              "      flex-wrap:wrap;\n",
              "      gap: 12px;\n",
              "    }\n",
              "\n",
              "    .colab-df-convert {\n",
              "      background-color: #E8F0FE;\n",
              "      border: none;\n",
              "      border-radius: 50%;\n",
              "      cursor: pointer;\n",
              "      display: none;\n",
              "      fill: #1967D2;\n",
              "      height: 32px;\n",
              "      padding: 0 0 0 0;\n",
              "      width: 32px;\n",
              "    }\n",
              "\n",
              "    .colab-df-convert:hover {\n",
              "      background-color: #E2EBFA;\n",
              "      box-shadow: 0px 1px 2px rgba(60, 64, 67, 0.3), 0px 1px 3px 1px rgba(60, 64, 67, 0.15);\n",
              "      fill: #174EA6;\n",
              "    }\n",
              "\n",
              "    [theme=dark] .colab-df-convert {\n",
              "      background-color: #3B4455;\n",
              "      fill: #D2E3FC;\n",
              "    }\n",
              "\n",
              "    [theme=dark] .colab-df-convert:hover {\n",
              "      background-color: #434B5C;\n",
              "      box-shadow: 0px 1px 3px 1px rgba(0, 0, 0, 0.15);\n",
              "      filter: drop-shadow(0px 1px 2px rgba(0, 0, 0, 0.3));\n",
              "      fill: #FFFFFF;\n",
              "    }\n",
              "  </style>\n",
              "\n",
              "      <script>\n",
              "        const buttonEl =\n",
              "          document.querySelector('#df-972a719b-d2d3-43b8-aa50-8741052b6e88 button.colab-df-convert');\n",
              "        buttonEl.style.display =\n",
              "          google.colab.kernel.accessAllowed ? 'block' : 'none';\n",
              "\n",
              "        async function convertToInteractive(key) {\n",
              "          const element = document.querySelector('#df-972a719b-d2d3-43b8-aa50-8741052b6e88');\n",
              "          const dataTable =\n",
              "            await google.colab.kernel.invokeFunction('convertToInteractive',\n",
              "                                                     [key], {});\n",
              "          if (!dataTable) return;\n",
              "\n",
              "          const docLinkHtml = 'Like what you see? Visit the ' +\n",
              "            '<a target=\"_blank\" href=https://colab.research.google.com/notebooks/data_table.ipynb>data table notebook</a>'\n",
              "            + ' to learn more about interactive tables.';\n",
              "          element.innerHTML = '';\n",
              "          dataTable['output_type'] = 'display_data';\n",
              "          await google.colab.output.renderOutput(dataTable, element);\n",
              "          const docLink = document.createElement('div');\n",
              "          docLink.innerHTML = docLinkHtml;\n",
              "          element.appendChild(docLink);\n",
              "        }\n",
              "      </script>\n",
              "    </div>\n",
              "  </div>\n",
              "  "
            ]
          },
          "metadata": {},
          "execution_count": 64
        }
      ]
    },
    {
      "cell_type": "markdown",
      "source": [
        "# 4. EDA and Cleaning"
      ],
      "metadata": {
        "id": "Efk34vA6Y13u"
      }
    },
    {
      "cell_type": "code",
      "source": [
        "#Checking for missing values\n",
        "df.info()"
      ],
      "metadata": {
        "id": "lxbbptubTGkL",
        "outputId": "2a9ec076-aab7-479d-83e6-0fa743c53e6d",
        "colab": {
          "base_uri": "https://localhost:8080/"
        }
      },
      "execution_count": 65,
      "outputs": [
        {
          "output_type": "stream",
          "name": "stdout",
          "text": [
            "<class 'pandas.core.frame.DataFrame'>\n",
            "RangeIndex: 850 entries, 0 to 849\n",
            "Data columns (total 8 columns):\n",
            " #   Column           Non-Null Count  Dtype  \n",
            "---  ------           --------------  -----  \n",
            " 0   Age              850 non-null    int64  \n",
            " 1   Edu              850 non-null    int64  \n",
            " 2   Years Employed   850 non-null    int64  \n",
            " 3   Income           850 non-null    int64  \n",
            " 4   Card Debt        850 non-null    float64\n",
            " 5   Other Debt       850 non-null    float64\n",
            " 6   Defaulted        700 non-null    float64\n",
            " 7   DebtIncomeRatio  850 non-null    float64\n",
            "dtypes: float64(4), int64(4)\n",
            "memory usage: 53.2 KB\n"
          ]
        }
      ]
    },
    {
      "cell_type": "code",
      "source": [
        "#Imputing missing values with mode\n",
        "# mode = df[\"Defaulted\"].mode()[0]\n",
        "df[\"Defaulted\"].fillna(0,inplace=True)\n",
        "df.isna().sum()"
      ],
      "metadata": {
        "id": "GJNllYE6k6vN",
        "outputId": "da1ae28e-f85d-4631-e766-cdf281bad629",
        "colab": {
          "base_uri": "https://localhost:8080/"
        }
      },
      "execution_count": 66,
      "outputs": [
        {
          "output_type": "execute_result",
          "data": {
            "text/plain": [
              "Age                0\n",
              "Edu                0\n",
              "Years Employed     0\n",
              "Income             0\n",
              "Card Debt          0\n",
              "Other Debt         0\n",
              "Defaulted          0\n",
              "DebtIncomeRatio    0\n",
              "dtype: int64"
            ]
          },
          "metadata": {},
          "execution_count": 66
        }
      ]
    },
    {
      "cell_type": "markdown",
      "source": [
        "# 5. Scale Data"
      ],
      "metadata": {
        "id": "tm9FBjiZY6l9"
      }
    },
    {
      "cell_type": "code",
      "source": [
        "scaler = StandardScaler()\n",
        "scaled_df = scaler.fit_transform(df)"
      ],
      "metadata": {
        "id": "hMnikckdTVzL"
      },
      "execution_count": 67,
      "outputs": []
    },
    {
      "cell_type": "code",
      "source": [
        "# Iterate over a range of k clusters to find the optimal number of clusters\n",
        "ks = range(2,11)\n",
        "sils = []\n",
        "inertias = []\n",
        "for k in ks:\n",
        "    kmeans = KMeans(n_clusters=k, random_state=42, n_init=\"auto\")\n",
        "    kmeans.fit(scaled_df)\n",
        "    sils.append(silhouette_score(scaled_df, kmeans.labels_))\n",
        "    inertias.append(kmeans.inertia_)\n",
        "#plot inertias and silhouette scores for each number of clusters.\n",
        "fig, axes = plt.subplots(1,2, figsize=(15,5))\n",
        "axes[0].plot(ks, sils)\n",
        "axes[0].set_title(\"Silhoutte Scores\")\n",
        "axes[0].set_xticks(ks)\n",
        "axes[1].plot(ks, inertias)\n",
        "axes[1].set_title(\"Inertia Scores\")\n",
        "axes[1].set_xticks(ks);"
      ],
      "metadata": {
        "id": "tzCoEfx2kdAQ",
        "outputId": "0740dd95-72c5-436a-f78b-41add944a0ba",
        "colab": {
          "base_uri": "https://localhost:8080/",
          "height": 468
        }
      },
      "execution_count": 68,
      "outputs": [
        {
          "output_type": "display_data",
          "data": {
            "text/plain": [
              "<Figure size 1500x500 with 2 Axes>"
            ],
            "image/png": "[encoded data removed]"
          },
          "metadata": {}
        }
      ]
    },
    {
      "cell_type": "markdown",
      "source": [
        "**Silhoutte Scores** show elbows at 3,6, and 8 clusters.  However, we went the Silhoutte score to be the highest.  So, 3 clusters would be a good point to enter.\n",
        "\n",
        "**Inertia Score** shows elbows at 3 and 4. So, 3 or 4 clusters is a consensus between our two KMeans metrics."
      ],
      "metadata": {
        "id": "XttI3tH5Wg6l"
      }
    },
    {
      "cell_type": "markdown",
      "source": [
        "# 6. Tune a KMeans Model and Cluster the Scaled Data Using All Features"
      ],
      "metadata": {
        "id": "CU4Zi41HY9EU"
      }
    },
    {
      "cell_type": "code",
      "source": [
        "#Tuning kmeans to make 3 clusters\n",
        "kmeans = KMeans(n_clusters=3, random_state=42, n_init=\"auto\")\n",
        "#Gotta fit it\n",
        "kmeans.fit(df)\n",
        "#Assigning classifications to a new column\n",
        "df[\"clusters\"] = kmeans.labels_\n",
        "df.head()"
      ],
      "metadata": {
        "id": "Ts24NMj2UlvK",
        "outputId": "e325cd2c-33a6-4afd-95a6-37cfe91d6e47",
        "colab": {
          "base_uri": "https://localhost:8080/",
          "height": 206
        }
      },
      "execution_count": 69,
      "outputs": [
        {
          "output_type": "execute_result",
          "data": {
            "text/plain": [
              "   Age  Edu  Years Employed  Income  Card Debt  Other Debt  Defaulted  \\\n",
              "0   41    2               6      19      0.124       1.073        0.0   \n",
              "1   47    1              26     100      4.582       8.218        0.0   \n",
              "2   33    2              10      57      6.111       5.802        1.0   \n",
              "3   29    2               4      19      0.681       0.516        0.0   \n",
              "4   47    1              31     253      9.308       8.908        0.0   \n",
              "\n",
              "   DebtIncomeRatio  clusters  \n",
              "0              6.3         1  \n",
              "1             12.8         0  \n",
              "2             20.9         1  \n",
              "3              6.3         1  \n",
              "4              7.2         2  "
            ],
            "text/html": [
              "\n",
              "  <div id=\"df-45dbbe3e-3588-4e51-babd-aa0a75776a9d\">\n",
              "    <div class=\"colab-df-container\">\n",
              "      <div>\n",
              "<style scoped>\n",
              "    .dataframe tbody tr th:only-of-type {\n",
              "        vertical-align: middle;\n",
              "    }\n",
              "\n",
              "    .dataframe tbody tr th {\n",
              "        vertical-align: top;\n",
              "    }\n",
              "\n",
              "    .dataframe thead th {\n",
              "        text-align: right;\n",
              "    }\n",
              "</style>\n",
              "<table border=\"1\" class=\"dataframe\">\n",
              "  <thead>\n",
              "    <tr style=\"text-align: right;\">\n",
              "      <th></th>\n",
              "      <th>Age</th>\n",
              "      <th>Edu</th>\n",
              "      <th>Years Employed</th>\n",
              "      <th>Income</th>\n",
              "      <th>Card Debt</th>\n",
              "      <th>Other Debt</th>\n",
              "      <th>Defaulted</th>\n",
              "      <th>DebtIncomeRatio</th>\n",
              "      <th>clusters</th>\n",
              "    </tr>\n",
              "  </thead>\n",
              "  <tbody>\n",
              "    <tr>\n",
              "      <th>0</th>\n",
              "      <td>41</td>\n",
              "      <td>2</td>\n",
              "      <td>6</td>\n",
              "      <td>19</td>\n",
              "      <td>0.124</td>\n",
              "      <td>1.073</td>\n",
              "      <td>0.0</td>\n",
              "      <td>6.3</td>\n",
              "      <td>1</td>\n",
              "    </tr>\n",
              "    <tr>\n",
              "      <th>1</th>\n",
              "      <td>47</td>\n",
              "      <td>1</td>\n",
              "      <td>26</td>\n",
              "      <td>100</td>\n",
              "      <td>4.582</td>\n",
              "      <td>8.218</td>\n",
              "      <td>0.0</td>\n",
              "      <td>12.8</td>\n",
              "      <td>0</td>\n",
              "    </tr>\n",
              "    <tr>\n",
              "      <th>2</th>\n",
              "      <td>33</td>\n",
              "      <td>2</td>\n",
              "      <td>10</td>\n",
              "      <td>57</td>\n",
              "      <td>6.111</td>\n",
              "      <td>5.802</td>\n",
              "      <td>1.0</td>\n",
              "      <td>20.9</td>\n",
              "      <td>1</td>\n",
              "    </tr>\n",
              "    <tr>\n",
              "      <th>3</th>\n",
              "      <td>29</td>\n",
              "      <td>2</td>\n",
              "      <td>4</td>\n",
              "      <td>19</td>\n",
              "      <td>0.681</td>\n",
              "      <td>0.516</td>\n",
              "      <td>0.0</td>\n",
              "      <td>6.3</td>\n",
              "      <td>1</td>\n",
              "    </tr>\n",
              "    <tr>\n",
              "      <th>4</th>\n",
              "      <td>47</td>\n",
              "      <td>1</td>\n",
              "      <td>31</td>\n",
              "      <td>253</td>\n",
              "      <td>9.308</td>\n",
              "      <td>8.908</td>\n",
              "      <td>0.0</td>\n",
              "      <td>7.2</td>\n",
              "      <td>2</td>\n",
              "    </tr>\n",
              "  </tbody>\n",
              "</table>\n",
              "</div>\n",
              "      <button class=\"colab-df-convert\" onclick=\"convertToInteractive('df-45dbbe3e-3588-4e51-babd-aa0a75776a9d')\"\n",
              "              title=\"Convert this dataframe to an interactive table.\"\n",
              "              style=\"display:none;\">\n",
              "        \n",
              "  <svg xmlns=\"http://www.w3.org/2000/svg\" height=\"24px\"viewBox=\"0 0 24 24\"\n",
              "       width=\"24px\">\n",
              "    <path d=\"M0 0h24v24H0V0z\" fill=\"none\"/>\n",
              "    <path d=\"M18.56 5.44l.94 2.06.94-2.06 2.06-.94-2.06-.94-.94-2.06-.94 2.06-2.06.94zm-11 1L8.5 8.5l.94-2.06 2.06-.94-2.06-.94L8.5 2.5l-.94 2.06-2.06.94zm10 10l.94 2.06.94-2.06 2.06-.94-2.06-.94-.94-2.06-.94 2.06-2.06.94z\"/><path d=\"M17.41 7.96l-1.37-1.37c-.4-.4-.92-.59-1.43-.59-.52 0-1.04.2-1.43.59L10.3 9.45l-7.72 7.72c-.78.78-.78 2.05 0 2.83L4 21.41c.39.39.9.59 1.41.59.51 0 1.02-.2 1.41-.59l7.78-7.78 2.81-2.81c.8-.78.8-2.07 0-2.86zM5.41 20L4 18.59l7.72-7.72 1.47 1.35L5.41 20z\"/>\n",
              "  </svg>\n",
              "      </button>\n",
              "      \n",
              "  <style>\n",
              "    .colab-df-container {\n",
              "      display:flex;\n",
              "      flex-wrap:wrap;\n",
              "      gap: 12px;\n",
              "    }\n",
              "\n",
              "    .colab-df-convert {\n",
              "      background-color: #E8F0FE;\n",
              "      border: none;\n",
              "      border-radius: 50%;\n",
              "      cursor: pointer;\n",
              "      display: none;\n",
              "      fill: #1967D2;\n",
              "      height: 32px;\n",
              "      padding: 0 0 0 0;\n",
              "      width: 32px;\n",
              "    }\n",
              "\n",
              "    .colab-df-convert:hover {\n",
              "      background-color: #E2EBFA;\n",
              "      box-shadow: 0px 1px 2px rgba(60, 64, 67, 0.3), 0px 1px 3px 1px rgba(60, 64, 67, 0.15);\n",
              "      fill: #174EA6;\n",
              "    }\n",
              "\n",
              "    [theme=dark] .colab-df-convert {\n",
              "      background-color: #3B4455;\n",
              "      fill: #D2E3FC;\n",
              "    }\n",
              "\n",
              "    [theme=dark] .colab-df-convert:hover {\n",
              "      background-color: #434B5C;\n",
              "      box-shadow: 0px 1px 3px 1px rgba(0, 0, 0, 0.15);\n",
              "      filter: drop-shadow(0px 1px 2px rgba(0, 0, 0, 0.3));\n",
              "      fill: #FFFFFF;\n",
              "    }\n",
              "  </style>\n",
              "\n",
              "      <script>\n",
              "        const buttonEl =\n",
              "          document.querySelector('#df-45dbbe3e-3588-4e51-babd-aa0a75776a9d button.colab-df-convert');\n",
              "        buttonEl.style.display =\n",
              "          google.colab.kernel.accessAllowed ? 'block' : 'none';\n",
              "\n",
              "        async function convertToInteractive(key) {\n",
              "          const element = document.querySelector('#df-45dbbe3e-3588-4e51-babd-aa0a75776a9d');\n",
              "          const dataTable =\n",
              "            await google.colab.kernel.invokeFunction('convertToInteractive',\n",
              "                                                     [key], {});\n",
              "          if (!dataTable) return;\n",
              "\n",
              "          const docLinkHtml = 'Like what you see? Visit the ' +\n",
              "            '<a target=\"_blank\" href=https://colab.research.google.com/notebooks/data_table.ipynb>data table notebook</a>'\n",
              "            + ' to learn more about interactive tables.';\n",
              "          element.innerHTML = '';\n",
              "          dataTable['output_type'] = 'display_data';\n",
              "          await google.colab.output.renderOutput(dataTable, element);\n",
              "          const docLink = document.createElement('div');\n",
              "          docLink.innerHTML = docLinkHtml;\n",
              "          element.appendChild(docLink);\n",
              "        }\n",
              "      </script>\n",
              "    </div>\n",
              "  </div>\n",
              "  "
            ]
          },
          "metadata": {},
          "execution_count": 69
        }
      ]
    },
    {
      "cell_type": "code",
      "source": [
        "clustered_groups = df.groupby(\"clusters\", as_index=False).mean()\n",
        "clustered_groups"
      ],
      "metadata": {
        "id": "7MjLAr67VJkk",
        "outputId": "bf1b81c9-26a7-43c4-be82-e815ef9a1d35",
        "colab": {
          "base_uri": "https://localhost:8080/",
          "height": 143
        }
      },
      "execution_count": 70,
      "outputs": [
        {
          "output_type": "execute_result",
          "data": {
            "text/plain": [
              "   clusters        Age       Edu  Years Employed      Income  Card Debt  \\\n",
              "0         0  41.516484  1.961538       15.340659   85.170330   3.104522   \n",
              "1         1  32.964724  1.616564        6.401840   31.288344   1.039043   \n",
              "2         2  45.375000  2.687500       19.687500  235.812500   6.113625   \n",
              "\n",
              "   Other Debt  Defaulted  DebtIncomeRatio  \n",
              "0    5.755670   0.131868        10.596154  \n",
              "1    2.121957   0.237730        10.115031  \n",
              "2   11.619312   0.250000         7.650000  "
            ],
            "text/html": [
              "\n",
              "  <div id=\"df-a0c9ea77-9b98-48c6-add9-4559649bf0d9\">\n",
              "    <div class=\"colab-df-container\">\n",
              "      <div>\n",
              "<style scoped>\n",
              "    .dataframe tbody tr th:only-of-type {\n",
              "        vertical-align: middle;\n",
              "    }\n",
              "\n",
              "    .dataframe tbody tr th {\n",
              "        vertical-align: top;\n",
              "    }\n",
              "\n",
              "    .dataframe thead th {\n",
              "        text-align: right;\n",
              "    }\n",
              "</style>\n",
              "<table border=\"1\" class=\"dataframe\">\n",
              "  <thead>\n",
              "    <tr style=\"text-align: right;\">\n",
              "      <th></th>\n",
              "      <th>clusters</th>\n",
              "      <th>Age</th>\n",
              "      <th>Edu</th>\n",
              "      <th>Years Employed</th>\n",
              "      <th>Income</th>\n",
              "      <th>Card Debt</th>\n",
              "      <th>Other Debt</th>\n",
              "      <th>Defaulted</th>\n",
              "      <th>DebtIncomeRatio</th>\n",
              "    </tr>\n",
              "  </thead>\n",
              "  <tbody>\n",
              "    <tr>\n",
              "      <th>0</th>\n",
              "      <td>0</td>\n",
              "      <td>41.516484</td>\n",
              "      <td>1.961538</td>\n",
              "      <td>15.340659</td>\n",
              "      <td>85.170330</td>\n",
              "      <td>3.104522</td>\n",
              "      <td>5.755670</td>\n",
              "      <td>0.131868</td>\n",
              "      <td>10.596154</td>\n",
              "    </tr>\n",
              "    <tr>\n",
              "      <th>1</th>\n",
              "      <td>1</td>\n",
              "      <td>32.964724</td>\n",
              "      <td>1.616564</td>\n",
              "      <td>6.401840</td>\n",
              "      <td>31.288344</td>\n",
              "      <td>1.039043</td>\n",
              "      <td>2.121957</td>\n",
              "      <td>0.237730</td>\n",
              "      <td>10.115031</td>\n",
              "    </tr>\n",
              "    <tr>\n",
              "      <th>2</th>\n",
              "      <td>2</td>\n",
              "      <td>45.375000</td>\n",
              "      <td>2.687500</td>\n",
              "      <td>19.687500</td>\n",
              "      <td>235.812500</td>\n",
              "      <td>6.113625</td>\n",
              "      <td>11.619312</td>\n",
              "      <td>0.250000</td>\n",
              "      <td>7.650000</td>\n",
              "    </tr>\n",
              "  </tbody>\n",
              "</table>\n",
              "</div>\n",
              "      <button class=\"colab-df-convert\" onclick=\"convertToInteractive('df-a0c9ea77-9b98-48c6-add9-4559649bf0d9')\"\n",
              "              title=\"Convert this dataframe to an interactive table.\"\n",
              "              style=\"display:none;\">\n",
              "        \n",
              "  <svg xmlns=\"http://www.w3.org/2000/svg\" height=\"24px\"viewBox=\"0 0 24 24\"\n",
              "       width=\"24px\">\n",
              "    <path d=\"M0 0h24v24H0V0z\" fill=\"none\"/>\n",
              "    <path d=\"M18.56 5.44l.94 2.06.94-2.06 2.06-.94-2.06-.94-.94-2.06-.94 2.06-2.06.94zm-11 1L8.5 8.5l.94-2.06 2.06-.94-2.06-.94L8.5 2.5l-.94 2.06-2.06.94zm10 10l.94 2.06.94-2.06 2.06-.94-2.06-.94-.94-2.06-.94 2.06-2.06.94z\"/><path d=\"M17.41 7.96l-1.37-1.37c-.4-.4-.92-.59-1.43-.59-.52 0-1.04.2-1.43.59L10.3 9.45l-7.72 7.72c-.78.78-.78 2.05 0 2.83L4 21.41c.39.39.9.59 1.41.59.51 0 1.02-.2 1.41-.59l7.78-7.78 2.81-2.81c.8-.78.8-2.07 0-2.86zM5.41 20L4 18.59l7.72-7.72 1.47 1.35L5.41 20z\"/>\n",
              "  </svg>\n",
              "      </button>\n",
              "      \n",
              "  <style>\n",
              "    .colab-df-container {\n",
              "      display:flex;\n",
              "      flex-wrap:wrap;\n",
              "      gap: 12px;\n",
              "    }\n",
              "\n",
              "    .colab-df-convert {\n",
              "      background-color: #E8F0FE;\n",
              "      border: none;\n",
              "      border-radius: 50%;\n",
              "      cursor: pointer;\n",
              "      display: none;\n",
              "      fill: #1967D2;\n",
              "      height: 32px;\n",
              "      padding: 0 0 0 0;\n",
              "      width: 32px;\n",
              "    }\n",
              "\n",
              "    .colab-df-convert:hover {\n",
              "      background-color: #E2EBFA;\n",
              "      box-shadow: 0px 1px 2px rgba(60, 64, 67, 0.3), 0px 1px 3px 1px rgba(60, 64, 67, 0.15);\n",
              "      fill: #174EA6;\n",
              "    }\n",
              "\n",
              "    [theme=dark] .colab-df-convert {\n",
              "      background-color: #3B4455;\n",
              "      fill: #D2E3FC;\n",
              "    }\n",
              "\n",
              "    [theme=dark] .colab-df-convert:hover {\n",
              "      background-color: #434B5C;\n",
              "      box-shadow: 0px 1px 3px 1px rgba(0, 0, 0, 0.15);\n",
              "      filter: drop-shadow(0px 1px 2px rgba(0, 0, 0, 0.3));\n",
              "      fill: #FFFFFF;\n",
              "    }\n",
              "  </style>\n",
              "\n",
              "      <script>\n",
              "        const buttonEl =\n",
              "          document.querySelector('#df-a0c9ea77-9b98-48c6-add9-4559649bf0d9 button.colab-df-convert');\n",
              "        buttonEl.style.display =\n",
              "          google.colab.kernel.accessAllowed ? 'block' : 'none';\n",
              "\n",
              "        async function convertToInteractive(key) {\n",
              "          const element = document.querySelector('#df-a0c9ea77-9b98-48c6-add9-4559649bf0d9');\n",
              "          const dataTable =\n",
              "            await google.colab.kernel.invokeFunction('convertToInteractive',\n",
              "                                                     [key], {});\n",
              "          if (!dataTable) return;\n",
              "\n",
              "          const docLinkHtml = 'Like what you see? Visit the ' +\n",
              "            '<a target=\"_blank\" href=https://colab.research.google.com/notebooks/data_table.ipynb>data table notebook</a>'\n",
              "            + ' to learn more about interactive tables.';\n",
              "          element.innerHTML = '';\n",
              "          dataTable['output_type'] = 'display_data';\n",
              "          await google.colab.output.renderOutput(dataTable, element);\n",
              "          const docLink = document.createElement('div');\n",
              "          docLink.innerHTML = docLinkHtml;\n",
              "          element.appendChild(docLink);\n",
              "        }\n",
              "      </script>\n",
              "    </div>\n",
              "  </div>\n",
              "  "
            ]
          },
          "metadata": {},
          "execution_count": 70
        }
      ]
    },
    {
      "cell_type": "markdown",
      "source": [
        "# 7. Transform the Scaled Data with PCA"
      ],
      "metadata": {
        "id": "PyI88SVRZNK_"
      }
    },
    {
      "cell_type": "code",
      "source": [
        "#Instantiate PCA\n",
        "pca = PCA()\n",
        "scaled_pca = pca.fit_transform(scaled_df)"
      ],
      "metadata": {
        "id": "oP10c615Vm0d"
      },
      "execution_count": 71,
      "outputs": []
    },
    {
      "cell_type": "markdown",
      "source": [
        "# 8. Plot the Clusters\n",
        "\n",
        "- The x axis should be the first principal component, you can extract this from the PCA array with `pca_data[:, 0]`\n",
        "\n",
        "- The y axis should be the second principal component, you can extract this from the PCA array with `pca_data[:, 1]`\n",
        "\n",
        "- The `c` argument should be the labels from the kmeans model."
      ],
      "metadata": {
        "id": "Ubfzz4_rZWRd"
      }
    },
    {
      "cell_type": "code",
      "source": [
        "plt.scatter(scaled_pca[:,0], scaled_pca[:,1], c=kmeans.labels_);"
      ],
      "metadata": {
        "id": "h37sbylFVzfc",
        "outputId": "28fd4812-8852-431c-9ff8-815e56b1dd72",
        "colab": {
          "base_uri": "https://localhost:8080/",
          "height": 430
        }
      },
      "execution_count": 72,
      "outputs": [
        {
          "output_type": "display_data",
          "data": {
            "text/plain": [
              "<Figure size 640x480 with 1 Axes>"
            ],
            "image/png": "[encoded data removed]"
          },
          "metadata": {}
        }
      ]
    },
    {
      "cell_type": "markdown",
      "source": [
        "# 9. BONUS Plot 3 components with Plotly Express\n",
        "\n",
        "x, y, and z should be the first 3 components and color should be the KMeans model clusters.\n",
        "\n",
        "[scatter_3d documentation](https://plotly.com/python-api-reference/generated/plotly.express.scatter_3d)"
      ],
      "metadata": {
        "id": "Rh3A_by2Z_rl"
      }
    },
    {
      "cell_type": "code",
      "source": [
        "import plotly.express as px"
      ],
      "metadata": {
        "id": "l0AUq7QbW20U"
      },
      "execution_count": 73,
      "outputs": []
    },
    {
      "cell_type": "code",
      "source": [
        "px.scatter_3d(x=scaled_pca[:,0], y=scaled_pca[:,1], z=scaled_pca[:,2], color=kmeans.labels_)"
      ],
      "metadata": {
        "id": "2RCA94hJfbYO",
        "outputId": "2d256930-c10a-4887-d114-af91437d6d29",
        "colab": {
          "base_uri": "https://localhost:8080/",
          "height": 542
        }
      },
      "execution_count": 75,
      "outputs": [
        {
          "output_type": "display_data",
          "data": {
            "text/html": [
              "<html>\n",
              "<head><meta charset=\"utf-8\" /></head>\n",
              "<body>\n",
              "    <div>            <script src=\"https://cdnjs.cloudflare.com/ajax/libs/mathjax/2.7.5/MathJax.js?config=TeX-AMS-MML_SVG\"></script><script type=\"text/javascript\">if (window.MathJax && window.MathJax.Hub && window.MathJax.Hub.Config) {window.MathJax.Hub.Config({SVG: {font: \"STIX-Web\"}});}</script>                <script type=\"text/javascript\">window.PlotlyConfig = {MathJaxConfig: 'local'};</script>\n",
              "        <script src=\"https://cdn.plot.ly/plotly-2.18.2.min.js\"></script>                <div id=\"6fa7bf03-f44b-4a8a-866b-ff61976112ea\" class=\"plotly-graph-div\" style=\"height:525px; width:100%;\"></div>            <script type=\"text/javascript\">                                    window.PLOTLYENV=window.PLOTLYENV || {};                                    if (document.getElementById(\"6fa7bf03-f44b-4a8a-866b-ff61976112ea\")) {                    Plotly.newPlot(                        \"6fa7bf03-f44b-4a8a-866b-ff61976112ea\",                        [{\"hovertemplate\":\"x=%{x}<br>y=%{y}<br>z=%{z}<br>color=%{marker.color}<extra></extra>\",\"legendgroup\":\"\",\"marker\":{\"color\":[1,0,1,1,2,0,1,0,1,0,0,1,1,1,1,1,1,1,0,1,1,1,1,0,0,0,1,1,0,1,0,1,1,1,1,1,1,1,1,0,1,0,1,2,1,0,1,1,1,0,0,1,1,0,0,1,1,1,0,1,0,1,0,0,1,1,0,1,1,1,0,0,0,1,1,1,1,1,0,1,0,0,0,1,1,1,1,1,1,1,0,1,1,1,1,1,1,1,1,1,1,0,0,1,1,1,1,1,1,0,1,1,1,1,1,1,1,1,0,1,1,1,1,1,1,0,1,1,1,1,1,1,1,1,1,1,0,1,1,1,1,1,1,1,0,1,0,1,1,1,1,1,1,1,0,1,0,0,1,1,1,1,0,1,1,1,1,1,1,1,0,1,1,1,1,1,1,1,1,0,1,1,1,0,1,1,1,1,1,0,1,1,0,1,0,1,1,0,2,1,0,1,1,1,1,1,1,2,0,1,1,1,1,0,1,1,0,0,1,0,1,0,1,1,1,1,0,1,1,1,1,1,1,1,0,1,1,1,1,1,1,1,1,1,1,2,0,1,1,1,1,1,1,1,0,1,1,1,1,1,1,0,1,1,0,1,1,0,1,1,1,1,1,1,1,1,1,1,1,1,1,0,0,1,0,1,0,1,0,0,1,1,1,1,1,1,1,1,1,0,0,0,1,1,1,0,1,1,1,1,1,1,1,1,1,1,1,1,1,1,0,1,0,1,1,1,1,1,0,1,0,0,1,1,1,1,1,0,1,1,1,1,1,1,0,1,1,0,1,1,0,1,1,1,1,1,0,1,1,1,2,1,1,1,0,1,0,0,0,1,1,1,0,1,1,1,1,1,1,1,1,1,1,1,0,1,0,1,1,1,1,1,1,1,1,1,1,0,1,1,1,1,1,1,1,1,1,1,0,1,1,0,1,1,1,1,0,1,1,1,1,0,1,1,0,1,1,1,1,1,1,1,1,1,0,1,1,1,0,1,1,1,1,2,1,1,1,1,1,1,0,1,1,1,2,1,1,1,1,0,1,2,1,1,1,1,0,1,0,0,0,1,1,0,0,1,1,1,1,1,1,1,0,1,1,1,1,0,1,1,1,0,1,0,1,1,1,0,1,1,1,1,0,0,1,1,1,1,0,1,1,1,1,0,1,1,1,1,1,0,0,1,1,1,1,1,1,1,1,1,1,1,2,0,1,1,1,1,1,1,0,1,1,1,1,0,1,1,0,1,1,2,1,0,1,1,2,1,1,1,1,1,1,1,1,1,0,1,0,1,1,2,1,1,1,1,1,1,1,1,0,1,1,1,1,1,1,1,1,0,1,0,1,1,1,1,1,1,0,1,1,1,1,0,1,0,1,1,1,1,1,1,1,1,1,1,1,1,1,1,0,1,1,1,1,1,1,1,0,0,1,1,0,1,0,1,1,0,1,0,1,1,2,1,0,1,0,1,1,1,1,1,0,0,1,1,1,1,0,1,1,1,0,0,1,1,0,1,1,1,0,1,2,1,1,0,1,1,1,1,1,1,1,0,1,1,1,0,1,1,1,1,1,0,1,1,0,1,1,1,1,1,1,1,1,0,1,1,0,1,0,1,0,0,1,1,1,0,1,0,1,1,1,1,1,0,1,1,1,1,0,0,1,1,0,0,1,1,1,1,1,0,1,1,1,1,0,1,1,1,1,1,1,1,1,1,1,1,0,1,0,1,1,0,1,0,0,1,1,0,1,1,1,1,1,0,0,1,1,1,1,1,1,1,0,1,1,1,1,1,1,2,0,0,1,1,1,1,1,1,1,0,1,1,1,1,1,1,0,1,1,1,1,1,1,1,1,1,1,1,1,1,1,1,1,0,1,1,1,1,1,1,1,1,1,1,1,1,1,1,1,0,1,1,1,1,1,1,1,0],\"coloraxis\":\"coloraxis\",\"symbol\":\"circle\"},\"mode\":\"markers\",\"name\":\"\",\"scene\":\"scene\",\"showlegend\":false,\"x\":[-0.9488997656057552,3.5787332102032368,1.9440578489883484,-1.5484112326699202,6.6248719505226354,1.9770270174610483,-0.9388328180992169,-0.18036512646815114,-1.172482918914523,1.9888267863549978,0.884136565218978,-1.052898152772701,-1.6949001729363664,0.3907978682242291,-1.3642583032172548,-1.9573283391309284,-2.117557868158719,-0.4265062919315077,1.4268619936095432,0.011082498853779007,-1.4611863217610483,0.3638358339835447,1.0074151457371077,1.582596660842085,3.9854452146620765,0.699340520025223,-2.0927813085583704,0.7772583392883424,-0.27456600844956436,-0.08253222304106823,0.919122112753557,1.3653035891727447,-1.692006757609907,-0.41659917461092555,-0.43739357656070876,-0.727990403241254,-0.7787042993244463,-0.9981231112215014,-2.2808949134397842,2.0794973031460207,-1.9026072648343615,3.411336884387911,0.4227906348740611,2.560255270462498,0.4628457318768126,1.9855416410109474,-1.456398751788613,-1.7632841302307323,-1.9032828921425464,-0.31932194523724317,1.4470012689585927,1.5758795113829938,-0.6562973856511789,1.0331096593401699,1.7549293737628562,-0.893734251538439,-1.7059433530864654,-1.5402152180430482,0.12873792714552187,-0.06986698283570696,1.4472230424021273,0.5865041212741207,1.4723256652699466,2.357727590838686,-1.9371707235695004,-0.5448528692746304,0.2839593272370702,-1.0816965313635396,-0.6328990257192338,-1.386753097671921,-0.7418121844396123,-0.2773976230649406,0.9422669717098399,-0.11123437167100164,-1.1685929539555635,-0.9964249940895439,-0.5419660260148434,-1.3395288293424177,4.225024497148706,0.5337612386499923,0.6822955843398182,2.6087686754282657,3.0004162157122845,-0.6535270460592166,1.3333412755477747,-2.155024123754645,-1.3153463759581978,-1.5024994152040705,-0.8213832956126719,-0.5395282670482974,-0.016227218010051506,-1.2651063099231972,-1.883547750537752,-0.9370034815970295,-1.245114898908625,-0.5579382336606463,-0.8485746578659217,-1.0484748488199591,-0.31770086660924496,-2.1182156175307094,0.5619299587539628,3.8765237661121508,0.38935688325265233,0.13455134944468686,-1.0088633306207815,3.397637028880077,-0.9812394646566623,-0.7823660984808376,-0.6991988365476708,0.5417615650915214,-0.006986639572937625,-0.4951087169479335,-0.42721043607256576,-1.4864882478217767,-0.9909751186662833,-0.46803926546969965,-1.3751416349676284,0.11822178174393641,1.81588895302294,-1.1677784316312543,-1.0723379032165106,-0.9476293316198142,-0.716852398806396,0.01742200841921987,-0.3391568585924037,0.34347572216246247,-1.3576580800151468,-1.6735927777947535,-0.9332512166320452,-2.3217551626953075,-0.598477506192774,0.6521260427645477,-0.7290158652041919,-1.3389046968666165,-0.6461797206115243,-0.4632183100929967,0.838706187124058,-1.5208032441926618,-0.01181090666433069,0.3248471974256155,0.9293701621134082,-1.862441190208215,-0.5136256442629694,-0.8767076165895671,3.158155996873637,-0.27120106097718144,0.9855020264164183,0.6331149350603898,-1.5057951908207754,-1.6331550375416808,-0.8551305229562555,1.3399584047369864,-0.4602465718628524,-0.31665302882198554,0.01828886695604846,0.9264638345212785,1.1266941198032296,1.956316552259149,-0.790397571536145,0.9965245822156421,-2.172424265530854,1.115220771992992,-0.23068788975401042,0.0810721659193336,-1.067089540338553,-0.9947311277548707,-0.9383785213133681,-1.4535210395541185,-1.583891863961535,0.30406318585525205,2.6690929657927716,-1.007280603768216,-1.213322916540829,-0.5514848321464063,-0.9780228225906471,1.2377220546847865,0.16835803581145167,-1.6390941564977917,-0.32653997524282785,1.4369775144489803,0.6294183763053195,-0.3588282463139467,-1.6445035160382704,8.602568125378333,0.15963289043168108,1.3319559091413615,-0.7048683212619288,-0.47640510576860634,0.7502731746707101,-0.063375790776485,0.06903189258396915,1.5594376197367694,-0.16532592720239925,-1.5793882558429033,0.33050211634011895,-0.5159267421909185,-2.2041150337011723,2.190287166354499,9.383586012451042,-1.4045061304114663,3.1641550441974045,-1.4653863057941825,-1.1183392589071879,-1.100414340782197,-0.8260907039656799,1.2627533029923521,-1.154056773437211,3.55000676881187,1.0323097606994052,-1.492673117344297,-0.8498197211737696,-0.6098395731990859,-0.23849791856456282,0.5492952546952775,-0.7228931037220678,-1.1619498445094523,1.0740537850634893,1.9210045885835265,0.6914100269132937,0.16652574977019943,-1.6249940971187178,1.8888369300739707,-0.9819007496979533,-1.7795442764909317,-1.25263009620807,-1.4145475030144332,3.791333431813151,-1.460769633281883,0.6083153134490515,1.4704511772217155,-0.7119344331222225,0.19860012830634807,0.9735747355881497,-1.4472237627749225,3.0166076742662042,-2.194823565863689,0.741115011584852,-1.4809030844388897,1.5795502174289646,-1.74357647957844,-1.009605858538866,-0.5444144100044461,-1.4568453583366707,-1.3087644539590302,-0.8136878255811114,2.60882278505774,0.3707840548202529,1.206318636343429,0.024459524958258223,-1.0325392526802353,-1.1458873075149276,-0.6737091774519322,-0.7490690739898694,-0.19846209914401808,1.3708953754258868,1.0257385566749322,0.34053286290055423,-1.7771674086714309,-2.2975835090650785,-1.5927571798944777,-1.10785896852493,1.3819539519131636,0.877390649667428,-1.244466154485299,2.48727647316457,0.10310631522668802,-0.5736748869199183,1.7047392873027336,-1.0587411090595524,-0.4370183852672043,-0.8597540497717368,-1.6233290133401181,-0.8422550695577975,0.49333199410222944,-0.5855313765052543,-2.023398152863598,-0.7128963699669376,1.0221087600392325,-0.992534783222328,-1.2827693245500682,-1.9239735739727626,11.0060283986679,1.0961289897648072,-1.9020425323385461,2.6664653758748913,-1.2733470863191942,1.4636186108297937,-1.4678059754910475,0.6437256788368116,2.060857888357018,-1.4821417664638976,-0.29184192221413785,-2.021692398144511,1.6643408885324413,-1.394971788734655,-1.389412008012738,-1.48329986197188,-0.9988703981124982,-1.1963632259877695,2.7261222412135115,0.7895729871078773,0.2937313325909375,-1.8098684511195453,-1.2158861703990793,-0.77589731346812,0.12744391885406875,1.0825889534367583,0.017987614578915043,0.2560408315002234,-0.4490901127558705,-0.5081355583711694,-1.5228850836691812,-0.7844429675778731,-1.9397670952930528,-0.013129474228874725,-2.1572379593703217,-1.0470598567760836,-0.9449667509662893,-0.34143717415369745,-1.1796843637153371,4.40440495081417,-0.9227394042924137,1.8614846804962717,-1.8943099944570632,-2.340915364406131,-0.12094647524686084,-1.2325215115022512,-1.4678321338835276,0.2851879853666651,1.0868173298761032,0.47129612683707955,3.6091966318030955,-1.5887425170138687,0.040128918052793706,-0.1264671563423817,0.74685226413822,-2.4412093036785327,2.7075666469665998,0.15764814189220921,0.7043358166452277,0.5385455582509963,-0.08575971539999644,-0.9965327402305459,-0.044945912965004796,3.060120439409575,-0.48529327298791375,-1.3502306619052713,-0.20709012477250305,-2.346140079970928,-0.9737760464192581,8.092082351408061,-1.7958389701278221,-0.4830214076601812,-1.3469083327398588,-1.2766780281592858,-0.4931833330332926,3.9501018983568637,-0.6397112073563433,-1.1475774251044562,-1.545552225572597,2.649752914321825,-0.15854405087332435,-1.8049885745033403,-1.5314703827774439,0.3955879951807284,-1.3255410575439883,0.4854822479529669,1.6336959495730057,3.1034052716090392,-0.04102273362707912,-1.8780569455745897,-0.7633933736061447,1.418850275015921,-0.22761948900973283,-0.18456678567260082,-0.33399191434788683,0.3936826921587452,0.002403194085395679,-1.6579871200869623,-1.837025219560662,-0.6308468451631497,-1.7134476935505767,-2.417112467800471,-0.2517032489825029,4.21437794908195,-0.4491410181911977,1.299795898158188,-0.6934369773366867,-1.260407670456198,-1.4316121255481267,-0.744435197408275,2.2481305349261134,-0.5806902871520082,1.6202669723206231,-1.39915180339564,-0.05789595123764582,-1.5428225974698246,1.9158670825890678,-0.7452721078653648,-1.383856276607051,-0.7214669823053879,-1.3809777783412962,-1.1114759532015883,-1.5866527185874606,-0.7719755169132966,2.0238981224421178,-0.29365066854185773,1.8018993663922174,0.55082465281924,-0.561649561756152,-0.6170489706158262,0.3545016894544329,0.7038777015642156,0.03221209978246143,-1.4413392086957801,0.41059071485771786,2.198271385555903,-0.5885565062779048,1.82916276504477,-1.4047590394250993,0.5962288797197406,1.9730551444596078,-0.9173723757844172,-0.663691769980753,4.2981756432871165,1.2416171046116575,-0.989769413537629,0.7151835907463714,0.2102072678647544,-1.842674110330652,1.9498885687691878,0.5517509298010111,-1.4269453479547547,-1.9537380378977085,2.755045399592353,-1.2484328163117193,-1.2369275011646819,-1.7762749682808134,3.248382225720774,0.4208679836949247,-0.5530119899970536,-0.01578418879628102,-0.9666923047574101,6.662206243577395,1.048475886833985,0.5053910818598981,-0.7586993155889573,0.09326456102821218,0.3428804076466958,-0.7380936684195163,4.50608911438957,-0.25815545821972163,-1.7371263527170475,-1.5855104642211837,5.263479284599351,-1.0080108690286296,-0.6381544222893524,-0.9660865087437082,-1.1767833990271415,1.5837267223831162,-0.6084161797350024,4.821364748541728,-0.6923488228774756,-0.11591988620459717,-1.5705607291113333,-0.577911865164126,0.3323511883248208,-1.5298315027967146,-0.21274063007609118,2.4746604925608535,2.56170003319815,0.16469924351338147,0.6649238295100234,1.7567367522957875,0.22831258619720765,-1.7248060638466818,0.27838639379163765,-1.0862618284383345,-0.9559486025937424,-0.17287323873729596,-0.0020718841686092645,0.11415337312469355,0.1167711120972541,-1.414082801630782,-0.6876805359058517,-1.1489380629622319,0.8789422624467221,3.003906597375102,-1.413176582735016,-1.9801960322991785,-0.5849677658883066,2.73288633976327,-0.30738056717925344,2.038067895335492,-0.4463767074614722,-1.316001369331999,-1.2267669315522753,6.178596649401885,0.2020105044625739,-2.0304251220624407,-1.0356919384588708,-0.8998474925436275,2.6834043465918205,2.462920068117965,-1.3506432714098628,-0.6826079710240011,-0.32660596430240446,0.43676667203150316,0.8762199925813905,-0.17885004197659768,-1.0697231243842085,-0.8956565047106648,-0.7659839584927923,8.054065996161377,0.0721985551809141,0.3166198824860843,-1.3481491721461911,-0.9889486889515368,-1.6798558926503404,1.4979503863028858,2.234917564219927,-0.6109421055351695,-1.2036135893782403,-1.130900389991055,0.526553083148413,-1.2429193857610619,-1.0094850735312968,0.5632203329392811,-0.48415727575399675,-0.7264271470059838,-1.4104709046665738,0.6584670641607039,10.32900408249326,3.1066996697500624,-1.4031771713602816,-0.7911176469440409,-1.5805453791842579,-1.1236711751224175,-0.9811068264562489,1.0039583083504797,1.4480222201977817,-1.080517562857421,-1.360622083436315,0.5427080451769789,0.18488374187829004,0.15518290608904345,0.0047092670198549975,-0.7716289178750696,1.3166294945652497,-2.1463380895758237,2.4611731594319073,3.5343436259436274,-0.9853262618039496,2.3383973066646595,-0.5967809238014288,-0.08217209314368161,6.09241925683521,-0.7602644817682901,-0.47629159153569905,-1.9946864485813731,0.1381568981046377,0.2466081256485177,-0.38305188286949415,1.0057632879898564,-1.586322747566942,0.08962869253257266,1.3968973321672304,-1.829598849820777,4.152788001781221,-1.8266059863990656,-0.29939364111738787,7.283960151686478,-0.25166802922275233,-1.7789792437836467,-0.22184646804600397,-0.02170736044216426,-0.6723638533722653,-1.4111408449396605,-1.4015808057683974,1.0486214544008459,3.776011474006042,-1.3768730054339369,-0.0002751968242548338,-0.30164950653017264,-0.07683762738790151,1.4328942880751228,0.623265517898215,-1.1967635038889772,-1.305916211931678,1.281675396283531,-1.087770792755864,2.0934751247706314,0.16322428792160512,0.9440247966440367,0.4988700342340134,-1.3728739889934143,-2.0232407577602123,-1.8905627251796262,0.7393675521288606,0.2405745155685366,-0.6793743424099478,0.22692913537329779,-1.3400222568040465,3.171003222092962,-0.9717463446589685,1.893021931160778,-0.08808560567063045,-0.8625711940707056,-0.8373701293722878,-0.9717200024623954,-1.2103738058236744,-1.2629604904658818,-1.8833710722442076,-1.3630596880747912,0.3799598741454873,0.1400208836818138,0.9051281294956056,-1.3511374125716233,-0.3872163245840101,-0.8065273795376305,4.3314063525951925,-1.1120004648218942,-0.710986164462075,-0.004730251523388346,-1.8654889428541144,0.38670512626751957,-1.5509132669624126,-2.3605075402422746,1.3214408863386375,4.041315387700155,0.9969343625264321,-0.33484034061959494,0.5995269438277828,0.02763260897680685,3.345379760134552,-1.3137678393347358,0.12751973489489474,2.092750453914775,-0.7120881070399981,1.756477377860625,-1.4108775076739537,-1.973153459452582,3.6125820834081757,-1.6799441189237079,1.3416101679114907,1.6798159249778875,1.601040350937498,-1.180060695099593,-0.9443284857419687,-1.024342057767694,-1.8117356424259667,-1.2938815363083442,2.9832876279794736,1.8868186205935713,-1.8652365748820257,-1.7838349255605113,-1.248496484377026,4.023239423431836,1.6096771668261112,-1.48914690448444,-1.3389536323297855,-1.1283896323087215,0.053763853441678076,2.8938733389766647,-0.43766488715448354,-0.754041546569037,0.7744905883069125,-0.9679907403268829,-1.4737756160788242,-0.23366735321139143,1.0051243875076719,0.14410529048911702,5.661530190001989,-1.60144761958703,-1.4566672715323152,1.540186396957822,-1.220127471222703,0.2956229731141166,-0.19244537149433127,-0.3275234923069157,0.7003928855793934,-1.5882435946417248,0.49348443404273323,2.1637483582158556,-1.8337371247247274,-0.21964090077067167,-1.161403125354612,0.5454653347352263,-0.8457065667417679,-1.2295317424958243,-2.2598464543031085,-0.9909407071065887,-0.7080063585669534,2.120569258870708,-1.8439448300200514,-1.0048234170195927,1.1749379665090893,-0.35526678844965315,-1.3411179369412145,-1.7263898777708915,-0.7913236659318672,0.2624409775724225,-1.5289892142150812,-2.0624578245385754,-1.7996770726730842,0.7881519883961194,-0.840204639741901,-1.5110315482782806,2.3265287299276634,-0.3474611409322797,2.249648412204354,-0.8950824173984518,1.9732836528149025,4.993229632570545,-0.7578022067417826,0.5158992500537776,-0.8932456803830484,1.8067182779966677,-0.289060442912635,3.100336983195374,-0.9641317547624977,-0.5352908933121198,-0.41934991833074686,0.09246942010586365,-0.214766569646872,3.9709041140442203,-1.3771159595487126,-0.338174618892656,-1.7425338488531967,0.008714427676367117,1.2503534051791123,1.2837617569024662,-1.2071645943717095,-0.8717677301172285,3.5407719308416628,-0.28157472666114786,-0.5470250131197314,-0.43239546524005473,-0.28355027244299036,-0.10322366268484441,0.6194708752164567,0.741103493146257,-1.98173578612442,0.5555523506339705,-0.516044384807357,0.5966561250447118,1.333225950003053,0.7201409340493261,-1.627445871557576,-0.7091604898549726,-0.7759818803961328,-1.1975713004764086,-0.8809970453058311,-0.2631426479755247,-1.0428818647709344,-0.44639369312601657,-1.4135694151179738,-2.018702414089034,1.625114233178456,0.08245335877670382,3.418326020640276,1.5142149889013032,-1.5541715420113267,0.1468286271331348,-2.0534784791798666,-0.260119863357629,-0.45625497559159794,-0.17725141473438266,-0.8671603737221445,0.852330393797984,-1.6336679983405966,-1.6282756574643016,-1.044768514046669,-0.7115937322137101,0.582130680900859,0.9079014543931392,3.9066239796303135,-0.429185697451358,0.7435056226468888,0.5832866318098324,-1.1946301413191227,-0.6325298454975254,-0.6884400050261141,0.05014386705531708,3.5757969992796603,-1.5790082277680515,-0.20101739407239774,-0.2085202243081268,-0.6431309775992216,-0.8398340454483955,-0.10505196435772712,8.31964966041332,1.3610109033187272,1.7328322561885858,-1.9641936464021352,-1.2160171131164088,-1.139174920119312,-1.6442530504765946,-0.36599024545727554,-1.2809692871343503,-1.8278413088370513,2.544774090995015,-1.9905328189096199,-0.5162905369063586,-0.5618499307803398,-1.4372279280247575,0.3507768693213789,-0.8044045120146397,1.9311755396045975,-0.727352935722867,-0.7692691021054184,-1.8738031405153126,-1.6490890529027957,0.06302648174043399,-1.216850033470355,-1.076220712077985,-1.0402405810595339,-1.6879216652632545,-0.5431840423446003,-0.3058987534485018,-0.6496350844102552,0.9161665931492892,-1.284149959191826,-0.9932394814387032,0.1863532319457104,1.2086801335423674,3.451269653007093,-0.083773198819913,-1.12629250494493,-1.2615997809280681,1.6235188133310245,-1.1003435267259938,0.4574779030295705,-0.2251901138549481,-1.1167225660202431,-0.22619884461901857,-1.7729897876937888,-1.10294991421225,-1.183454130662891,-1.2442099072995214,-0.4846725551589315,-0.47304611448835887,-0.9263199231073104,-0.874353900551348,-0.6137394768410596,-1.4882434838682992,-1.0661444985189372,0.07262956501283281,-1.1409173701698614,1.3934377155343853],\"y\":[-0.7583929187711886,-1.3095847149018427,2.5507143893719038,-0.15552164546705521,-2.332596916683438,-1.3340008403288006,-1.1154656116361743,-0.3281946327190165,0.5821285351174286,-2.2865171974034526,0.3531255619060967,-1.1795769410604071,-0.2866509532778009,0.051358218527689854,1.7460220098426913,0.2883311849541979,-0.51885586408443,0.2519402389738217,-1.1366877825942017,-0.8442056746134167,-0.4876391616258331,0.07981519192645127,2.921200602936158,-1.5481754758707038,1.1306735495801459,-0.8423389545954152,-0.5074512134393597,-0.6750779912862059,-1.5536809230328454,-0.24933634392470558,-1.8511948745817732,-0.0957597138184163,1.3463450410265871,-0.09578480800177037,-0.5749290880177453,-0.16461279511332474,0.9113783801147097,1.5809307645946105,-0.07272586895700958,-1.1428945726453592,1.6372186236497583,-0.660388880176699,1.6944126352961797,-0.6090015676922944,0.4915533230770183,-0.09450454658444164,0.9401920077476076,-0.6462885647401929,-0.448315481385817,-0.5811347902077497,-2.2122433156656105,1.6549303866352445,2.9626354643523944,-2.6482928735502154,2.9668930680400103,1.5146406953833254,0.8993558844998862,0.15915088464510485,-1.0670349423638898,-1.7007656026517497,-0.5696694567539176,-0.3449768596436073,-0.6523401848607843,-0.5521393614321124,-0.2263502453299935,-0.4344842257567215,-1.5450922617371117,1.6034151893670205,0.19160068875729686,2.1481159388956503,-0.7518108188720829,-0.9490209168987692,-0.5555938334254709,1.010464970039259,-0.7807912550197896,0.09565446114073733,-1.4544146070063848,-0.08314695227322673,-0.7112824428009793,-1.9029418172128734,-0.43993989443951187,4.389669190920204,-1.2791071690343438,-0.22618579914387368,-0.4215151949478276,-0.06372666783977109,1.2654401548498797,0.33344908001703677,1.1840732711492172,3.1459348056101084,-1.3169459519806461,-0.8501604509210895,0.717381837444787,2.3133062591812577,-0.7974670054793321,-1.6869921042669018,-0.4089766496697806,-1.583872658300288,1.9067878392033826,0.33028032668030083,2.7152951101634297,0.6137229091042554,-1.663085302067899,0.6794840144210611,1.9088515446955723,0.8341998912402103,-1.3454427149130692,0.39588120876288097,-1.1170279983883042,-1.4748205304244322,-1.2267871168709283,1.7355009768005563,-0.33313269737426077,2.3272879099315276,-0.27121331111363345,-0.780216805968235,0.02654479530798369,-0.9253330240737171,0.8452994892099556,-0.6924897491348583,0.19788614747808436,0.02153079269869811,-0.3821084660232412,-1.5788377030491796,-0.4784740637861781,-1.5052481147782841,-0.755574147121315,-0.529557758428485,1.1905758387493852,-0.45103342090892234,-1.5894174775658767,-0.8000393935111589,0.2266145680519721,-0.3609450295654928,0.13420992130929577,0.44465251388215715,-2.6758001993010567,0.33404458716895646,-1.0514551798719922,1.733081132727334,1.5206261440805935,0.5132710991601305,0.25606614872424477,-0.04810759511083973,2.9026665451462073,1.5294220098285896,-0.9252096972376892,1.5470015440881435,0.11060138839071945,-0.33481087770378487,-1.483110386788679,0.6141021304236628,1.2944098291885402,-0.1328223297983587,-0.6557875316953906,0.035266803889284014,-2.4311545864360973,-2.1672461155013387,2.432036124470011,1.9782194477929802,-0.18031919419105538,0.6398697825518033,-1.7928506512693587,-0.2347774110890151,0.25178927220444475,-0.8543686314222413,-0.6563108537328753,-1.3285232778772968,-0.9191504134221371,-0.15551112722373409,-0.06747909609442249,-0.038984024082405346,-0.7622803321216647,1.9015986376644323,-1.0743401422446983,2.6014500065053316,-1.5172193466276296,-0.5183546070868645,1.8466135182307857,-2.413486812530346,2.0681220931905364,-0.7937422742941834,-0.3107570905209649,2.6665498022804774,2.8627301492580237,2.1928723441325615,-0.927322661967434,-0.9054349520898709,-0.8752440768407532,-1.4006279622363251,0.917628389749943,0.22127375450913275,-1.896289629511332,0.5003648797016317,-1.6459858394505416,0.16928411218712452,0.4037542476500981,-1.821747396261604,2.723801462933486,-0.7102453939675896,-1.9832423233328282,-0.4378390403163982,2.5451629122801296,-1.1709165303902533,-1.548613755634605,0.7287857012776853,-1.0077255282379265,-3.2328079999997197,-2.2799942240219386,1.6006236304388497,-0.5657337374417163,-1.0591087324650308,-1.0375227720806135,-1.9902804534898508,-0.35861890185928197,2.2808425453145857,1.3491913112645701,2.754201836775817,-0.856703382413246,-2.2578918044865675,2.269373032175386,-1.2828283178035922,-0.5920201349005166,0.6494559803312473,-0.32344735366755484,-0.7306017059006685,-0.3920831971689569,-0.026313132693551292,1.4631407315571052,0.4617393374667454,-1.1725648696432924,-0.029329061348225702,0.7007134067538762,0.41748213898535047,-0.7397176597274957,-0.6569403074040756,-1.3260810555233735,2.4603801150257754,1.5059843363891594,-0.10949680288229159,0.05742556996355753,-1.5757758324864897,0.05951850708772287,-0.7595614101171955,-0.7868462826498697,-3.4642814775835817,-1.291188734017736,-0.6356967046959658,-0.19489026311071328,0.9420981913167984,-0.44380643551863236,0.993680121540975,-1.2419362274387642,1.3187451897913982,-1.7834737918323988,3.4687441652115676,-1.451793875572539,1.4638803075612414,-0.33838977024057737,0.2643938026775957,-0.6470797562819087,1.5262281032565632,0.2504791963446083,0.8774243034213073,-0.8923603628264847,0.1977774696051492,-0.7508394324231198,0.016740390601158218,-0.5890800861827662,-1.655678647556833,1.6862600186477599,-0.5046970057446184,-1.349243955343763,-1.2046190242181238,-0.3235458650700329,0.7870968422232197,2.588269240847148,2.1108999565150905,-0.23625260253721642,0.23272824361251865,-0.8331507265778368,2.2170393375982202,-2.0035748177473924,0.38953885837525576,-1.6794686307458326,-0.09296654371358588,-0.49462435522574816,-0.27007576351647117,-2.3071176139336083,-0.33362591899053196,-0.6031074223955155,-1.147788771888456,-0.7935935046805858,2.250639444947746,-0.43580073095197674,0.22913035095920034,1.7697484579372222,-0.4639089634003756,1.984699564282585,-1.0100371612692647,-0.9785685561385232,-0.9254866155574472,-0.01547789682697228,-0.03284000742599292,2.0423905999189533,-0.3704633134781387,0.2825452050839779,2.152499904004751,2.1542759056189626,-0.5654404770422152,-0.49657638364841356,0.2516753095454754,-0.45186554936623546,-0.45247019092960844,-1.875843810690422,-0.11748790986187052,-0.5883754761659341,1.9567719732164868,-1.1112303427656856,1.0618071921949206,2.8426701899121487,-0.5102692933094556,1.2435342291505036,-0.2897120836664461,-0.5390589092756581,-1.1062752566719334,2.538061300951164,0.9309470552560034,-1.6452080075247189,-0.8059343950832504,-1.0729420493571746,-0.7325135776580719,2.104364368997577,-0.4521668754746164,-0.7802127564097039,1.0642670824891431,-0.3774279421197127,-1.6308541189187098,0.5518694736968444,-1.8492583567749925,-0.02900773316856872,-2.117236766103388,-1.3750591062621453,1.4846902250357383,-0.19180658674910236,-1.0310920083762507,0.8179525517710647,0.0034367816390518976,-0.584230607347857,-0.48724562990389186,1.9392830433602153,0.09343480866439799,-1.714394693753707,-0.7741103041030941,-1.268888512213955,-1.3228232971339011,2.1330915375710107,0.5506171308274093,-0.20478463255090787,1.1471249119254248,-1.682749427736477,2.266717158810908,-0.3777447570146374,1.9195173046291365,-0.7742224346279143,0.6582341780062899,-1.6754266045605246,-1.646354270581812,-1.8393267351678964,-1.606931069889262,1.3526632249195065,0.6965144881451969,-1.8536315120526878,-0.040524227588370675,2.9217705451502978,1.0262234246070272,1.2140952116683998,-1.3000256243502162,1.216160867071141,0.47867843856270265,-0.34515606572190166,-0.7439948973809752,0.18666650209644817,-0.569689598318042,-1.138445641022144,-1.0050828269271928,-1.6652361944569356,0.9180185383310755,-0.6506140917059655,-0.8493282817352051,0.04149892019130635,2.8295434715858594,-1.8645233290826493,3.4026374512115534,0.19162995345689757,-0.32171176131828233,0.2564157913572545,-2.372096268563744,-0.6901040643100508,-0.5871955327395758,1.3830699073130954,-0.8942181055306083,2.14457839091727,0.5820920747657164,0.3113653998123082,1.9292667256069926,0.5577537912962633,-0.10132235297942652,-0.2019883287510261,-1.1383522670999537,-0.7243125944877339,-0.717027051207509,0.8734156556901622,2.377035033543315,1.9142872801668862,-1.1403249679477663,-0.3745084142236597,1.7568325581384543,0.4330278075247599,-0.8462288335305824,-0.8942295162650341,1.8488351774680787,-0.15634111901408332,-0.5646917524085582,1.7024459978540434,-0.47575416545467936,-1.0726443503136602,0.6185634273188032,0.5188335636389935,-0.5042542651824936,0.25906179422925557,0.1920539644838123,1.3968552779197883,0.6251351900743846,1.4273539199454568,-0.41172157437263707,-1.1150197975693514,-0.42820612446755024,-0.9121881005179473,-1.7589168506656963,-1.862921220620952,-0.8419123112484264,-0.5541610466275384,-2.440416398890756,-0.8976634104727772,2.850592403524923,-1.4496702231597896,-0.25724077047431504,-1.875716536948741,-1.338227609078919,3.162259757894543,1.3171694992398182,0.7093050477087067,-0.2256855967605418,-1.6527508785955922,0.10379833109254477,3.655578612287815,-0.20403442181035095,-0.18179648209431198,0.08940756048008267,-0.6844334794497503,0.9365818477898884,1.3362157677313193,0.27901698865060365,-0.800757970142911,-0.06589952662994458,-1.176882288403723,-0.42525208136699827,-1.2678363917565747,1.5170436703870447,-1.3393565494795017,0.05895243389631134,-1.2128954013748587,-1.4911452595949855,-2.2801533228694426,2.002629327347424,-0.500793709623854,-0.7592023399694415,-0.7605719351426119,3.4697033854305097,0.48353264649631267,2.4219922647986984,-0.7217032983209553,1.2563332127968265,-0.4048604185373855,-0.6788360042977789,0.088394337462061,-1.1218264506017208,2.6905132341492544,1.134893658258399,1.107025287874344,0.2582271847435011,-0.8903068988589462,-0.4403160756401903,-1.2964518193894914,0.39355401632172765,2.1186574240672362,5.227519765350557,-0.5079039868446114,1.3085800751068355,1.1887074788560845,2.1790599417455105,-0.2275493901259704,-2.3019187984828458,1.2190756934338194,0.2048304548229459,-1.3457070048302926,2.8627757229951944,-1.5814922749344025,2.8700236020442995,1.6601621732391871,0.8259442266166962,1.4961974257282507,2.4204175877343035,-1.939595431435335,-0.48363627720720453,1.9592033593460676,-0.16827803883055825,1.6792979249855593,0.4096544152667602,2.0803267637602927,0.8725009405621516,-0.06937957906252275,2.0042803320798237,-1.128371291021562,0.10561296593898643,0.3450344497270802,0.32062325681971326,3.0193460280923428,0.4146103055436923,-0.17493577337357466,0.9272399661418295,0.23290482205453347,0.32574864590558944,-1.1118536195877922,-0.4543374921799807,1.2957157327377749,-0.8976100934132403,-0.4830452463307431,0.9995563690016401,-2.0413420281533003,-1.3877669653927527,1.0120535899578458,-1.035287743039567,-1.4446472692238792,-2.4810056955700523,0.8167490951663959,-0.043722088576681105,-2.367644668502229,0.2504243222450744,0.5187957749257057,-2.751871119209613,0.6473175711607111,-2.698977891494411,-0.4034277578196603,-0.5899724501247282,-1.7838051542744762,-1.30070490467825,2.103901784677775,-0.17051776910386882,-1.6534844743529107,-2.1144584263211645,0.41900190034297413,1.5490541456873756,1.171517865385121,-1.0673421205861162,-0.1874202347320972,-0.29903861421931455,1.3799948839606533,-0.30792716926572816,-0.028901981272352446,2.892586213827137,-0.4078879756628054,1.6249350303489252,-0.534572669907049,2.21911337243871,0.6916049281906738,1.1838489754370105,1.798577406298255,0.3505152750156814,2.5614961568989854,1.1935122163543768,-1.1771721891001519,-1.3558034514049238,-1.70719733806127,4.057820161586044,0.4136077134273303,-0.900595996322203,-0.906205674669125,0.1457796888080314,0.16843278037849035,-0.3897736100950074,-1.183614517344983,2.109203424280785,3.9768013629910404,0.0378130721049305,0.14209543992066653,-0.9508042151905752,-1.8020934786986589,-1.0590056839505033,-1.2891141046733117,-0.656009468549791,1.84841669096446,3.035068398302787,0.3659898450046036,0.08747147095038656,0.963527844471,0.7396350357069877,1.7849638252949225,-0.29659489252685023,-0.7267433742824467,-0.8873221322393902,0.7862246060077817,-1.003029886285033,0.25417142067140214,1.9340368988772438,1.9987637658386486,0.8112362606264089,0.6019213016379595,-0.7924071244737361,0.8848170220060035,0.4141504982130948,2.046545650817616,2.5044837755541014,-0.13346022096450066,0.6142723783443141,-0.6215319542180522,-0.508277185847289,-1.0964462435585687,0.3598643445824107,-0.5411569199450228,0.8607759980770521,-2.207374419087585,-1.422871375600558,-0.6830359211034537,0.05573835983236842,-0.06371013901800539,-0.4051603703186049,-0.5717754182470718,-1.9545998354432494,-0.14964712143304007,-0.10840129073326694,-0.17557674130695927,1.2362283146312762,-1.4066678543400726,0.7302902372167108,-1.7502719799689546,2.030596123431817,-1.2571383215716785,-0.5839115688457887,1.6286509759017032,0.05009129036794631,-0.3676333559033599,-1.1029144136131102,-0.2165696219238416,-0.7271137017545941,-1.4267921864801254,3.967543852151751,0.806603663972712,-0.5116038511040647,0.10908377268295336,-0.8204139839503469,-1.235047434259208,-1.7925086613137073,-0.2752872805901676,-1.263291096574892,-1.100031075072007,-0.8461171842901313,-1.092156944682097,0.9383136887889527,-0.7488020022803114,-1.3523837789455964,-0.9694202805271592,-0.18547610349441732,0.49581702870698957,-2.2622176680696566,-0.538837225510154,-1.2868543132054635,0.5223824557563148,-0.4179488162278097,-0.11098427826919921,-0.021611363820627574,2.0947715492877643,-2.2178952686041593,0.6755956033393822,-1.4164093181520492,2.721138969878432,-1.0958237629413725,-0.7729251605873303,-0.4833924273132702,0.13747258346142632,-0.009085087924222267,-0.22964677569900221,-0.6154937523366562,-0.10791759470473054,-0.5545324862945892,1.1550776006301937,-1.0518595137434548,0.6443647092217402,1.7798308637529208,0.17671301371586773,1.637858172032038,-0.14501571452323916,1.3974707572926806,1.6589806203828397,-0.6375236973796201,0.7936081960876776,-1.2001519944478498,-0.6843898436839034,1.352347633924781,0.3098994853815505,-0.49646093067350666,1.0388536442028011,-0.4335577920250855,-1.0729567579242918,3.004153951130455,-1.0082811195879644,-1.6227997824471172,-2.049634642577875,2.1221111274848936,0.43432503718088916,0.01542099966224065,-0.5761591694529888,0.06689310455831916,1.2038303851362595,-2.287693385099721,-0.7532884678099259,1.14976494268899,-0.9004991904303116,-0.12801931522908125,-0.3051297915330201,-0.619142734812116,0.2587354921529843,-1.5146771150022726,-3.1096770688640945,-0.9687790417439309,-0.0758813977435698,-0.21899485190078966,0.6365731740907337,-0.6177335203157606,0.24079404916525482,-1.8134859010129551,0.036841271985877534,2.7694265843218155,-0.20657764090156688,-2.314452279804963,-2.274457102507465,0.09528115583372254,1.297369243748627,0.675226932710449,-0.18776164739681103,-0.1579601908380151,-0.7694626959460991,1.0577090703479592,2.1990313068632394,-0.653398981668053,-0.09768696925949828,-0.0461498353550181,-1.726305093480856,3.160134140053785,-0.5194067098098454,0.6783465997199383,0.3777468017970826,-1.771016496394614,0.3278418552438194,1.9607536031943686,-1.146784117985977,-0.4784007082644256,-0.671284755241665,-0.1023057731534733,0.8992054077179787,0.1630202363359124,2.129407718953966,-1.82931842166082,0.18016625870079483,-1.198436137202886,2.6629622173513487,-0.39942902423061977,-1.3042262414386379,0.8474368925794967,-1.0219970898940745,-0.7944922054789911,-1.014705474410329,-0.9201075110143367,0.2479800740923836,-0.03931272945559572,-1.8514995999555879,-0.38011692931980623,-0.16263819029576818,-0.3226436259316925,-0.9451839972083906,-2.9384389345194646,-0.24035347133263724,2.308502019349034,0.9474688667255626,-0.5595786452731925,2.466265379729238,-0.662804684604197,1.0162471565807158,-0.5294167843528123,-0.7009643823033979,-2.6094348539130516,1.444199503881047,0.3882018122512751,-0.6479036935574869,-0.8050561734671954,-0.3937406891233907,0.3033390070924968,-0.6426551133921857,2.888715519865717,-0.8489870838616306,0.7041003631742679,-1.1345742581162634,1.0438459169583465,-0.6422833975152031,-0.7700377221668437,0.5819097157605059,-0.3557796030891233,0.5231091770213325,-0.3677878870349905,0.10675869244637101,0.3679060171626135,-1.297125085833939,2.4396873416223586,1.980850055464108,-0.8224988287618009,2.6889359464070735,-0.13091589225818523,-0.6132996342024096,-0.40449430624557875,2.053278264539117,0.19487135456069332,0.43055486572694246,0.849432333087604,0.1295323279553607,1.9797276361979868,0.11594375925818352,0.5067739935862683,-0.4493203673860474,-0.6080008143152719,-0.9385573438700718,-0.34414907926160415,-1.4575348136105595,-0.811161178358411,-1.195435745524497,-0.27048091593641677,-0.26188672400898483,4.479145204516642,-1.2695947762530948,-1.635390000089806],\"z\":[0.35026797816870975,-1.101049740174877,-0.22315230380465356,0.4229478383840033,-0.06973905914451908,-0.9426925902124376,0.876007426675713,1.7449632698607502,-0.9907009166751771,1.5535322085566345,1.8179410121665287,0.6392530968368266,-0.6232601145938156,-1.1145576486244317,1.4350679344285038,-0.5873915286374983,-0.2818176721986153,2.2232478565316804,-0.9627229551418895,-1.022179609238049,0.5061732247042806,1.0237751683853296,0.875143226695425,-0.7636439614926641,2.1657954746440855,-0.5702420658483055,-0.3306605619476622,-1.2372525316717913,0.607064104435044,0.2441530519976826,1.6743420945545857,-0.06845861420980373,0.9257744135615706,1.202535717924031,-0.684473490466744,0.39275487053042185,1.6244194654508086,-0.6552207690364478,-0.34957174894689363,1.6676118203869121,-0.5754616970255555,1.2132087094124218,-0.3905283821579744,4.177672260856313,-1.2263036402577185,1.2559558607763242,-1.060998930738261,-0.3891866819097498,-0.3984782602596195,0.5265256652801892,-0.6606706163455766,-1.9217871148247836,-1.232281520502725,-0.5707107109875005,1.061357251071415,-0.6294095092152242,-0.2578928166223884,1.5030278083281472,-0.43423456543182243,-0.6052558433852754,-1.0675464823557563,-1.3065994372095422,-0.976182193507506,-0.09015044109021068,0.5689993217758036,-0.5986320749408675,-0.4033710050124379,-0.5927210141858972,-0.9029756641832505,-0.863997759387074,1.717151826803706,2.87230733733968,0.6093861423822697,0.0523381201010307,-0.5174196377712977,-0.8944936733926248,-0.3708435889078795,0.4364539796986257,0.3353504442154423,0.3231497719581909,-0.7004531183363147,0.6626908649703543,1.779971881056322,-0.4701215201778395,-0.04052402294111793,-0.39912399709166435,2.219431010395856,0.2702163926651393,0.4059222714381185,2.097441303007839,0.7114117627223616,0.6485756779501598,-0.14104622385848264,-0.8982337186407338,1.545122603733228,0.7622339604897687,-0.6756175357223241,-0.37480568081537396,0.12785843611940467,1.602225486791856,-1.3345817215287814,2.207934867298004,-0.7008625835723868,-0.4532350179904932,0.23785084623973807,-2.0200648677014286,-0.3937745574503663,-0.9784904541378455,0.6443846907469061,1.6495398465233757,-0.6104663632078612,1.98356151595235,-0.7618308200402008,-0.7683981488249219,-0.771232612134166,0.31459789903209573,-0.7428780167099776,-0.8312119175087087,-0.22043445509471837,-0.5702687281601905,0.14372068849608366,0.40737879477522626,2.32315740421727,0.4112221618981454,-0.7187588397290474,-0.3164066929451424,0.8423006982838731,0.602180261603473,-1.1000179889650992,-0.22011987239925423,-0.6291205120634948,-0.8625850713137146,0.12431053854583504,1.4668094587026215,-1.0044088880051718,2.151281168962713,0.6107946342448731,-0.7555537270719019,-0.8750646428105457,0.09163236463072769,-0.11444424960533069,0.4532769904213821,0.19147769915048232,-0.8953933081235098,-1.4338558721462906,0.8512949431166745,-0.9405437992756711,1.2658962943504124,0.6904542109723704,0.5180117073094682,-0.5242255136992752,-1.3478205232011273,1.4064761026944717,-0.9529535919327113,0.5425254032684836,-1.364501513001473,-0.2669105712724218,-0.6148416910005481,0.14250243829000536,1.1550783343898399,-0.3282784653273173,0.582349250893866,0.8228049733404745,-0.8275657856290038,0.14647113420242638,2.5388180241257214,1.72650673447664,-0.4182317801941113,-0.4907173004159116,2.3194439111303646,0.006401250875166896,-0.8887862830888572,1.4844684006324849,1.4828151245302084,-0.6727126051235494,-1.4180975325236944,-0.604632997182664,-0.5309211798248987,0.2773770886281767,-0.4737041899708098,0.20974255419818655,0.2636766772310886,-0.5947709397172631,-1.9097476703686183,0.5612558350884856,-0.525560653403143,-0.5582160312284616,-0.896213859342259,-1.185710712703563,2.8366573921607365,-1.321732762542758,-1.7097323763924819,1.721268547678836,0.9808718235602356,0.5773840425354956,1.1926918135655644,0.5208989812264617,-1.1117505350817511,1.395076879411261,1.740507717156305,-0.8132688207468824,0.6063962784676832,1.2664666979726877,-0.5455343094912698,-0.45681112713594046,-0.8958472733968286,0.4549119578921706,0.4915621330993482,-0.4360469817513201,2.5891593814559934,-0.8209041394858059,-0.4656481389823699,-0.4279015645799133,2.5749573894930355,-0.7111614202069793,-0.9372442008771191,0.40288409064393776,1.7279668472406746,-1.0938646764262538,-0.41035113436634574,0.40153393660049475,1.595698018007863,0.37472827618568916,2.4828830079682676,-0.6807047123808663,-0.5270716058221852,0.9562283760562613,-0.4497918097286797,0.5215544490613135,-0.9522445092432297,-0.5283313556127553,-1.2856913186030636,-1.0976471419009162,-0.9146720425620142,-1.2317646993730191,-0.20819736414161535,-1.0725787254494006,0.1968892962187177,0.580438610135131,0.6592526189850474,-0.715026053610261,-0.5840706277245048,-0.5149231980873222,-0.5288245510793897,-0.5661541980759628,-0.06864637288459252,-0.4197161239980148,-1.0875299393992421,2.2175067384318514,2.1958542530065293,-0.6190751608433405,1.1917736257456948,-0.5715972054763826,-0.3458274003310484,1.4627444529526215,-0.29741567888944187,-0.97281967080513,-0.4654803766357452,-0.376051032580264,-0.6126238356008432,-0.5342206336932316,2.4336578342596393,-0.033931259962405945,1.9317161246141623,-1.3982492527496944,-0.39658799551074403,-0.6747172159201782,0.8948735005925955,-0.47994158553602956,-0.5321078647081288,0.3565150687307721,-0.5397659709825525,-0.44727406838096967,0.10819141965637513,0.22772684641504679,-0.18711006602576072,0.1274916556038237,1.21040285570584,-0.7587921822503643,0.3449425829466643,-0.266651318770185,-2.2485721013820386,-0.07959817660230964,-0.6377240542500016,-0.7766929029315233,0.45890692045636133,-0.8052240390084439,-0.539447325186485,0.7473315091111441,-1.3692058159330842,-0.3484750219490388,0.49530140146406604,-0.14717488320480335,-1.5669914499678719,0.5670609338645283,-0.644123541317661,0.45850825594460465,-0.6876650670387251,2.5620910693500014,-1.0250399291736245,0.473697436389923,1.449335834449061,-0.6321564241490295,-0.6227795792373075,-0.8401912035569165,0.5021167395365531,-1.201318352812862,-1.7826945720684837,0.14329148244782736,-0.5932102159537155,0.5469922370742593,-0.6895677373118431,-0.6616161860321633,0.6062801091872889,-0.6911881119602642,-0.3629437950700113,-0.5660391415413347,0.3872029595444292,0.3672297099746797,-0.39051144891307377,0.6564007352962754,0.5126593465332252,1.6385678428721215,-0.4277377130501314,-0.2945051364227363,-0.5586338122123501,-0.8845162174780434,0.5426503299250495,0.9302056768810464,-1.1520759229455422,-0.7640251286060179,0.08735538443608162,0.44253537229820805,-0.8637268057772663,2.4266930978953845,-1.1857061819394248,-0.22380571011095543,-1.287104761720537,-1.3992481063593218,0.21416847381227658,0.9394391692310259,-0.544886775886002,-0.5100382457454887,0.07209733510019223,-1.42920657277046,0.5265950145966602,0.10354852310591452,1.6886229390382488,-0.18039133806683183,-0.5388937823070721,-1.6837454954222615,2.655729300987078,-0.5960612755305514,-0.39943687915362186,-0.5373824006554624,-0.5686333422714389,0.010966195756053298,2.2442155739662417,1.328556503072282,-0.9432694600804086,3.206259548032916,-0.17485750639562794,-0.5076418515766146,2.642353358036559,1.7050955921982454,-0.9150873270166479,-0.5379714815414599,3.8280483527769253,0.37525752468874657,-0.6002422942324553,-0.3330598270768663,0.19681323700613798,-0.8381460648430705,-0.48121129688310016,-1.4733656543902498,-1.0767358026292988,-0.43431641907523744,-0.8394100332790702,0.672835536044393,0.3268570243445615,-0.6205046945470278,-0.5205709327407928,1.7018666289371158,-0.8422697810986012,0.3516130577517378,-0.8292464807628527,-0.670279872857801,-0.12260947273209945,-0.33678495604388314,-0.3616097968335871,-0.9102164975407031,-0.37996490474475664,-0.5128787916840795,-1.5918498076324188,-0.7478445924866558,0.17150076392699576,0.46896463301596214,0.7827442389206092,-0.46069998808666557,-0.49119006323802267,-0.1352895154132376,-0.6129670605251634,-0.7862288680539486,-0.7291199432909502,-0.9094754013469242,0.8178197833464426,0.5433259153508364,-0.31479199814630043,2.7492451389416543,-0.5876703670775579,-0.665373246416506,0.3450587587907669,-0.21790069370948337,-1.1753990477427705,0.6425201797029008,-0.9543217786920554,-1.3060106919132264,-0.755716633552434,-1.3659248495628011,-0.3985653077437713,-0.9338615506117165,0.9565264213398262,-0.9584448874168328,0.2790672735005292,-1.7370186405459567,-0.4301787170261011,-0.41525044877026546,-0.9763146817554237,0.9712031283958923,-0.4267599742339028,-1.4300171903266978,-1.2154801685670809,0.4493574084765307,1.4450247310971562,0.8256446178417768,0.47515063192714885,0.5478780855714724,-0.3350204441476878,-1.1940246067876532,-0.8655953782792091,-0.4219504046261249,0.2326315832372349,-0.6477573305803208,0.9160573910157427,-0.9779270627980149,0.930559464976389,0.6568085050463595,-0.5940080985369985,-0.7534201877078041,-0.512034340657161,0.5402941211679377,-0.8702291045706452,1.4767534659098704,-0.45917242247814405,0.35699526868604625,0.4333557490763872,-0.36034702519456013,-0.6472358644750423,-0.7595535062751217,0.9985392934303948,1.6023302958047716,1.7273666437155784,-1.37209687705557,-1.0432442903562187,-0.36427460812274537,1.239255772392987,1.6733731006679884,-0.47580995052608843,-0.515339390518162,1.807774169035465,-0.9142900363239601,0.06737273007868155,-0.9796615089329642,-0.6039050130062927,0.5941540024415842,1.5669867273061457,0.39522431466510977,-0.586787419796052,-0.6411567882879826,-1.45850104772311,-0.7739523163581316,2.1153110450372954,0.6935967282650336,-1.0238164206122042,-0.7147893671148933,0.5154871739396011,-1.3247061001902132,-0.9711160332563217,0.0953958034320321,-0.214311123308672,-1.246514095030705,-0.9664431948097761,-0.7453681879689832,-0.10462792651677118,-0.7439883940511582,0.35400320400100915,-0.8441017282787732,-2.4376674001159464,0.20877150203306832,-0.3017387600571844,0.6352611844949462,0.361420200472112,0.2773765159961157,0.2947191522415127,0.6241015660480126,1.4000716733748273,0.24860177391100538,-0.1304590704284291,0.2996458254915886,-0.046279810197147275,-0.6546556970410861,2.38479547917237,-0.46779521604396973,-1.807056386397829,-0.6242046088971366,-1.0158706721640913,0.3553971630634024,0.4455960160567164,-0.6222295255136066,0.056240941077279234,-0.13795140770648426,1.1661258714476497,2.3962605273448876,-0.7847986670538694,-0.9297766944755136,1.3827437846567001,-0.481866367578692,0.2980769767753382,-1.261002254383347,-1.074088254146953,-0.5811583888703116,-1.5432438926696936,4.449339651656158,-0.0022609954608958528,-0.4285512274855917,-0.48052614759095347,0.6327360578973362,-0.49821836823255533,-0.6964695903833494,-1.0321046480594689,-0.2983400228871755,0.6990033947941535,1.8071605079153004,-0.8707688407222962,-0.8145473100740005,-0.1382890517088612,0.4646072167431122,-0.8214825563668275,1.5661038172072683,0.5986067997275343,-1.5496191142368991,2.846937455971375,2.243131369623953,1.0450220416585023,-0.6755325408705817,-0.9511007415233349,0.1517520079124957,0.3241412459515751,-1.1292763456885273,-0.3692277265886979,-0.6348876742907876,-0.7082971909218405,-0.1990911563343986,1.228830211228654,0.6685941666502746,-0.7785123244458513,1.3769215632464793,-0.44431279226916104,-1.994921544423957,-0.4766659255758804,-0.8089414548862218,1.9634445695205975,-0.807086360675718,-0.4157673983160748,-0.646841477230213,1.6619441172206255,-1.1405335188893975,0.6289698154711192,0.49208722878453265,-0.6822355494497335,-1.8124807334988111,2.854607146123238,-0.87750553426059,-0.5467414427064269,-0.7005574742131123,1.0587155978809333,-1.1344956869887024,-0.3059483718827843,-0.5020121479585752,0.019445968387934037,0.39733994810242806,0.22587487402102333,0.38999775484254995,-0.13897219961693086,-1.5540964921759581,-0.6344762672931051,-0.5085481167763185,-0.42638547245885966,0.5875021526663383,-0.8506374687230067,-0.6100362549870347,-0.7828568130422657,-0.7647622662837312,-0.3128351324421936,1.1807138594695266,-1.3234966142517737,1.9754988152181114,2.254435701802275,-0.7264658485402004,0.41484193306922734,-0.5612360839663062,-0.5459698881888367,-0.1453140219787754,0.6382111111562433,0.12971249768614196,0.21779064375291926,-1.0458885785326724,0.6494640123360363,-0.589570624833626,-0.6589712963933718,-0.817644026704204,-0.701701445384221,0.22887530423017688,-0.1785937180475957,-0.47669827552920313,-1.2308623959813276,-0.5204924550938353,-0.19136664361836872,0.11727777543472198,1.5040868077802134,1.66485972539747,-0.7774043644001561,-0.5035603185127393,-0.4933075575888892,-0.7786988090324231,-0.7561337621484439,-1.1606174905553626,1.2165971603206687,-0.746787469646473,0.21435926133199135,-0.6248805568965557,0.5616131715529951,4.171179822663549,0.8099877836786951,0.43182432246146096,-0.20018998826169757,0.9644484201636134,0.35921110727488004,-0.4880034601048234,-0.6183310883945079,1.557893537637803,0.38190718249022415,1.3061954621381233,0.10750102688406593,-0.3808358024443296,0.7063632868035391,-0.4148939219081166,-0.2688610674719423,3.3918206595771094,-0.25807338468543917,-0.6336512813276985,0.8181516397133051,-0.3036867700315779,-0.552999717299944,-0.8774413040362227,-0.3639085236712914,-0.5065641097997825,-0.7434240316615525,-0.5051020758866487,-0.7331073059359519,2.371363311769221,-0.5446681300587414,3.1896976867723743,0.39238688907571445,0.4450597066149722,0.7342523597076395,-0.3729668453676293,-0.6887693706907065,-1.1606226579003196,-0.915000448969664,-1.0747560774378644,-0.6448165655898991,-0.9893714653930653,1.2627987538604577,1.4778891144983335,2.430640041997616,0.05636139949908617,0.5442935344330121,0.5520843325210809,-0.6448978082908018,-0.4455597627826748,-0.18339482636020757,0.33363195644969784,-1.0547750118931862,-0.45334557391958175,-0.3881948869619664,0.023426238400741674,-0.8471318564066285,0.258583764523365,-0.5794538716820121,3.18634671535663,-0.8801363256842121,0.5764232730137461,0.7164129070713966,-0.5219723516053839,-0.667973717553804,-0.9626993381898166,-0.3464524971566363,-1.1878435252446102,-0.7712221531531891,0.28926440974532286,2.356434385398681,-0.2330600431037186,0.8632168426202379,0.6516872674713162,-1.6248880568050874,-0.5287002029617186,1.8585142765260014,-0.4735168251093773,2.069466994247542,-0.8430767242039644,-0.8071074392813519,-0.8162759947533386,-1.0970651756439334,1.2776845682634614,0.3615558452100494,-0.17477982518624274,-0.6919221577096171,-0.3322622935369435,1.1158782013177762,0.2968000450165566,-0.8021330302831099,0.6216892264696855,0.7203918492136689,-0.6253541435540962,-0.31800737422158587,-0.8499511490324672,0.5792171221195325,1.2143262711103304,1.2976728663007908,-1.206896889028887,1.569381697110462,-0.46462834964025557,-0.2848934533615241,2.375522988016476,-0.800921763472079,0.9435234235454499,-1.2062353759110829,0.030128704436606847,1.3122391405637535,-0.9218855459505623,-0.7041231886770464,-0.6161105229902128,-0.16174745447494948,-0.824236360503073,-0.7185642148482103,0.41406364388459677,-0.46125464767993807,-0.7401305691910769,-1.2736883807314585,-1.0861755770039954,-0.21112242289632033,-0.699437628325404,0.5757833213924679,0.4932395447360049,2.8039169225648077,0.7722579301757189,-0.7549146539189372,-0.5010379300745533,-0.3556239092435976,-0.49512296818402,-0.6306309633809597,0.27888912571215435,-0.4014145162393982,0.9290993587071792,-0.7594365407601084,-0.9999608337441324,0.18324547256488802,0.009465380606357331,-1.1999260808928578,0.694237482269036,-0.4879864201473067,-0.5542976112892418,-0.8402589390651498,-1.5300839709597611,1.6315240813254503,0.3805359979419141,-0.9536402825220947,0.16950784481951478,-0.4085894096724785,0.5592066546416128,0.36600248070355673,-0.9602102261892765,1.334037716558621,-0.19662197548588137,1.5592690530069957,2.330653040307988,0.6985972452013668,-0.007110370590824227,-0.632897675661628,-0.37122498804033016,-0.8119628034796282,-0.3791129308858543,-1.0106592298415478,-0.7384715772185892,-0.3868547753346983,1.1742796791875916,1.5809898694918454,-1.135223022371133,-1.2053268164707487,-0.8124936255793873,0.3202828827953551,-0.34997163113692453,-0.6196770348979223,-0.616260808304015,0.6888695040337285,0.6118389268134184,0.6468870483567148,0.29660888999112484,-0.6987065929597869,-0.8912635602960565,-1.4662433556030139,-0.33546358805449605,2.3071226028531737,-0.06185706137025718,0.7791434802695661,-1.826180563687079,-0.8596819555014682,1.588596306041898,0.6672985209298194,-1.2471598585824097,0.05594419499501667,-0.004465953216958346,1.8935334086132214,0.45681017661235473,0.9828462439190628,0.4990975765623376,-0.9709822325947117,-0.710245192065612,-0.6482797710300201,1.186944630535528,1.6242270659952847,-0.5204401300934353,0.5913343859373714,-0.4054446937020272,-0.5384732012609766,0.4103365580309683,1.2842349749125828,-0.5391647600427371,-0.778592868326519],\"type\":\"scatter3d\"}],                        {\"template\":{\"data\":{\"histogram2dcontour\":[{\"type\":\"histogram2dcontour\",\"colorbar\":{\"outlinewidth\":0,\"ticks\":\"\"},\"colorscale\":[[0.0,\"#0d0887\"],[0.1111111111111111,\"#46039f\"],[0.2222222222222222,\"#7201a8\"],[0.3333333333333333,\"#9c179e\"],[0.4444444444444444,\"#bd3786\"],[0.5555555555555556,\"#d8576b\"],[0.6666666666666666,\"#ed7953\"],[0.7777777777777778,\"#fb9f3a\"],[0.8888888888888888,\"#fdca26\"],[1.0,\"#f0f921\"]]}],\"choropleth\":[{\"type\":\"choropleth\",\"colorbar\":{\"outlinewidth\":0,\"ticks\":\"\"}}],\"histogram2d\":[{\"type\":\"histogram2d\",\"colorbar\":{\"outlinewidth\":0,\"ticks\":\"\"},\"colorscale\":[[0.0,\"#0d0887\"],[0.1111111111111111,\"#46039f\"],[0.2222222222222222,\"#7201a8\"],[0.3333333333333333,\"#9c179e\"],[0.4444444444444444,\"#bd3786\"],[0.5555555555555556,\"#d8576b\"],[0.6666666666666666,\"#ed7953\"],[0.7777777777777778,\"#fb9f3a\"],[0.8888888888888888,\"#fdca26\"],[1.0,\"#f0f921\"]]}],\"heatmap\":[{\"type\":\"heatmap\",\"colorbar\":{\"outlinewidth\":0,\"ticks\":\"\"},\"colorscale\":[[0.0,\"#0d0887\"],[0.1111111111111111,\"#46039f\"],[0.2222222222222222,\"#7201a8\"],[0.3333333333333333,\"#9c179e\"],[0.4444444444444444,\"#bd3786\"],[0.5555555555555556,\"#d8576b\"],[0.6666666666666666,\"#ed7953\"],[0.7777777777777778,\"#fb9f3a\"],[0.8888888888888888,\"#fdca26\"],[1.0,\"#f0f921\"]]}],\"heatmapgl\":[{\"type\":\"heatmapgl\",\"colorbar\":{\"outlinewidth\":0,\"ticks\":\"\"},\"colorscale\":[[0.0,\"#0d0887\"],[0.1111111111111111,\"#46039f\"],[0.2222222222222222,\"#7201a8\"],[0.3333333333333333,\"#9c179e\"],[0.4444444444444444,\"#bd3786\"],[0.5555555555555556,\"#d8576b\"],[0.6666666666666666,\"#ed7953\"],[0.7777777777777778,\"#fb9f3a\"],[0.8888888888888888,\"#fdca26\"],[1.0,\"#f0f921\"]]}],\"contourcarpet\":[{\"type\":\"contourcarpet\",\"colorbar\":{\"outlinewidth\":0,\"ticks\":\"\"}}],\"contour\":[{\"type\":\"contour\",\"colorbar\":{\"outlinewidth\":0,\"ticks\":\"\"},\"colorscale\":[[0.0,\"#0d0887\"],[0.1111111111111111,\"#46039f\"],[0.2222222222222222,\"#7201a8\"],[0.3333333333333333,\"#9c179e\"],[0.4444444444444444,\"#bd3786\"],[0.5555555555555556,\"#d8576b\"],[0.6666666666666666,\"#ed7953\"],[0.7777777777777778,\"#fb9f3a\"],[0.8888888888888888,\"#fdca26\"],[1.0,\"#f0f921\"]]}],\"surface\":[{\"type\":\"surface\",\"colorbar\":{\"outlinewidth\":0,\"ticks\":\"\"},\"colorscale\":[[0.0,\"#0d0887\"],[0.1111111111111111,\"#46039f\"],[0.2222222222222222,\"#7201a8\"],[0.3333333333333333,\"#9c179e\"],[0.4444444444444444,\"#bd3786\"],[0.5555555555555556,\"#d8576b\"],[0.6666666666666666,\"#ed7953\"],[0.7777777777777778,\"#fb9f3a\"],[0.8888888888888888,\"#fdca26\"],[1.0,\"#f0f921\"]]}],\"mesh3d\":[{\"type\":\"mesh3d\",\"colorbar\":{\"outlinewidth\":0,\"ticks\":\"\"}}],\"scatter\":[{\"fillpattern\":{\"fillmode\":\"overlay\",\"size\":10,\"solidity\":0.2},\"type\":\"scatter\"}],\"parcoords\":[{\"type\":\"parcoords\",\"line\":{\"colorbar\":{\"outlinewidth\":0,\"ticks\":\"\"}}}],\"scatterpolargl\":[{\"type\":\"scatterpolargl\",\"marker\":{\"colorbar\":{\"outlinewidth\":0,\"ticks\":\"\"}}}],\"bar\":[{\"error_x\":{\"color\":\"#2a3f5f\"},\"error_y\":{\"color\":\"#2a3f5f\"},\"marker\":{\"line\":{\"color\":\"#E5ECF6\",\"width\":0.5},\"pattern\":{\"fillmode\":\"overlay\",\"size\":10,\"solidity\":0.2}},\"type\":\"bar\"}],\"scattergeo\":[{\"type\":\"scattergeo\",\"marker\":{\"colorbar\":{\"outlinewidth\":0,\"ticks\":\"\"}}}],\"scatterpolar\":[{\"type\":\"scatterpolar\",\"marker\":{\"colorbar\":{\"outlinewidth\":0,\"ticks\":\"\"}}}],\"histogram\":[{\"marker\":{\"pattern\":{\"fillmode\":\"overlay\",\"size\":10,\"solidity\":0.2}},\"type\":\"histogram\"}],\"scattergl\":[{\"type\":\"scattergl\",\"marker\":{\"colorbar\":{\"outlinewidth\":0,\"ticks\":\"\"}}}],\"scatter3d\":[{\"type\":\"scatter3d\",\"line\":{\"colorbar\":{\"outlinewidth\":0,\"ticks\":\"\"}},\"marker\":{\"colorbar\":{\"outlinewidth\":0,\"ticks\":\"\"}}}],\"scattermapbox\":[{\"type\":\"scattermapbox\",\"marker\":{\"colorbar\":{\"outlinewidth\":0,\"ticks\":\"\"}}}],\"scatterternary\":[{\"type\":\"scatterternary\",\"marker\":{\"colorbar\":{\"outlinewidth\":0,\"ticks\":\"\"}}}],\"scattercarpet\":[{\"type\":\"scattercarpet\",\"marker\":{\"colorbar\":{\"outlinewidth\":0,\"ticks\":\"\"}}}],\"carpet\":[{\"aaxis\":{\"endlinecolor\":\"#2a3f5f\",\"gridcolor\":\"white\",\"linecolor\":\"white\",\"minorgridcolor\":\"white\",\"startlinecolor\":\"#2a3f5f\"},\"baxis\":{\"endlinecolor\":\"#2a3f5f\",\"gridcolor\":\"white\",\"linecolor\":\"white\",\"minorgridcolor\":\"white\",\"startlinecolor\":\"#2a3f5f\"},\"type\":\"carpet\"}],\"table\":[{\"cells\":{\"fill\":{\"color\":\"#EBF0F8\"},\"line\":{\"color\":\"white\"}},\"header\":{\"fill\":{\"color\":\"#C8D4E3\"},\"line\":{\"color\":\"white\"}},\"type\":\"table\"}],\"barpolar\":[{\"marker\":{\"line\":{\"color\":\"#E5ECF6\",\"width\":0.5},\"pattern\":{\"fillmode\":\"overlay\",\"size\":10,\"solidity\":0.2}},\"type\":\"barpolar\"}],\"pie\":[{\"automargin\":true,\"type\":\"pie\"}]},\"layout\":{\"autotypenumbers\":\"strict\",\"colorway\":[\"#636efa\",\"#EF553B\",\"#00cc96\",\"#ab63fa\",\"#FFA15A\",\"#19d3f3\",\"#FF6692\",\"#B6E880\",\"#FF97FF\",\"#FECB52\"],\"font\":{\"color\":\"#2a3f5f\"},\"hovermode\":\"closest\",\"hoverlabel\":{\"align\":\"left\"},\"paper_bgcolor\":\"white\",\"plot_bgcolor\":\"#E5ECF6\",\"polar\":{\"bgcolor\":\"#E5ECF6\",\"angularaxis\":{\"gridcolor\":\"white\",\"linecolor\":\"white\",\"ticks\":\"\"},\"radialaxis\":{\"gridcolor\":\"white\",\"linecolor\":\"white\",\"ticks\":\"\"}},\"ternary\":{\"bgcolor\":\"#E5ECF6\",\"aaxis\":{\"gridcolor\":\"white\",\"linecolor\":\"white\",\"ticks\":\"\"},\"baxis\":{\"gridcolor\":\"white\",\"linecolor\":\"white\",\"ticks\":\"\"},\"caxis\":{\"gridcolor\":\"white\",\"linecolor\":\"white\",\"ticks\":\"\"}},\"coloraxis\":{\"colorbar\":{\"outlinewidth\":0,\"ticks\":\"\"}},\"colorscale\":{\"sequential\":[[0.0,\"#0d0887\"],[0.1111111111111111,\"#46039f\"],[0.2222222222222222,\"#7201a8\"],[0.3333333333333333,\"#9c179e\"],[0.4444444444444444,\"#bd3786\"],[0.5555555555555556,\"#d8576b\"],[0.6666666666666666,\"#ed7953\"],[0.7777777777777778,\"#fb9f3a\"],[0.8888888888888888,\"#fdca26\"],[1.0,\"#f0f921\"]],\"sequentialminus\":[[0.0,\"#0d0887\"],[0.1111111111111111,\"#46039f\"],[0.2222222222222222,\"#7201a8\"],[0.3333333333333333,\"#9c179e\"],[0.4444444444444444,\"#bd3786\"],[0.5555555555555556,\"#d8576b\"],[0.6666666666666666,\"#ed7953\"],[0.7777777777777778,\"#fb9f3a\"],[0.8888888888888888,\"#fdca26\"],[1.0,\"#f0f921\"]],\"diverging\":[[0,\"#8e0152\"],[0.1,\"#c51b7d\"],[0.2,\"#de77ae\"],[0.3,\"#f1b6da\"],[0.4,\"#fde0ef\"],[0.5,\"#f7f7f7\"],[0.6,\"#e6f5d0\"],[0.7,\"#b8e186\"],[0.8,\"#7fbc41\"],[0.9,\"#4d9221\"],[1,\"#276419\"]]},\"xaxis\":{\"gridcolor\":\"white\",\"linecolor\":\"white\",\"ticks\":\"\",\"title\":{\"standoff\":15},\"zerolinecolor\":\"white\",\"automargin\":true,\"zerolinewidth\":2},\"yaxis\":{\"gridcolor\":\"white\",\"linecolor\":\"white\",\"ticks\":\"\",\"title\":{\"standoff\":15},\"zerolinecolor\":\"white\",\"automargin\":true,\"zerolinewidth\":2},\"scene\":{\"xaxis\":{\"backgroundcolor\":\"#E5ECF6\",\"gridcolor\":\"white\",\"linecolor\":\"white\",\"showbackground\":true,\"ticks\":\"\",\"zerolinecolor\":\"white\",\"gridwidth\":2},\"yaxis\":{\"backgroundcolor\":\"#E5ECF6\",\"gridcolor\":\"white\",\"linecolor\":\"white\",\"showbackground\":true,\"ticks\":\"\",\"zerolinecolor\":\"white\",\"gridwidth\":2},\"zaxis\":{\"backgroundcolor\":\"#E5ECF6\",\"gridcolor\":\"white\",\"linecolor\":\"white\",\"showbackground\":true,\"ticks\":\"\",\"zerolinecolor\":\"white\",\"gridwidth\":2}},\"shapedefaults\":{\"line\":{\"color\":\"#2a3f5f\"}},\"annotationdefaults\":{\"arrowcolor\":\"#2a3f5f\",\"arrowhead\":0,\"arrowwidth\":1},\"geo\":{\"bgcolor\":\"white\",\"landcolor\":\"#E5ECF6\",\"subunitcolor\":\"white\",\"showland\":true,\"showlakes\":true,\"lakecolor\":\"white\"},\"title\":{\"x\":0.05},\"mapbox\":{\"style\":\"light\"}}},\"scene\":{\"domain\":{\"x\":[0.0,1.0],\"y\":[0.0,1.0]},\"xaxis\":{\"title\":{\"text\":\"x\"}},\"yaxis\":{\"title\":{\"text\":\"y\"}},\"zaxis\":{\"title\":{\"text\":\"z\"}}},\"coloraxis\":{\"colorbar\":{\"title\":{\"text\":\"color\"}},\"colorscale\":[[0.0,\"#0d0887\"],[0.1111111111111111,\"#46039f\"],[0.2222222222222222,\"#7201a8\"],[0.3333333333333333,\"#9c179e\"],[0.4444444444444444,\"#bd3786\"],[0.5555555555555556,\"#d8576b\"],[0.6666666666666666,\"#ed7953\"],[0.7777777777777778,\"#fb9f3a\"],[0.8888888888888888,\"#fdca26\"],[1.0,\"#f0f921\"]]},\"legend\":{\"tracegroupgap\":0},\"margin\":{\"t\":60}},                        {\"responsive\": true}                    ).then(function(){\n",
              "                            \n",
              "var gd = document.getElementById('6fa7bf03-f44b-4a8a-866b-ff61976112ea');\n",
              "var x = new MutationObserver(function (mutations, observer) {{\n",
              "        var display = window.getComputedStyle(gd).display;\n",
              "        if (!display || display === 'none') {{\n",
              "            console.log([gd, 'removed!']);\n",
              "            Plotly.purge(gd);\n",
              "            observer.disconnect();\n",
              "        }}\n",
              "}});\n",
              "\n",
              "// Listen for the removal of the full notebook cells\n",
              "var notebookContainer = gd.closest('#notebook-container');\n",
              "if (notebookContainer) {{\n",
              "    x.observe(notebookContainer, {childList: true});\n",
              "}}\n",
              "\n",
              "// Listen for the clearing of the current output cell\n",
              "var outputEl = gd.closest('.output');\n",
              "if (outputEl) {{\n",
              "    x.observe(outputEl, {childList: true});\n",
              "}}\n",
              "\n",
              "                        })                };                            </script>        </div>\n",
              "</body>\n",
              "</html>"
            ]
          },
          "metadata": {}
        }
      ]
    }
  ]
}