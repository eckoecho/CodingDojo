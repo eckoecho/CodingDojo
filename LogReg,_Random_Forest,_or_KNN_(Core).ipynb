{
  "nbformat": 4,
  "nbformat_minor": 0,
  "metadata": {
    "colab": {
      "provenance": [],
      "mount_file_id": "1eNjngwe15bCVrnTIHoyIXdm8rdachFsp",
      "authorship_tag": "ABX9TyP1lLcqxZse0sKnBV+tNEet",
      "include_colab_link": true
    },
    "kernelspec": {
      "name": "python3",
      "display_name": "Python 3"
    },
    "language_info": {
      "name": "python"
    }
  },
  "cells": [
    {
      "cell_type": "markdown",
      "metadata": {
        "id": "view-in-github",
        "colab_type": "text"
      },
      "source": [
        "<a href=\"https://colab.research.google.com/github/eckoecho/CodingDojo/blob/week-7/LogReg%2C_Random_Forest%2C_or_KNN_(Core).ipynb\" target=\"_parent\"><img src=\"https://colab.research.google.com/assets/colab-badge.svg\" alt=\"Open In Colab\"/></a>"
      ]
    },
    {
      "cell_type": "code",
      "execution_count": 2,
      "metadata": {
        "id": "PM5VZ3Ddrv-b"
      },
      "outputs": [],
      "source": [
        "#Importing necessary libraries\n",
        "import pandas as pd\n",
        "from sklearn.model_selection import train_test_split, GridSearchCV\n",
        "from sklearn.preprocessing import StandardScaler\n",
        "from sklearn.pipeline import make_pipeline\n",
        "from sklearn.linear_model import LogisticRegression\n",
        "from sklearn.ensemble import RandomForestClassifier\n",
        "from sklearn.neighbors import KNeighborsClassifier\n",
        "from sklearn.metrics import ConfusionMatrixDisplay, classification_report"
      ]
    },
    {
      "cell_type": "code",
      "source": [
        "#Load Data\n",
        "fpath = \"/content/drive/MyDrive/CodingDojo/02-MachineLearning/Week07/Data/cancer.csv\"\n",
        "df = pd.read_csv(fpath)\n",
        "df.head()"
      ],
      "metadata": {
        "colab": {
          "base_uri": "https://localhost:8080/",
          "height": 317
        },
        "id": "2iiEDCYnsEJl",
        "outputId": "dd2f579d-2951-4182-90b1-dfdd31635e87"
      },
      "execution_count": 3,
      "outputs": [
        {
          "output_type": "execute_result",
          "data": {
            "text/plain": [
              "         id diagnosis  radius_mean  texture_mean  perimeter_mean  area_mean  \\\n",
              "0    842302         M        17.99         10.38          122.80     1001.0   \n",
              "1    842517         M        20.57         17.77          132.90     1326.0   \n",
              "2  84300903         M        19.69         21.25          130.00     1203.0   \n",
              "3  84348301         M        11.42         20.38           77.58      386.1   \n",
              "4  84358402         M        20.29         14.34          135.10     1297.0   \n",
              "\n",
              "   smoothness_mean  compactness_mean  concavity_mean  concave points_mean  \\\n",
              "0          0.11840           0.27760          0.3001              0.14710   \n",
              "1          0.08474           0.07864          0.0869              0.07017   \n",
              "2          0.10960           0.15990          0.1974              0.12790   \n",
              "3          0.14250           0.28390          0.2414              0.10520   \n",
              "4          0.10030           0.13280          0.1980              0.10430   \n",
              "\n",
              "   ...  radius_worst  texture_worst  perimeter_worst  area_worst  \\\n",
              "0  ...         25.38          17.33           184.60      2019.0   \n",
              "1  ...         24.99          23.41           158.80      1956.0   \n",
              "2  ...         23.57          25.53           152.50      1709.0   \n",
              "3  ...         14.91          26.50            98.87       567.7   \n",
              "4  ...         22.54          16.67           152.20      1575.0   \n",
              "\n",
              "   smoothness_worst  compactness_worst  concavity_worst  concave points_worst  \\\n",
              "0            0.1622             0.6656           0.7119                0.2654   \n",
              "1            0.1238             0.1866           0.2416                0.1860   \n",
              "2            0.1444             0.4245           0.4504                0.2430   \n",
              "3            0.2098             0.8663           0.6869                0.2575   \n",
              "4            0.1374             0.2050           0.4000                0.1625   \n",
              "\n",
              "   symmetry_worst  fractal_dimension_worst  \n",
              "0          0.4601                  0.11890  \n",
              "1          0.2750                  0.08902  \n",
              "2          0.3613                  0.08758  \n",
              "3          0.6638                  0.17300  \n",
              "4          0.2364                  0.07678  \n",
              "\n",
              "[5 rows x 32 columns]"
            ],
            "text/html": [
              "\n",
              "  <div id=\"df-c7340480-d048-4610-9e26-a4a3a6b3e05b\">\n",
              "    <div class=\"colab-df-container\">\n",
              "      <div>\n",
              "<style scoped>\n",
              "    .dataframe tbody tr th:only-of-type {\n",
              "        vertical-align: middle;\n",
              "    }\n",
              "\n",
              "    .dataframe tbody tr th {\n",
              "        vertical-align: top;\n",
              "    }\n",
              "\n",
              "    .dataframe thead th {\n",
              "        text-align: right;\n",
              "    }\n",
              "</style>\n",
              "<table border=\"1\" class=\"dataframe\">\n",
              "  <thead>\n",
              "    <tr style=\"text-align: right;\">\n",
              "      <th></th>\n",
              "      <th>id</th>\n",
              "      <th>diagnosis</th>\n",
              "      <th>radius_mean</th>\n",
              "      <th>texture_mean</th>\n",
              "      <th>perimeter_mean</th>\n",
              "      <th>area_mean</th>\n",
              "      <th>smoothness_mean</th>\n",
              "      <th>compactness_mean</th>\n",
              "      <th>concavity_mean</th>\n",
              "      <th>concave points_mean</th>\n",
              "      <th>...</th>\n",
              "      <th>radius_worst</th>\n",
              "      <th>texture_worst</th>\n",
              "      <th>perimeter_worst</th>\n",
              "      <th>area_worst</th>\n",
              "      <th>smoothness_worst</th>\n",
              "      <th>compactness_worst</th>\n",
              "      <th>concavity_worst</th>\n",
              "      <th>concave points_worst</th>\n",
              "      <th>symmetry_worst</th>\n",
              "      <th>fractal_dimension_worst</th>\n",
              "    </tr>\n",
              "  </thead>\n",
              "  <tbody>\n",
              "    <tr>\n",
              "      <th>0</th>\n",
              "      <td>842302</td>\n",
              "      <td>M</td>\n",
              "      <td>17.99</td>\n",
              "      <td>10.38</td>\n",
              "      <td>122.80</td>\n",
              "      <td>1001.0</td>\n",
              "      <td>0.11840</td>\n",
              "      <td>0.27760</td>\n",
              "      <td>0.3001</td>\n",
              "      <td>0.14710</td>\n",
              "      <td>...</td>\n",
              "      <td>25.38</td>\n",
              "      <td>17.33</td>\n",
              "      <td>184.60</td>\n",
              "      <td>2019.0</td>\n",
              "      <td>0.1622</td>\n",
              "      <td>0.6656</td>\n",
              "      <td>0.7119</td>\n",
              "      <td>0.2654</td>\n",
              "      <td>0.4601</td>\n",
              "      <td>0.11890</td>\n",
              "    </tr>\n",
              "    <tr>\n",
              "      <th>1</th>\n",
              "      <td>842517</td>\n",
              "      <td>M</td>\n",
              "      <td>20.57</td>\n",
              "      <td>17.77</td>\n",
              "      <td>132.90</td>\n",
              "      <td>1326.0</td>\n",
              "      <td>0.08474</td>\n",
              "      <td>0.07864</td>\n",
              "      <td>0.0869</td>\n",
              "      <td>0.07017</td>\n",
              "      <td>...</td>\n",
              "      <td>24.99</td>\n",
              "      <td>23.41</td>\n",
              "      <td>158.80</td>\n",
              "      <td>1956.0</td>\n",
              "      <td>0.1238</td>\n",
              "      <td>0.1866</td>\n",
              "      <td>0.2416</td>\n",
              "      <td>0.1860</td>\n",
              "      <td>0.2750</td>\n",
              "      <td>0.08902</td>\n",
              "    </tr>\n",
              "    <tr>\n",
              "      <th>2</th>\n",
              "      <td>84300903</td>\n",
              "      <td>M</td>\n",
              "      <td>19.69</td>\n",
              "      <td>21.25</td>\n",
              "      <td>130.00</td>\n",
              "      <td>1203.0</td>\n",
              "      <td>0.10960</td>\n",
              "      <td>0.15990</td>\n",
              "      <td>0.1974</td>\n",
              "      <td>0.12790</td>\n",
              "      <td>...</td>\n",
              "      <td>23.57</td>\n",
              "      <td>25.53</td>\n",
              "      <td>152.50</td>\n",
              "      <td>1709.0</td>\n",
              "      <td>0.1444</td>\n",
              "      <td>0.4245</td>\n",
              "      <td>0.4504</td>\n",
              "      <td>0.2430</td>\n",
              "      <td>0.3613</td>\n",
              "      <td>0.08758</td>\n",
              "    </tr>\n",
              "    <tr>\n",
              "      <th>3</th>\n",
              "      <td>84348301</td>\n",
              "      <td>M</td>\n",
              "      <td>11.42</td>\n",
              "      <td>20.38</td>\n",
              "      <td>77.58</td>\n",
              "      <td>386.1</td>\n",
              "      <td>0.14250</td>\n",
              "      <td>0.28390</td>\n",
              "      <td>0.2414</td>\n",
              "      <td>0.10520</td>\n",
              "      <td>...</td>\n",
              "      <td>14.91</td>\n",
              "      <td>26.50</td>\n",
              "      <td>98.87</td>\n",
              "      <td>567.7</td>\n",
              "      <td>0.2098</td>\n",
              "      <td>0.8663</td>\n",
              "      <td>0.6869</td>\n",
              "      <td>0.2575</td>\n",
              "      <td>0.6638</td>\n",
              "      <td>0.17300</td>\n",
              "    </tr>\n",
              "    <tr>\n",
              "      <th>4</th>\n",
              "      <td>84358402</td>\n",
              "      <td>M</td>\n",
              "      <td>20.29</td>\n",
              "      <td>14.34</td>\n",
              "      <td>135.10</td>\n",
              "      <td>1297.0</td>\n",
              "      <td>0.10030</td>\n",
              "      <td>0.13280</td>\n",
              "      <td>0.1980</td>\n",
              "      <td>0.10430</td>\n",
              "      <td>...</td>\n",
              "      <td>22.54</td>\n",
              "      <td>16.67</td>\n",
              "      <td>152.20</td>\n",
              "      <td>1575.0</td>\n",
              "      <td>0.1374</td>\n",
              "      <td>0.2050</td>\n",
              "      <td>0.4000</td>\n",
              "      <td>0.1625</td>\n",
              "      <td>0.2364</td>\n",
              "      <td>0.07678</td>\n",
              "    </tr>\n",
              "  </tbody>\n",
              "</table>\n",
              "<p>5 rows × 32 columns</p>\n",
              "</div>\n",
              "      <button class=\"colab-df-convert\" onclick=\"convertToInteractive('df-c7340480-d048-4610-9e26-a4a3a6b3e05b')\"\n",
              "              title=\"Convert this dataframe to an interactive table.\"\n",
              "              style=\"display:none;\">\n",
              "        \n",
              "  <svg xmlns=\"http://www.w3.org/2000/svg\" height=\"24px\"viewBox=\"0 0 24 24\"\n",
              "       width=\"24px\">\n",
              "    <path d=\"M0 0h24v24H0V0z\" fill=\"none\"/>\n",
              "    <path d=\"M18.56 5.44l.94 2.06.94-2.06 2.06-.94-2.06-.94-.94-2.06-.94 2.06-2.06.94zm-11 1L8.5 8.5l.94-2.06 2.06-.94-2.06-.94L8.5 2.5l-.94 2.06-2.06.94zm10 10l.94 2.06.94-2.06 2.06-.94-2.06-.94-.94-2.06-.94 2.06-2.06.94z\"/><path d=\"M17.41 7.96l-1.37-1.37c-.4-.4-.92-.59-1.43-.59-.52 0-1.04.2-1.43.59L10.3 9.45l-7.72 7.72c-.78.78-.78 2.05 0 2.83L4 21.41c.39.39.9.59 1.41.59.51 0 1.02-.2 1.41-.59l7.78-7.78 2.81-2.81c.8-.78.8-2.07 0-2.86zM5.41 20L4 18.59l7.72-7.72 1.47 1.35L5.41 20z\"/>\n",
              "  </svg>\n",
              "      </button>\n",
              "      \n",
              "  <style>\n",
              "    .colab-df-container {\n",
              "      display:flex;\n",
              "      flex-wrap:wrap;\n",
              "      gap: 12px;\n",
              "    }\n",
              "\n",
              "    .colab-df-convert {\n",
              "      background-color: #E8F0FE;\n",
              "      border: none;\n",
              "      border-radius: 50%;\n",
              "      cursor: pointer;\n",
              "      display: none;\n",
              "      fill: #1967D2;\n",
              "      height: 32px;\n",
              "      padding: 0 0 0 0;\n",
              "      width: 32px;\n",
              "    }\n",
              "\n",
              "    .colab-df-convert:hover {\n",
              "      background-color: #E2EBFA;\n",
              "      box-shadow: 0px 1px 2px rgba(60, 64, 67, 0.3), 0px 1px 3px 1px rgba(60, 64, 67, 0.15);\n",
              "      fill: #174EA6;\n",
              "    }\n",
              "\n",
              "    [theme=dark] .colab-df-convert {\n",
              "      background-color: #3B4455;\n",
              "      fill: #D2E3FC;\n",
              "    }\n",
              "\n",
              "    [theme=dark] .colab-df-convert:hover {\n",
              "      background-color: #434B5C;\n",
              "      box-shadow: 0px 1px 3px 1px rgba(0, 0, 0, 0.15);\n",
              "      filter: drop-shadow(0px 1px 2px rgba(0, 0, 0, 0.3));\n",
              "      fill: #FFFFFF;\n",
              "    }\n",
              "  </style>\n",
              "\n",
              "      <script>\n",
              "        const buttonEl =\n",
              "          document.querySelector('#df-c7340480-d048-4610-9e26-a4a3a6b3e05b button.colab-df-convert');\n",
              "        buttonEl.style.display =\n",
              "          google.colab.kernel.accessAllowed ? 'block' : 'none';\n",
              "\n",
              "        async function convertToInteractive(key) {\n",
              "          const element = document.querySelector('#df-c7340480-d048-4610-9e26-a4a3a6b3e05b');\n",
              "          const dataTable =\n",
              "            await google.colab.kernel.invokeFunction('convertToInteractive',\n",
              "                                                     [key], {});\n",
              "          if (!dataTable) return;\n",
              "\n",
              "          const docLinkHtml = 'Like what you see? Visit the ' +\n",
              "            '<a target=\"_blank\" href=https://colab.research.google.com/notebooks/data_table.ipynb>data table notebook</a>'\n",
              "            + ' to learn more about interactive tables.';\n",
              "          element.innerHTML = '';\n",
              "          dataTable['output_type'] = 'display_data';\n",
              "          await google.colab.output.renderOutput(dataTable, element);\n",
              "          const docLink = document.createElement('div');\n",
              "          docLink.innerHTML = docLinkHtml;\n",
              "          element.appendChild(docLink);\n",
              "        }\n",
              "      </script>\n",
              "    </div>\n",
              "  </div>\n",
              "  "
            ]
          },
          "metadata": {},
          "execution_count": 3
        }
      ]
    },
    {
      "cell_type": "markdown",
      "source": [
        "# Logistic Regression - Default"
      ],
      "metadata": {
        "id": "fr7xo25FCfqF"
      }
    },
    {
      "cell_type": "code",
      "source": [
        "#State Features and Target\n",
        "X = df.drop(columns=\"diagnosis\")\n",
        "y = df[\"diagnosis\"]\n",
        "#Train Test Split\n",
        "X_train, X_test, y_train, y_test = train_test_split(X, y, random_state=42)\n",
        "#Instatiate model and preprocessing\n",
        "logreg = LogisticRegression(max_iter=100)\n",
        "scaler = StandardScaler()\n",
        "#Pipe and Fit\n",
        "logreg_pipe = make_pipeline(scaler, logreg)\n",
        "logreg_pipe.fit(X_train, y_train)\n",
        "#Predict\n",
        "train_preds = logreg_pipe.predict(X_train)\n",
        "test_preds = logreg_pipe.predict(X_test)\n",
        "#Evaluate\n",
        "train_score = classification_report(y_train, train_preds)\n",
        "test_score = classification_report(y_test, test_preds)\n",
        "print(f\"Test Scores: {test_score}\")\n",
        "#Confusion Matrix\n",
        "ConfusionMatrixDisplay.from_predictions(y_test, test_preds, normalize=\"true\", cmap=\"Blues\");"
      ],
      "metadata": {
        "colab": {
          "base_uri": "https://localhost:8080/",
          "height": 610
        },
        "id": "HRHvt8lJCfXs",
        "outputId": "69e200a2-8b3e-4f2e-ec10-07284bcc4a18"
      },
      "execution_count": 4,
      "outputs": [
        {
          "output_type": "stream",
          "name": "stdout",
          "text": [
            "Test Scores:               precision    recall  f1-score   support\n",
            "\n",
            "           B       0.99      0.98      0.98        89\n",
            "           M       0.96      0.98      0.97        54\n",
            "\n",
            "    accuracy                           0.98       143\n",
            "   macro avg       0.98      0.98      0.98       143\n",
            "weighted avg       0.98      0.98      0.98       143\n",
            "\n"
          ]
        },
        {
          "output_type": "display_data",
          "data": {
            "text/plain": [
              "<Figure size 640x480 with 2 Axes>"
            ],
            "image/png": "[encoded data removed]"
          },
          "metadata": {}
        }
      ]
    },
    {
      "cell_type": "markdown",
      "source": [
        "## Logistic Regression w/ GridSearchCV"
      ],
      "metadata": {
        "id": "dP7i8HYJMLd9"
      }
    },
    {
      "cell_type": "code",
      "source": [
        "#Getting params for GridSearch's param_grid\n",
        "logreg_pipe.get_params()"
      ],
      "metadata": {
        "colab": {
          "base_uri": "https://localhost:8080/"
        },
        "id": "781zL031OeAB",
        "outputId": "b9c03779-708c-4d3e-a63f-4dbff4ab938c"
      },
      "execution_count": 5,
      "outputs": [
        {
          "output_type": "execute_result",
          "data": {
            "text/plain": [
              "{'memory': None,\n",
              " 'steps': [('standardscaler', StandardScaler()),\n",
              "  ('logisticregression', LogisticRegression())],\n",
              " 'verbose': False,\n",
              " 'standardscaler': StandardScaler(),\n",
              " 'logisticregression': LogisticRegression(),\n",
              " 'standardscaler__copy': True,\n",
              " 'standardscaler__with_mean': True,\n",
              " 'standardscaler__with_std': True,\n",
              " 'logisticregression__C': 1.0,\n",
              " 'logisticregression__class_weight': None,\n",
              " 'logisticregression__dual': False,\n",
              " 'logisticregression__fit_intercept': True,\n",
              " 'logisticregression__intercept_scaling': 1,\n",
              " 'logisticregression__l1_ratio': None,\n",
              " 'logisticregression__max_iter': 100,\n",
              " 'logisticregression__multi_class': 'auto',\n",
              " 'logisticregression__n_jobs': None,\n",
              " 'logisticregression__penalty': 'l2',\n",
              " 'logisticregression__random_state': None,\n",
              " 'logisticregression__solver': 'lbfgs',\n",
              " 'logisticregression__tol': 0.0001,\n",
              " 'logisticregression__verbose': 0,\n",
              " 'logisticregression__warm_start': False}"
            ]
          },
          "metadata": {},
          "execution_count": 5
        }
      ]
    },
    {
      "cell_type": "markdown",
      "source": [
        "---"
      ],
      "metadata": {
        "id": "gee4ICqfNjuH"
      }
    },
    {
      "cell_type": "code",
      "source": [
        "log_reg_pipe = make_pipeline(StandardScaler(), LogisticRegression(max_iter=1000, solver=\"liblinear\"))\n",
        "#State parameters for GridSearchCV\n",
        "pipe_param_grid = {\"logisticregression__C\":[.0001, .001, .01, .1, 1, 10, 100, 1000, 10000],\n",
        "                   \"logisticregression__penalty\":[\"l1\",\"l2\"]}\n",
        "#Instatiate GridSearchCV\n",
        "lg_grid_search = GridSearchCV(log_reg_pipe, pipe_param_grid)\n",
        "#Fit and Train\n",
        "lg_grid_search.fit(X_train, y_train)\n",
        "#Examine the Best Parameters\n",
        "print(lg_grid_search.best_params_)"
      ],
      "metadata": {
        "colab": {
          "base_uri": "https://localhost:8080/"
        },
        "outputId": "ef478e10-dcf3-4d26-faaa-80e4ffc2c5a2",
        "id": "0rxnPLr4NN05"
      },
      "execution_count": 6,
      "outputs": [
        {
          "output_type": "stream",
          "name": "stdout",
          "text": [
            "{'logisticregression__C': 1, 'logisticregression__penalty': 'l2'}\n"
          ]
        }
      ]
    },
    {
      "cell_type": "code",
      "source": [
        "#Instantiate w/ the Best Params\n",
        "log_reg2 = LogisticRegression(C=1, max_iter=1000, solver=\"liblinear\", penalty=\"l2\")\n",
        "scaler = StandardScaler()\n",
        "#Pipe and Fit\n",
        "log_reg_pipe2 = make_pipeline(scaler, log_reg2)\n",
        "log_reg_pipe2.fit(X_train, y_train)\n",
        "#Predict\n",
        "train_preds2 = log_reg_pipe2.predict(X_train)\n",
        "test_preds2 = log_reg_pipe2.predict(X_test)\n",
        "#Evaluate\n",
        "print(classification_report(y_test, test_preds2))\n",
        "#Confusion Matrix\n",
        "ConfusionMatrixDisplay.from_predictions(y_test, test_preds2, normalize=\"true\", cmap=\"Greens\");"
      ],
      "metadata": {
        "colab": {
          "base_uri": "https://localhost:8080/",
          "height": 610
        },
        "id": "xm7utY-BJ9qt",
        "outputId": "f1da2650-590d-4785-dc36-34c825168950"
      },
      "execution_count": 7,
      "outputs": [
        {
          "output_type": "stream",
          "name": "stdout",
          "text": [
            "              precision    recall  f1-score   support\n",
            "\n",
            "           B       0.99      0.98      0.98        89\n",
            "           M       0.96      0.98      0.97        54\n",
            "\n",
            "    accuracy                           0.98       143\n",
            "   macro avg       0.98      0.98      0.98       143\n",
            "weighted avg       0.98      0.98      0.98       143\n",
            "\n"
          ]
        },
        {
          "output_type": "display_data",
          "data": {
            "text/plain": [
              "<Figure size 640x480 with 2 Axes>"
            ],
            "image/png": "[encoded data removed]"
          },
          "metadata": {}
        }
      ]
    },
    {
      "cell_type": "markdown",
      "source": [
        "Which hyperparameters did you tune?\n",
        "```\n",
        "I tuned hyperparameter C and penalty\n",
        "```\n",
        "What values for those hyperparameters led to the best-tuned model?\n",
        "```\n",
        "The values from the default vs. tuned Logistic Regression were the same.\n",
        "```"
      ],
      "metadata": {
        "id": "veNWrPgiMb5n"
      }
    },
    {
      "cell_type": "markdown",
      "source": [
        "#K-Nearest Neighbors - Default"
      ],
      "metadata": {
        "id": "GnnhPiXWV6o5"
      }
    },
    {
      "cell_type": "code",
      "source": [
        "#Instantiate Model\n",
        "knn = KNeighborsClassifier()\n",
        "knn_pipe = make_pipeline(scaler, knn)\n",
        "#Fit and Predict\n",
        "knn_pipe.fit(X_train, y_train)\n",
        "train_preds = knn_pipe.predict(X_train)\n",
        "test_preds = knn_pipe.predict(X_test)\n",
        "#Evaluate\n",
        "print(classification_report(y_test, test_preds))\n",
        "#Confusion Maxtrix\n",
        "ConfusionMatrixDisplay.from_predictions(y_test, test_preds, normalize=\"true\", cmap=\"Blues\");"
      ],
      "metadata": {
        "colab": {
          "base_uri": "https://localhost:8080/",
          "height": 610
        },
        "id": "kd5zopJCV9KP",
        "outputId": "0481579c-1645-43b0-b407-4c43a00b3797"
      },
      "execution_count": 8,
      "outputs": [
        {
          "output_type": "stream",
          "name": "stdout",
          "text": [
            "              precision    recall  f1-score   support\n",
            "\n",
            "           B       0.97      0.97      0.97        89\n",
            "           M       0.94      0.94      0.94        54\n",
            "\n",
            "    accuracy                           0.96       143\n",
            "   macro avg       0.96      0.96      0.96       143\n",
            "weighted avg       0.96      0.96      0.96       143\n",
            "\n"
          ]
        },
        {
          "output_type": "display_data",
          "data": {
            "text/plain": [
              "<Figure size 640x480 with 2 Axes>"
            ],
            "image/png": "[encoded data removed]"
          },
          "metadata": {}
        }
      ]
    },
    {
      "cell_type": "markdown",
      "source": [
        "## KNN w/ GridSearchCV"
      ],
      "metadata": {
        "id": "qnLwDyNvXlUZ"
      }
    },
    {
      "cell_type": "code",
      "source": [
        "#Create KNN pipe\n",
        "knn_pipe = make_pipeline(scaler, knn)\n",
        "knn_pipe.get_params()"
      ],
      "metadata": {
        "colab": {
          "base_uri": "https://localhost:8080/"
        },
        "id": "Mq5ue0-4Xpbe",
        "outputId": "457ef78f-0abd-41d9-f113-bf9f0c23bf1d"
      },
      "execution_count": 9,
      "outputs": [
        {
          "output_type": "execute_result",
          "data": {
            "text/plain": [
              "{'memory': None,\n",
              " 'steps': [('standardscaler', StandardScaler()),\n",
              "  ('kneighborsclassifier', KNeighborsClassifier())],\n",
              " 'verbose': False,\n",
              " 'standardscaler': StandardScaler(),\n",
              " 'kneighborsclassifier': KNeighborsClassifier(),\n",
              " 'standardscaler__copy': True,\n",
              " 'standardscaler__with_mean': True,\n",
              " 'standardscaler__with_std': True,\n",
              " 'kneighborsclassifier__algorithm': 'auto',\n",
              " 'kneighborsclassifier__leaf_size': 30,\n",
              " 'kneighborsclassifier__metric': 'minkowski',\n",
              " 'kneighborsclassifier__metric_params': None,\n",
              " 'kneighborsclassifier__n_jobs': None,\n",
              " 'kneighborsclassifier__n_neighbors': 5,\n",
              " 'kneighborsclassifier__p': 2,\n",
              " 'kneighborsclassifier__weights': 'uniform'}"
            ]
          },
          "metadata": {},
          "execution_count": 9
        }
      ]
    },
    {
      "cell_type": "code",
      "source": [
        "#Set Grid Dictionary\n",
        "pipe_param_grid = {\"kneighborsclassifier__n_neighbors\":range(1,10),\n",
        "                   \"kneighborsclassifier__p\":range(1,5),\n",
        "                   \"kneighborsclassifier__weights\": [\"uniform\", \"distance\"]}\n",
        "#Instantiate GridSearchCV\n",
        "knn_grid_search = GridSearchCV(knn_pipe, pipe_param_grid)\n",
        "#Fit and Predict\n",
        "knn_grid_search.fit(X_train, y_train)\n",
        "train_preds = knn_grid_search.predict(X_train)\n",
        "test_preds = knn_grid_search.predict(X_test)\n",
        "print(knn_grid_search.best_params_)\n",
        "print(classification_report(y_test, test_preds))\n",
        "ConfusionMatrixDisplay.from_predictions(y_test, test_preds, normalize=\"true\", cmap=\"Greens\");"
      ],
      "metadata": {
        "colab": {
          "base_uri": "https://localhost:8080/",
          "height": 628
        },
        "id": "W59h043FYCG4",
        "outputId": "2cb63a88-af37-4d98-a24f-946ba3e86531"
      },
      "execution_count": 15,
      "outputs": [
        {
          "output_type": "stream",
          "name": "stdout",
          "text": [
            "{'kneighborsclassifier__n_neighbors': 5, 'kneighborsclassifier__p': 4, 'kneighborsclassifier__weights': 'uniform'}\n",
            "              precision    recall  f1-score   support\n",
            "\n",
            "           B       0.95      0.97      0.96        89\n",
            "           M       0.94      0.91      0.92        54\n",
            "\n",
            "    accuracy                           0.94       143\n",
            "   macro avg       0.94      0.94      0.94       143\n",
            "weighted avg       0.94      0.94      0.94       143\n",
            "\n"
          ]
        },
        {
          "output_type": "display_data",
          "data": {
            "text/plain": [
              "<Figure size 640x480 with 2 Axes>"
            ],
            "image/png": "[encoded data removed]"
          },
          "metadata": {}
        }
      ]
    },
    {
      "cell_type": "markdown",
      "source": [
        "Which hyperparameters did you tune?\n",
        "```\n",
        "I tuned n_neighbor, weights, and p.\n",
        "```\n",
        "What values for those hyperparameters led to the best-tuned model?\n",
        "```\n",
        "P to value of 4.\n",
        "```"
      ],
      "metadata": {
        "id": "Qa2066O5db-g"
      }
    },
    {
      "cell_type": "markdown",
      "source": [
        "# Random Forest - Default"
      ],
      "metadata": {
        "id": "QYJtHSSZZMnx"
      }
    },
    {
      "cell_type": "code",
      "source": [
        "#Instantiate Model\n",
        "rf = RandomForestClassifier(random_state=42)\n",
        "#Fit the Data\n",
        "rf.fit(X_train, y_train)\n",
        "#Predict the Values for y\n",
        "train_preds = rf.predict(X_train)\n",
        "test_preds = rf.predict(X_test)\n",
        "#Evaluate Model Performance\n",
        "print(classification_report(y_test, test_preds))\n",
        "#Confusion Matrix\n",
        "ConfusionMatrixDisplay.from_predictions(y_test, test_preds, normalize=\"true\", cmap=\"Blues\");"
      ],
      "metadata": {
        "colab": {
          "base_uri": "https://localhost:8080/",
          "height": 610
        },
        "id": "7K8GSSjRbuy0",
        "outputId": "df313121-14d2-424c-caa6-59e374f3998c"
      },
      "execution_count": 13,
      "outputs": [
        {
          "output_type": "stream",
          "name": "stdout",
          "text": [
            "              precision    recall  f1-score   support\n",
            "\n",
            "           B       0.97      0.99      0.98        89\n",
            "           M       0.98      0.94      0.96        54\n",
            "\n",
            "    accuracy                           0.97       143\n",
            "   macro avg       0.97      0.97      0.97       143\n",
            "weighted avg       0.97      0.97      0.97       143\n",
            "\n"
          ]
        },
        {
          "output_type": "display_data",
          "data": {
            "text/plain": [
              "<Figure size 640x480 with 2 Axes>"
            ],
            "image/png": "[encoded data removed]"
          },
          "metadata": {}
        }
      ]
    },
    {
      "cell_type": "markdown",
      "source": [
        "## Random Forest w/ GridSearchCV"
      ],
      "metadata": {
        "id": "-l21VUlJjQq6"
      }
    },
    {
      "cell_type": "code",
      "source": [
        "#Checking the params to adjust\n",
        "rf.get_params()"
      ],
      "metadata": {
        "colab": {
          "base_uri": "https://localhost:8080/"
        },
        "id": "nmExcDPxoK_7",
        "outputId": "fb01ab6b-b831-4eb5-aca7-e721b9022489"
      },
      "execution_count": 16,
      "outputs": [
        {
          "output_type": "execute_result",
          "data": {
            "text/plain": [
              "{'bootstrap': True,\n",
              " 'ccp_alpha': 0.0,\n",
              " 'class_weight': None,\n",
              " 'criterion': 'gini',\n",
              " 'max_depth': None,\n",
              " 'max_features': 'sqrt',\n",
              " 'max_leaf_nodes': None,\n",
              " 'max_samples': None,\n",
              " 'min_impurity_decrease': 0.0,\n",
              " 'min_samples_leaf': 1,\n",
              " 'min_samples_split': 2,\n",
              " 'min_weight_fraction_leaf': 0.0,\n",
              " 'n_estimators': 100,\n",
              " 'n_jobs': None,\n",
              " 'oob_score': False,\n",
              " 'random_state': 42,\n",
              " 'verbose': 0,\n",
              " 'warm_start': False}"
            ]
          },
          "metadata": {},
          "execution_count": 16
        }
      ]
    },
    {
      "cell_type": "code",
      "source": [
        "#Instantiate Model & Set Grid Params\n",
        "rf = RandomForestClassifier(random_state=42)\n",
        "grid_params = {\"max_depth\":range(1,10),\n",
        "               \"min_samples_leaf\": [3,15,20],\n",
        "              \"min_samples_split\": [2, 10, 100]}\n",
        "#Instantiage GridSearchCV\n",
        "rf_grid_search = GridSearchCV(rf, grid_params)\n",
        "#Fit\n",
        "rf_grid_search.fit(X_train, y_train)\n",
        "#Get the Best Param\n",
        "rf_grid_search.best_params_"
      ],
      "metadata": {
        "colab": {
          "base_uri": "https://localhost:8080/"
        },
        "id": "HBpEcSMEjTqr",
        "outputId": "e297d694-7212-46cc-e4d3-28f2c5e32876"
      },
      "execution_count": 37,
      "outputs": [
        {
          "output_type": "execute_result",
          "data": {
            "text/plain": [
              "{'max_depth': 4, 'min_samples_leaf': 3, 'min_samples_split': 10}"
            ]
          },
          "metadata": {},
          "execution_count": 37
        }
      ]
    },
    {
      "cell_type": "code",
      "source": [
        "#Trying out different min_samples_leaf and min_samples_split\n",
        "grid_params2 = {\"max_depth\":range(1,10),\n",
        "                \"min_samples_leaf\":[1,2,3],\n",
        "                \"min_samples_split\":[10, 15, 20, 25, 30]}\n",
        "#Instatiate GridSearchCV\n",
        "rf_grid_search = GridSearchCV(rf, grid_params2)\n",
        "#Fit\n",
        "rf_grid_search.fit(X_train, y_train)\n",
        "#Get best params\n",
        "rf_grid_search.best_params_"
      ],
      "metadata": {
        "colab": {
          "base_uri": "https://localhost:8080/"
        },
        "id": "D3oROV3Ar-Db",
        "outputId": "b41998c1-22a5-4740-c558-3d7e34712956"
      },
      "execution_count": 20,
      "outputs": [
        {
          "output_type": "execute_result",
          "data": {
            "text/plain": [
              "{'max_depth': 6, 'min_samples_leaf': 1, 'min_samples_split': 10}"
            ]
          },
          "metadata": {},
          "execution_count": 20
        }
      ]
    },
    {
      "cell_type": "code",
      "source": [
        "#Instantiate Model\n",
        "rf = RandomForestClassifier(max_depth= 6, min_samples_leaf= 1, min_samples_split= 10, random_state=42)\n",
        "#Fit\n",
        "rf.fit(X_train, y_train)\n",
        "#Predict\n",
        "train_preds = rf.predict(X_train)\n",
        "test_preds = rf.predict(X_test)\n",
        "#Evaluate\n",
        "print(classification_report(y_test, test_preds))\n",
        "#Confusion Matrix\n",
        "ConfusionMatrixDisplay.from_predictions(y_test, test_preds, normalize=\"true\", cmap=\"Greens\");"
      ],
      "metadata": {
        "colab": {
          "base_uri": "https://localhost:8080/",
          "height": 610
        },
        "id": "g93L0TWVxrLz",
        "outputId": "eed0f6dc-800e-4699-c867-9f2c59b21aba"
      },
      "execution_count": 24,
      "outputs": [
        {
          "output_type": "stream",
          "name": "stdout",
          "text": [
            "              precision    recall  f1-score   support\n",
            "\n",
            "           B       0.97      0.99      0.98        89\n",
            "           M       0.98      0.94      0.96        54\n",
            "\n",
            "    accuracy                           0.97       143\n",
            "   macro avg       0.97      0.97      0.97       143\n",
            "weighted avg       0.97      0.97      0.97       143\n",
            "\n"
          ]
        },
        {
          "output_type": "display_data",
          "data": {
            "text/plain": [
              "<Figure size 640x480 with 2 Axes>"
            ],
            "image/png": "[encoded data removed]"
          },
          "metadata": {}
        }
      ]
    },
    {
      "cell_type": "markdown",
      "source": [
        "Which hyperparameters did you tune?\n",
        "```\n",
        "I tuned max_depth, min_samples_split, and min_samples_leaf.\n",
        "```\n",
        "What values for those hyperparameters led to the best-tuned model?\n",
        "```\n",
        "Adjusting the max_depth to 6 and min_sample_split to 10\n",
        "```"
      ],
      "metadata": {
        "id": "tkrk5psV_0Vd"
      }
    },
    {
      "cell_type": "markdown",
      "source": [
        "What do 'false positives' and 'false negatives' mean for this problem? Which is worse?\n",
        "```\n",
        "False Negatives are more problematic (than False Positives) because these patients **should** be treated.\n",
        "Usually with diaseases the earlier they are diagnosed the better chance of overcoming.\n",
        "```\n",
        "Which of your models would you recommend for production? Which metric or metrics did you use to decide that, and why?\n",
        "```\n",
        "The Logistic Regression model should be used for production due to having the best overall classification metrics\n",
        "(recall, precision, accuracy, f1 score).\n",
        "It has the lowest False Negative rates, consisting of 1% of misdiagnosis.\n",
        "```\n"
      ],
      "metadata": {
        "id": "x4uVBoN_AZZP"
      }
    }
  ]
}