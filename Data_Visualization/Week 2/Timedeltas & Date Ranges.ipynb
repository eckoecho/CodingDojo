{
 "cells": [
  {
   "cell_type": "markdown",
   "id": "fe7b685c",
   "metadata": {},
   "source": [
    "* Timedeltas: calculating a change in time.\n",
    "* date_ranges: creating equally spaced intervals\n",
    "\n",
    "# Panda's Timedeltas\n"
   ]
  },
  {
   "cell_type": "code",
   "execution_count": 1,
   "id": "65930ba5",
   "metadata": {},
   "outputs": [],
   "source": [
    "import pandas as pd\n",
    "url=\"https://docs.google.com/spreadsheets/d/e/2PACX-1vQcpVvVioO23cndDwr1UmKhndrSq6ES6ZUKZ4fkBBqIAavd1_coVPO_yeOye-Ub-cAWlkX3psJvOU8o/pub?output=csv\"\n",
    "df = pd.read_csv(url)\n",
    "df['datetime'] = pd.to_datetime(df['date'])"
   ]
  },
  {
   "cell_type": "code",
   "execution_count": 2,
   "id": "059a6490",
   "metadata": {},
   "outputs": [],
   "source": [
    "# Set the datetime column as the index:\n",
    "df = df.set_index(\"datetime\")"
   ]
  },
  {
   "cell_type": "markdown",
   "id": "5312f514",
   "metadata": {},
   "source": [
    "Using `pd.to_timedelta`:\n",
    "The first Argument is the number of time steps (e.g. 30).\n",
    "Unit: the unit of time (e.g. \"D\").\n",
    "Possible values:\n",
    "* ‘W’\n",
    "* ‘D’ / ‘days’ / ‘day’,\n",
    "* ‘hours’ / ‘hour’ / ‘hr’ / ‘h’,\n",
    "* ‘m’ / ‘minute’ / ‘min’ / ‘minutes’ / ‘T’\n",
    "* ‘S’ / ‘seconds’ / ‘sec’ / ‘second’\n",
    "* ‘ms’ / ‘milliseconds’ / ‘millisecond’ / ‘milli’ / ‘millis’ / ‘L’\n",
    "* ‘us’ / ‘microseconds’ / ‘microsecond’ / ‘micro’ / ‘micros’ / ‘U’\n",
    "* ‘ns’ / ‘nanoseconds’ / ‘nano’ / ‘nanos’ / ‘nanosecond’ / ‘N’"
   ]
  },
  {
   "cell_type": "code",
   "execution_count": 6,
   "id": "960b4140",
   "metadata": {},
   "outputs": [
    {
     "data": {
      "text/plain": [
       "Timedelta('3 days 00:00:00')"
      ]
     },
     "execution_count": 6,
     "metadata": {},
     "output_type": "execute_result"
    }
   ],
   "source": [
    "# make the time delta\n",
    "delta_3d = pd.to_timedelta(3,\"D\")\n",
    "delta_3d\n"
   ]
  },
  {
   "cell_type": "markdown",
   "id": "f3e1aa7c",
   "metadata": {},
   "source": [
    "For the most humid day in the weather data, what was the average wind speed over the 3 days prior and the 3 days after the most humid day?\n"
   ]
  },
  {
   "cell_type": "code",
   "execution_count": 9,
   "id": "2fd95845",
   "metadata": {},
   "outputs": [
    {
     "name": "stdout",
     "output_type": "stream",
     "text": [
      "2017-01-01 00:00:00\n"
     ]
    },
    {
     "data": {
      "text/plain": [
       "Timestamp('2016-12-29 00:00:00')"
      ]
     },
     "execution_count": 9,
     "metadata": {},
     "output_type": "execute_result"
    }
   ],
   "source": [
    "max_date = df[\"humidity\"].idxmax()\n",
    "# calc 3 days BEFORE\n",
    "print(max_date)\n",
    "pre_max = max_date - delta_3d\n",
    "pre_max"
   ]
  },
  {
   "cell_type": "code",
   "execution_count": 10,
   "id": "98c24580",
   "metadata": {},
   "outputs": [
    {
     "data": {
      "text/plain": [
       "Timestamp('2017-01-04 00:00:00')"
      ]
     },
     "execution_count": 10,
     "metadata": {},
     "output_type": "execute_result"
    }
   ],
   "source": [
    "# calc 3 days AFTER\n",
    "post_max = max_date + delta_3d\n",
    "post_max"
   ]
  },
  {
   "cell_type": "markdown",
   "id": "104d1557",
   "metadata": {},
   "source": [
    "Now that we have our pre and post dates, we can obtain average windspeed by setting those dates as the range and calculating the mean:"
   ]
  },
  {
   "cell_type": "code",
   "execution_count": 11,
   "id": "114973d6",
   "metadata": {},
   "outputs": [
    {
     "data": {
      "text/plain": [
       "4.89791666675"
      ]
     },
     "execution_count": 11,
     "metadata": {},
     "output_type": "execute_result"
    }
   ],
   "source": [
    "mean_windspeed = df.loc[pre_max:post_max, \"wind_speed\"].mean()\n",
    "mean_windspeed"
   ]
  },
  {
   "cell_type": "markdown",
   "id": "6c22c268",
   "metadata": {},
   "source": [
    "# pd.date_range\n",
    "\n",
    "Another option is to store our range of dates as a variable using pd.date_range."
   ]
  },
  {
   "cell_type": "code",
   "execution_count": 13,
   "id": "f7e20da8",
   "metadata": {},
   "outputs": [
    {
     "data": {
      "text/plain": [
       "DatetimeIndex(['2016-12-29', '2016-12-30', '2016-12-31', '2017-01-01',\n",
       "               '2017-01-02', '2017-01-03', '2017-01-04'],\n",
       "              dtype='datetime64[ns]', freq='D')"
      ]
     },
     "execution_count": 13,
     "metadata": {},
     "output_type": "execute_result"
    }
   ],
   "source": [
    "## making a date range to cover the pre-max to post-max window\n",
    "date_range = pd.date_range(pre_max, post_max)\n",
    "date_range"
   ]
  },
  {
   "cell_type": "code",
   "execution_count": null,
   "id": "e9fc929f",
   "metadata": {},
   "outputs": [],
   "source": [
    "# this will give an error\n",
    "df.loc[date_range,'wind_speed'].mean()"
   ]
  },
  {
   "cell_type": "markdown",
   "id": "e5b93134",
   "metadata": {},
   "source": [
    "This did not cause an error when just using .loc with our pre and post dates because using the range within .loc will just pull any dates that fall within the range, rather than a list of each date in the range.\n",
    "\n"
   ]
  },
  {
   "cell_type": "code",
   "execution_count": 14,
   "id": "af405bcb",
   "metadata": {},
   "outputs": [
    {
     "data": {
      "text/plain": [
       "datetime\n",
       "2016-12-29    6.000000\n",
       "2016-12-30    6.266667\n",
       "2016-12-31    7.325000\n",
       "2017-01-01    0.000000\n",
       "Name: wind_speed, dtype: float64"
      ]
     },
     "execution_count": 14,
     "metadata": {},
     "output_type": "execute_result"
    }
   ],
   "source": [
    "df.loc[pre_max:post_max, \"wind_speed\"]"
   ]
  }
 ],
 "metadata": {
  "kernelspec": {
   "display_name": "Python (dojo-env)",
   "language": "python",
   "name": "dojo-env"
  },
  "language_info": {
   "codemirror_mode": {
    "name": "ipython",
    "version": 3
   },
   "file_extension": ".py",
   "mimetype": "text/x-python",
   "name": "python",
   "nbconvert_exporter": "python",
   "pygments_lexer": "ipython3",
   "version": "3.9.15"
  },
  "toc": {
   "base_numbering": 1,
   "nav_menu": {},
   "number_sections": true,
   "sideBar": true,
   "skip_h1_title": false,
   "title_cell": "Table of Contents",
   "title_sidebar": "Contents",
   "toc_cell": false,
   "toc_position": {},
   "toc_section_display": true,
   "toc_window_display": false
  },
  "varInspector": {
   "cols": {
    "lenName": 16,
    "lenType": 16,
    "lenVar": 40
   },
   "kernels_config": {
    "python": {
     "delete_cmd_postfix": "",
     "delete_cmd_prefix": "del ",
     "library": "var_list.py",
     "varRefreshCmd": "print(var_dic_list())"
    },
    "r": {
     "delete_cmd_postfix": ") ",
     "delete_cmd_prefix": "rm(",
     "library": "var_list.r",
     "varRefreshCmd": "cat(var_dic_list()) "
    }
   },
   "types_to_exclude": [
    "module",
    "function",
    "builtin_function_or_method",
    "instance",
    "_Feature"
   ],
   "window_display": false
  }
 },
 "nbformat": 4,
 "nbformat_minor": 5
}
