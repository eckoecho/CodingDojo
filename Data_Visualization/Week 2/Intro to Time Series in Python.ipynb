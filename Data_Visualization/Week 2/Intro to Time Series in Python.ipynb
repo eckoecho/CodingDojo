{
 "cells": [
  {
   "cell_type": "code",
   "execution_count": 1,
   "id": "be778c4d",
   "metadata": {},
   "outputs": [],
   "source": [
    "import datetime as dt"
   ]
  },
  {
   "cell_type": "code",
   "execution_count": 2,
   "id": "ad65a15c",
   "metadata": {},
   "outputs": [
    {
     "data": {
      "text/plain": [
       "datetime.datetime(2023, 8, 27, 18, 18, 45, 724275)"
      ]
     },
     "execution_count": 2,
     "metadata": {},
     "output_type": "execute_result"
    }
   ],
   "source": [
    "## You can obtain the current date and time with .now()\n",
    "now = dt.datetime.now()\n",
    "now"
   ]
  },
  {
   "cell_type": "code",
   "execution_count": 4,
   "id": "3d9de442",
   "metadata": {},
   "outputs": [
    {
     "data": {
      "text/plain": [
       "27"
      ]
     },
     "execution_count": 4,
     "metadata": {},
     "output_type": "execute_result"
    }
   ],
   "source": [
    "# extract each of these individual pieces of the date and time as attributes:\n",
    "# .year, .day, .month\n",
    "now.day"
   ]
  },
  {
   "cell_type": "markdown",
   "id": "093a9e10",
   "metadata": {},
   "source": [
    "# Datetime Formatting\n",
    "\n",
    "## Displayed\n"
   ]
  },
  {
   "cell_type": "code",
   "execution_count": 5,
   "id": "51059c97",
   "metadata": {},
   "outputs": [
    {
     "data": {
      "text/plain": [
       "datetime.datetime(2023, 8, 27, 18, 18, 45, 724275)"
      ]
     },
     "metadata": {},
     "output_type": "display_data"
    }
   ],
   "source": [
    "## When datetime variables are displayed, we see all of the individual pieces of the date as a list.\n",
    "display(now)"
   ]
  },
  {
   "cell_type": "code",
   "execution_count": 8,
   "id": "092238d1",
   "metadata": {},
   "outputs": [
    {
     "data": {
      "text/plain": [
       "datetime.datetime(2023, 8, 27, 18, 18, 45, 724275)"
      ]
     },
     "execution_count": 8,
     "metadata": {},
     "output_type": "execute_result"
    }
   ],
   "source": [
    "now"
   ]
  },
  {
   "cell_type": "markdown",
   "id": "7692fa51",
   "metadata": {},
   "source": [
    "## Printed\n",
    "\n",
    "{4 digit year}-{2 digit month}-{2 digit day} {hour in 24 hour time}:{minute}:{seconds}.{microseconds}"
   ]
  },
  {
   "cell_type": "code",
   "execution_count": 9,
   "id": "e6900079",
   "metadata": {},
   "outputs": [
    {
     "name": "stdout",
     "output_type": "stream",
     "text": [
      "2023-08-27 18:18:45.724275\n"
     ]
    }
   ],
   "source": [
    "print(now)"
   ]
  },
  {
   "cell_type": "markdown",
   "id": "22185770",
   "metadata": {},
   "source": [
    "## `Datetime.strftime` Options\n",
    "\n",
    "### For the day of the month"
   ]
  },
  {
   "cell_type": "code",
   "execution_count": 11,
   "id": "e2c5a1d9",
   "metadata": {},
   "outputs": [
    {
     "data": {
      "text/plain": [
       "'27'"
      ]
     },
     "execution_count": 11,
     "metadata": {},
     "output_type": "execute_result"
    }
   ],
   "source": [
    "# %d: 0-padded 2-digit day of the month (e.g. 01, 12, 26, etc)\n",
    "format_a = \"%d\"\n",
    "now.strftime(format_a)"
   ]
  },
  {
   "cell_type": "markdown",
   "id": "75589898",
   "metadata": {},
   "source": [
    "### For month\n",
    "\n",
    "A few options are:\n",
    "\n",
    "* %B: full month name (e.g. January, February)\n",
    "* %b: abbreviated month name (e.g. Jan, Feb, etc)\n",
    "* %m: 0-padded 2-digit month of the year (e.g. 01,06,11,12)"
   ]
  },
  {
   "cell_type": "code",
   "execution_count": 12,
   "id": "eb57e231",
   "metadata": {},
   "outputs": [
    {
     "data": {
      "text/plain": [
       "'August 27'"
      ]
     },
     "execution_count": 12,
     "metadata": {},
     "output_type": "execute_result"
    }
   ],
   "source": [
    "# Add full month name to day of month\n",
    "format_b = \"%B %d\"\n",
    "now.strftime(format_b)"
   ]
  },
  {
   "cell_type": "markdown",
   "id": "c0689914",
   "metadata": {},
   "source": [
    "### For the day of the week\n",
    "\n",
    "%a: Weekday as the locale’s abbreviated name. (e.g. \"Sun, Mon\")"
   ]
  },
  {
   "cell_type": "code",
   "execution_count": 13,
   "id": "81724bd0",
   "metadata": {},
   "outputs": [
    {
     "data": {
      "text/plain": [
       "'Sun, August, 27'"
      ]
     },
     "execution_count": 13,
     "metadata": {},
     "output_type": "execute_result"
    }
   ],
   "source": [
    "# Add day of the week to month and day\n",
    "format_c = \"%a, %B, %d\"\n",
    "now.strftime(format_c)"
   ]
  },
  {
   "cell_type": "markdown",
   "id": "a8aa71d2",
   "metadata": {},
   "source": [
    "### For the year\n",
    "\n",
    "\n",
    "A few options include:\n",
    "\n",
    "* %Y: 4-digit year (2000, 2022, etc)\n",
    "* %y: 2-digit 0-padded year without century (eg. 00,22, etc)"
   ]
  },
  {
   "cell_type": "code",
   "execution_count": 14,
   "id": "90d3fdde",
   "metadata": {},
   "outputs": [
    {
     "data": {
      "text/plain": [
       "'Aug 23'"
      ]
     },
     "execution_count": 14,
     "metadata": {},
     "output_type": "execute_result"
    }
   ],
   "source": [
    "# include abbreviated month and 2 digit year\n",
    "format_d = \"%b %y\"\n",
    "now.strftime(format_d)"
   ]
  },
  {
   "cell_type": "markdown",
   "id": "c518f3b8",
   "metadata": {},
   "source": [
    "### For Time\n",
    "\n",
    "\n",
    "For quick/easy 24-hour military time with minutes and seconds:\n",
    "* %T (e.g. 17:04:49)\n",
    "\n",
    "For the hour of the day:\n",
    "* %H: 0-padded 24-hour time (e.g. 01, 12, 13,23)\n",
    "* %I: 0-padded 12-hour time (e.g. 01, 12, 01, 11)\n",
    "* %p: AM/PM\n",
    "\n",
    "For minutes:\n",
    "* %M: 0-padded 2-digit minutes\n",
    "* For seconds:\n",
    "* %S"
   ]
  },
  {
   "cell_type": "code",
   "execution_count": 15,
   "id": "3690f6ba",
   "metadata": {},
   "outputs": [
    {
     "name": "stdout",
     "output_type": "stream",
     "text": [
      "2023-08-27 18:18:45.724275\n"
     ]
    },
    {
     "data": {
      "text/plain": [
       "'2023-08-27 18:18:45.724275'"
      ]
     },
     "execution_count": 15,
     "metadata": {},
     "output_type": "execute_result"
    }
   ],
   "source": [
    "## the default datetime format\n",
    "default = \"%Y-%m-%d %H:%M:%S.%f\"\n",
    "print(now)\n",
    "now.strftime(default)"
   ]
  },
  {
   "cell_type": "code",
   "execution_count": 16,
   "id": "7632678c",
   "metadata": {},
   "outputs": [
    {
     "data": {
      "text/plain": [
       "'08/27/2023 06:18:45 PM'"
      ]
     },
     "execution_count": 16,
     "metadata": {},
     "output_type": "execute_result"
    }
   ],
   "source": [
    "# date with slashs between and add the 12-hour time with AM or PM\n",
    "fmt = \"%m/%d/%Y %I:%M:%S %p\"\n",
    "now.strftime(fmt)"
   ]
  },
  {
   "cell_type": "code",
   "execution_count": 17,
   "id": "c5469e74",
   "metadata": {},
   "outputs": [
    {
     "data": {
      "text/plain": [
       "'18:18:45'"
      ]
     },
     "execution_count": 17,
     "metadata": {},
     "output_type": "execute_result"
    }
   ],
   "source": [
    "#24-hour time with no date\n",
    "now.strftime(\"%T\")"
   ]
  }
 ],
 "metadata": {
  "kernelspec": {
   "display_name": "Python (dojo-env)",
   "language": "python",
   "name": "dojo-env"
  },
  "language_info": {
   "codemirror_mode": {
    "name": "ipython",
    "version": 3
   },
   "file_extension": ".py",
   "mimetype": "text/x-python",
   "name": "python",
   "nbconvert_exporter": "python",
   "pygments_lexer": "ipython3",
   "version": "3.9.15"
  },
  "toc": {
   "base_numbering": 1,
   "nav_menu": {},
   "number_sections": true,
   "sideBar": true,
   "skip_h1_title": false,
   "title_cell": "Table of Contents",
   "title_sidebar": "Contents",
   "toc_cell": false,
   "toc_position": {},
   "toc_section_display": true,
   "toc_window_display": true
  },
  "varInspector": {
   "cols": {
    "lenName": 16,
    "lenType": 16,
    "lenVar": 40
   },
   "kernels_config": {
    "python": {
     "delete_cmd_postfix": "",
     "delete_cmd_prefix": "del ",
     "library": "var_list.py",
     "varRefreshCmd": "print(var_dic_list())"
    },
    "r": {
     "delete_cmd_postfix": ") ",
     "delete_cmd_prefix": "rm(",
     "library": "var_list.r",
     "varRefreshCmd": "cat(var_dic_list()) "
    }
   },
   "types_to_exclude": [
    "module",
    "function",
    "builtin_function_or_method",
    "instance",
    "_Feature"
   ],
   "window_display": false
  }
 },
 "nbformat": 4,
 "nbformat_minor": 5
}
